{
 "cells": [
  {
   "cell_type": "code",
   "execution_count": 1,
   "id": "d1eac15d",
   "metadata": {},
   "outputs": [],
   "source": [
    "import numpy as np\n",
    "import pandas as pd\n",
    "import matplotlib.pyplot as plt\n",
    "%matplotlib inline\n",
    "#add other imports as needed"
   ]
  },
  {
   "cell_type": "code",
   "execution_count": 2,
   "id": "e51e8486",
   "metadata": {},
   "outputs": [],
   "source": [
    "import os"
   ]
  },
  {
   "cell_type": "code",
   "execution_count": 3,
   "id": "1898851f",
   "metadata": {},
   "outputs": [],
   "source": [
    "import platform\n",
    "\n",
    "# Set file location based on platform. \n",
    "platstring = platform.platform()\n",
    "if ('Darwin' in platstring) or ('macOS' in platstring):\n",
    "    # macOS \n",
    "    data_root = \"/Volumes/TReND2024/\"\n",
    "elif 'Windows'  in platstring:\n",
    "    # Windows (replace with the drive letter of USB drive)\n",
    "    data_root = \"E:/\"\n",
    "elif ('amzn' in platstring):\n",
    "    # then on Code Ocean\n",
    "    data_root = \"/data/\"\n",
    "else:\n",
    "    # then your own linux platform\n",
    "    # EDIT location where you mounted hard drive\n",
    "    data_root = \"/media/$USERNAME/TReND2024/\""
   ]
  },
  {
   "cell_type": "code",
   "execution_count": 4,
   "id": "89d9ead4",
   "metadata": {},
   "outputs": [],
   "source": [
    "from allensdk.core.brain_observatory_cache import BrainObservatoryCache\n",
    "\n",
    "manifest_file = os.path.join(data_root,'allen-brain-observatory/visual-coding-2p/manifest.json')\n",
    "\n",
    "boc = BrainObservatoryCache(manifest_file=manifest_file)"
   ]
  },
  {
   "cell_type": "markdown",
   "id": "d8f658c1",
   "metadata": {},
   "source": [
    "Use code below to access Neuropixels data set. This is electrophysiological data. It is very similar to the data set we demonstrated, but has important differences, both in the science and in the access methods used in the python tools."
   ]
  },
  {
   "cell_type": "code",
   "execution_count": 5,
   "id": "f933f4b5",
   "metadata": {},
   "outputs": [
    {
     "name": "stderr",
     "output_type": "stream",
     "text": [
      "/opt/conda/lib/python3.8/site-packages/tqdm/auto.py:21: TqdmWarning: IProgress not found. Please update jupyter and ipywidgets. See https://ipywidgets.readthedocs.io/en/stable/user_install.html\n",
      "  from .autonotebook import tqdm as notebook_tqdm\n"
     ]
    }
   ],
   "source": [
    "from allensdk.brain_observatory.ecephys.ecephys_project_cache import EcephysProjectCache\n",
    "\n",
    "manifest_path = os.path.join(data_root,'allen-brain-observatory/visual-coding-neuropixels/ecephys-cache/manifest.json') \n",
    "\n",
    "cache = EcephysProjectCache.from_warehouse(manifest=manifest_path)"
   ]
  },
  {
   "cell_type": "code",
   "execution_count": 6,
   "id": "26d6b908",
   "metadata": {},
   "outputs": [
    {
     "data": {
      "text/plain": [
       "['VISal', 'VISam', 'VISl', 'VISp', 'VISpm', 'VISrl']"
      ]
     },
     "execution_count": 6,
     "metadata": {},
     "output_type": "execute_result"
    }
   ],
   "source": [
    "areas = boc.get_all_targeted_structures()\n",
    "areas"
   ]
  },
  {
   "cell_type": "code",
   "execution_count": 7,
   "id": "8cc81c10",
   "metadata": {},
   "outputs": [
    {
     "data": {
      "text/plain": [
       "['Cux2-CreERT2',\n",
       " 'Emx1-IRES-Cre',\n",
       " 'Fezf2-CreER',\n",
       " 'Nr5a1-Cre',\n",
       " 'Ntsr1-Cre_GN220',\n",
       " 'Pvalb-IRES-Cre',\n",
       " 'Rbp4-Cre_KL100',\n",
       " 'Rorb-IRES2-Cre',\n",
       " 'Scnn1a-Tg3-Cre',\n",
       " 'Slc17a7-IRES2-Cre',\n",
       " 'Sst-IRES-Cre',\n",
       " 'Tlx3-Cre_PL56',\n",
       " 'Vip-IRES-Cre']"
      ]
     },
     "execution_count": 7,
     "metadata": {},
     "output_type": "execute_result"
    }
   ],
   "source": [
    "cre_lines = boc.get_all_cre_lines()\n",
    "cre_lines"
   ]
  },
  {
   "cell_type": "code",
   "execution_count": 8,
   "id": "b2162363",
   "metadata": {},
   "outputs": [
    {
     "data": {
      "text/html": [
       "<div>\n",
       "<style scoped>\n",
       "    .dataframe tbody tr th:only-of-type {\n",
       "        vertical-align: middle;\n",
       "    }\n",
       "\n",
       "    .dataframe tbody tr th {\n",
       "        vertical-align: top;\n",
       "    }\n",
       "\n",
       "    .dataframe thead th {\n",
       "        text-align: right;\n",
       "    }\n",
       "</style>\n",
       "<table border=\"1\" class=\"dataframe\">\n",
       "  <thead>\n",
       "    <tr style=\"text-align: right;\">\n",
       "      <th></th>\n",
       "      <th>VISal</th>\n",
       "      <th>VISam</th>\n",
       "      <th>VISl</th>\n",
       "      <th>VISp</th>\n",
       "      <th>VISpm</th>\n",
       "      <th>VISrl</th>\n",
       "    </tr>\n",
       "  </thead>\n",
       "  <tbody>\n",
       "    <tr>\n",
       "      <th>Cux2-CreERT2</th>\n",
       "      <td>13</td>\n",
       "      <td>11</td>\n",
       "      <td>11</td>\n",
       "      <td>16</td>\n",
       "      <td>13</td>\n",
       "      <td>12</td>\n",
       "    </tr>\n",
       "    <tr>\n",
       "      <th>Emx1-IRES-Cre</th>\n",
       "      <td>7</td>\n",
       "      <td>3</td>\n",
       "      <td>8</td>\n",
       "      <td>10</td>\n",
       "      <td>4</td>\n",
       "      <td>9</td>\n",
       "    </tr>\n",
       "    <tr>\n",
       "      <th>Fezf2-CreER</th>\n",
       "      <td>0</td>\n",
       "      <td>0</td>\n",
       "      <td>5</td>\n",
       "      <td>4</td>\n",
       "      <td>0</td>\n",
       "      <td>0</td>\n",
       "    </tr>\n",
       "    <tr>\n",
       "      <th>Nr5a1-Cre</th>\n",
       "      <td>6</td>\n",
       "      <td>6</td>\n",
       "      <td>6</td>\n",
       "      <td>8</td>\n",
       "      <td>7</td>\n",
       "      <td>6</td>\n",
       "    </tr>\n",
       "    <tr>\n",
       "      <th>Ntsr1-Cre_GN220</th>\n",
       "      <td>0</td>\n",
       "      <td>0</td>\n",
       "      <td>7</td>\n",
       "      <td>6</td>\n",
       "      <td>5</td>\n",
       "      <td>0</td>\n",
       "    </tr>\n",
       "    <tr>\n",
       "      <th>Pvalb-IRES-Cre</th>\n",
       "      <td>0</td>\n",
       "      <td>0</td>\n",
       "      <td>5</td>\n",
       "      <td>16</td>\n",
       "      <td>0</td>\n",
       "      <td>0</td>\n",
       "    </tr>\n",
       "    <tr>\n",
       "      <th>Rbp4-Cre_KL100</th>\n",
       "      <td>6</td>\n",
       "      <td>8</td>\n",
       "      <td>7</td>\n",
       "      <td>7</td>\n",
       "      <td>6</td>\n",
       "      <td>4</td>\n",
       "    </tr>\n",
       "    <tr>\n",
       "      <th>Rorb-IRES2-Cre</th>\n",
       "      <td>6</td>\n",
       "      <td>8</td>\n",
       "      <td>6</td>\n",
       "      <td>8</td>\n",
       "      <td>7</td>\n",
       "      <td>5</td>\n",
       "    </tr>\n",
       "    <tr>\n",
       "      <th>Scnn1a-Tg3-Cre</th>\n",
       "      <td>0</td>\n",
       "      <td>0</td>\n",
       "      <td>0</td>\n",
       "      <td>9</td>\n",
       "      <td>0</td>\n",
       "      <td>0</td>\n",
       "    </tr>\n",
       "    <tr>\n",
       "      <th>Slc17a7-IRES2-Cre</th>\n",
       "      <td>2</td>\n",
       "      <td>2</td>\n",
       "      <td>19</td>\n",
       "      <td>60</td>\n",
       "      <td>15</td>\n",
       "      <td>2</td>\n",
       "    </tr>\n",
       "    <tr>\n",
       "      <th>Sst-IRES-Cre</th>\n",
       "      <td>1</td>\n",
       "      <td>0</td>\n",
       "      <td>17</td>\n",
       "      <td>30</td>\n",
       "      <td>14</td>\n",
       "      <td>2</td>\n",
       "    </tr>\n",
       "    <tr>\n",
       "      <th>Tlx3-Cre_PL56</th>\n",
       "      <td>0</td>\n",
       "      <td>0</td>\n",
       "      <td>3</td>\n",
       "      <td>6</td>\n",
       "      <td>0</td>\n",
       "      <td>0</td>\n",
       "    </tr>\n",
       "    <tr>\n",
       "      <th>Vip-IRES-Cre</th>\n",
       "      <td>0</td>\n",
       "      <td>0</td>\n",
       "      <td>24</td>\n",
       "      <td>36</td>\n",
       "      <td>16</td>\n",
       "      <td>0</td>\n",
       "    </tr>\n",
       "  </tbody>\n",
       "</table>\n",
       "</div>"
      ],
      "text/plain": [
       "                  VISal VISam VISl VISp VISpm VISrl\n",
       "Cux2-CreERT2         13    11   11   16    13    12\n",
       "Emx1-IRES-Cre         7     3    8   10     4     9\n",
       "Fezf2-CreER           0     0    5    4     0     0\n",
       "Nr5a1-Cre             6     6    6    8     7     6\n",
       "Ntsr1-Cre_GN220       0     0    7    6     5     0\n",
       "Pvalb-IRES-Cre        0     0    5   16     0     0\n",
       "Rbp4-Cre_KL100        6     8    7    7     6     4\n",
       "Rorb-IRES2-Cre        6     8    6    8     7     5\n",
       "Scnn1a-Tg3-Cre        0     0    0    9     0     0\n",
       "Slc17a7-IRES2-Cre     2     2   19   60    15     2\n",
       "Sst-IRES-Cre          1     0   17   30    14     2\n",
       "Tlx3-Cre_PL56         0     0    3    6     0     0\n",
       "Vip-IRES-Cre          0     0   24   36    16     0"
      ]
     },
     "execution_count": 8,
     "metadata": {},
     "output_type": "execute_result"
    }
   ],
   "source": [
    "#create an empty dataframe with colums as areas and index as cre_lines\n",
    "df = pd.DataFrame(columns=areas,index=cre_lines)\n",
    "\n",
    "#populate the dataframe with the number of experiment containers for each combination\n",
    "for cre in cre_lines:\n",
    "    for area in areas:\n",
    "        exps = boc.get_experiment_containers(targeted_structures=[area],cre_lines=[cre])\n",
    "        df[area].loc[cre] =len(exps)\n",
    "\n",
    "#look at dataframe\n",
    "df"
   ]
  },
  {
   "cell_type": "code",
   "execution_count": 9,
   "id": "46efd2d4",
   "metadata": {},
   "outputs": [],
   "source": [
    "visual_area = areas[3]"
   ]
  },
  {
   "cell_type": "code",
   "execution_count": 10,
   "id": "9ba64a3a",
   "metadata": {},
   "outputs": [
    {
     "data": {
      "text/html": [
       "<div>\n",
       "<style scoped>\n",
       "    .dataframe tbody tr th:only-of-type {\n",
       "        vertical-align: middle;\n",
       "    }\n",
       "\n",
       "    .dataframe tbody tr th {\n",
       "        vertical-align: top;\n",
       "    }\n",
       "\n",
       "    .dataframe thead th {\n",
       "        text-align: right;\n",
       "    }\n",
       "</style>\n",
       "<table border=\"1\" class=\"dataframe\">\n",
       "  <thead>\n",
       "    <tr style=\"text-align: right;\">\n",
       "      <th></th>\n",
       "      <th>id</th>\n",
       "      <th>imaging_depth</th>\n",
       "      <th>targeted_structure</th>\n",
       "      <th>cre_line</th>\n",
       "      <th>reporter_line</th>\n",
       "      <th>donor_name</th>\n",
       "      <th>specimen_name</th>\n",
       "      <th>tags</th>\n",
       "      <th>failed</th>\n",
       "    </tr>\n",
       "  </thead>\n",
       "  <tbody>\n",
       "    <tr>\n",
       "      <th>0</th>\n",
       "      <td>803589437</td>\n",
       "      <td>175</td>\n",
       "      <td>VISp</td>\n",
       "      <td>Slc17a7-IRES2-Cre</td>\n",
       "      <td>Ai93(TITL-GCaMP6f)</td>\n",
       "      <td>425496</td>\n",
       "      <td>Slc17a7-IRES2-Cre;Camk2a-tTA;Ai93-425496</td>\n",
       "      <td>[]</td>\n",
       "      <td>False</td>\n",
       "    </tr>\n",
       "    <tr>\n",
       "      <th>1</th>\n",
       "      <td>661437138</td>\n",
       "      <td>175</td>\n",
       "      <td>VISp</td>\n",
       "      <td>Slc17a7-IRES2-Cre</td>\n",
       "      <td>Ai93(TITL-GCaMP6f)</td>\n",
       "      <td>365251</td>\n",
       "      <td>Slc17a7-IRES2-Cre;Camk2a-tTA;Ai93-365251</td>\n",
       "      <td>[]</td>\n",
       "      <td>False</td>\n",
       "    </tr>\n",
       "    <tr>\n",
       "      <th>2</th>\n",
       "      <td>511510736</td>\n",
       "      <td>175</td>\n",
       "      <td>VISp</td>\n",
       "      <td>Cux2-CreERT2</td>\n",
       "      <td>Ai93(TITL-GCaMP6f)</td>\n",
       "      <td>222426</td>\n",
       "      <td>Cux2-CreERT2;Camk2a-tTA;Ai93-222426</td>\n",
       "      <td>[]</td>\n",
       "      <td>False</td>\n",
       "    </tr>\n",
       "    <tr>\n",
       "      <th>3</th>\n",
       "      <td>603576130</td>\n",
       "      <td>550</td>\n",
       "      <td>VISp</td>\n",
       "      <td>Ntsr1-Cre_GN220</td>\n",
       "      <td>Ai148(TIT2L-GC6f-ICL-tTA2)</td>\n",
       "      <td>323982</td>\n",
       "      <td>Ntsr1-Cre_GN220;Ai148-323982</td>\n",
       "      <td>[]</td>\n",
       "      <td>False</td>\n",
       "    </tr>\n",
       "    <tr>\n",
       "      <th>4</th>\n",
       "      <td>670396939</td>\n",
       "      <td>195</td>\n",
       "      <td>VISp</td>\n",
       "      <td>Pvalb-IRES-Cre</td>\n",
       "      <td>Ai162(TIT2L-GC6s-ICL-tTA2)</td>\n",
       "      <td>369497</td>\n",
       "      <td>Pvalb-IRES-Cre;Ai162-369497</td>\n",
       "      <td>[]</td>\n",
       "      <td>False</td>\n",
       "    </tr>\n",
       "    <tr>\n",
       "      <th>...</th>\n",
       "      <td>...</td>\n",
       "      <td>...</td>\n",
       "      <td>...</td>\n",
       "      <td>...</td>\n",
       "      <td>...</td>\n",
       "      <td>...</td>\n",
       "      <td>...</td>\n",
       "      <td>...</td>\n",
       "      <td>...</td>\n",
       "    </tr>\n",
       "    <tr>\n",
       "      <th>211</th>\n",
       "      <td>814796612</td>\n",
       "      <td>375</td>\n",
       "      <td>VISp</td>\n",
       "      <td>Slc17a7-IRES2-Cre</td>\n",
       "      <td>Ai93(TITL-GCaMP6f)</td>\n",
       "      <td>412366</td>\n",
       "      <td>Slc17a7-IRES2-Cre;Camk2a-tTA;Ai93-412366</td>\n",
       "      <td>[]</td>\n",
       "      <td>False</td>\n",
       "    </tr>\n",
       "    <tr>\n",
       "      <th>212</th>\n",
       "      <td>1018027599</td>\n",
       "      <td>225</td>\n",
       "      <td>VISp</td>\n",
       "      <td>Vip-IRES-Cre</td>\n",
       "      <td>Ai148(TIT2L-GC6f-ICL-tTA2)</td>\n",
       "      <td>449653</td>\n",
       "      <td>Vip-IRES-Cre;Ai148-449653</td>\n",
       "      <td>[]</td>\n",
       "      <td>False</td>\n",
       "    </tr>\n",
       "    <tr>\n",
       "      <th>213</th>\n",
       "      <td>957366099</td>\n",
       "      <td>375</td>\n",
       "      <td>VISp</td>\n",
       "      <td>Slc17a7-IRES2-Cre</td>\n",
       "      <td>Ai93(TITL-GCaMP6f)</td>\n",
       "      <td>476631</td>\n",
       "      <td>Slc17a7-IRES2-Cre;Camk2a-tTA;Ai93-476631</td>\n",
       "      <td>[]</td>\n",
       "      <td>False</td>\n",
       "    </tr>\n",
       "    <tr>\n",
       "      <th>214</th>\n",
       "      <td>527676429</td>\n",
       "      <td>275</td>\n",
       "      <td>VISp</td>\n",
       "      <td>Emx1-IRES-Cre</td>\n",
       "      <td>Ai93(TITL-GCaMP6f)</td>\n",
       "      <td>237706</td>\n",
       "      <td>Emx1-IRES-Cre;Camk2a-tTA;Ai93-237706</td>\n",
       "      <td>[Epileptiform Events]</td>\n",
       "      <td>False</td>\n",
       "    </tr>\n",
       "    <tr>\n",
       "      <th>215</th>\n",
       "      <td>637669268</td>\n",
       "      <td>375</td>\n",
       "      <td>VISp</td>\n",
       "      <td>Tlx3-Cre_PL56</td>\n",
       "      <td>Ai148(TIT2L-GC6f-ICL-tTA2)</td>\n",
       "      <td>340427</td>\n",
       "      <td>Tlx3-Cre_PL56;Ai148-340427</td>\n",
       "      <td>[]</td>\n",
       "      <td>False</td>\n",
       "    </tr>\n",
       "  </tbody>\n",
       "</table>\n",
       "<p>216 rows × 9 columns</p>\n",
       "</div>"
      ],
      "text/plain": [
       "             id  imaging_depth targeted_structure           cre_line  \\\n",
       "0     803589437            175               VISp  Slc17a7-IRES2-Cre   \n",
       "1     661437138            175               VISp  Slc17a7-IRES2-Cre   \n",
       "2     511510736            175               VISp       Cux2-CreERT2   \n",
       "3     603576130            550               VISp    Ntsr1-Cre_GN220   \n",
       "4     670396939            195               VISp     Pvalb-IRES-Cre   \n",
       "..          ...            ...                ...                ...   \n",
       "211   814796612            375               VISp  Slc17a7-IRES2-Cre   \n",
       "212  1018027599            225               VISp       Vip-IRES-Cre   \n",
       "213   957366099            375               VISp  Slc17a7-IRES2-Cre   \n",
       "214   527676429            275               VISp      Emx1-IRES-Cre   \n",
       "215   637669268            375               VISp      Tlx3-Cre_PL56   \n",
       "\n",
       "                  reporter_line donor_name  \\\n",
       "0            Ai93(TITL-GCaMP6f)     425496   \n",
       "1            Ai93(TITL-GCaMP6f)     365251   \n",
       "2            Ai93(TITL-GCaMP6f)     222426   \n",
       "3    Ai148(TIT2L-GC6f-ICL-tTA2)     323982   \n",
       "4    Ai162(TIT2L-GC6s-ICL-tTA2)     369497   \n",
       "..                          ...        ...   \n",
       "211          Ai93(TITL-GCaMP6f)     412366   \n",
       "212  Ai148(TIT2L-GC6f-ICL-tTA2)     449653   \n",
       "213          Ai93(TITL-GCaMP6f)     476631   \n",
       "214          Ai93(TITL-GCaMP6f)     237706   \n",
       "215  Ai148(TIT2L-GC6f-ICL-tTA2)     340427   \n",
       "\n",
       "                                specimen_name                   tags  failed  \n",
       "0    Slc17a7-IRES2-Cre;Camk2a-tTA;Ai93-425496                     []   False  \n",
       "1    Slc17a7-IRES2-Cre;Camk2a-tTA;Ai93-365251                     []   False  \n",
       "2         Cux2-CreERT2;Camk2a-tTA;Ai93-222426                     []   False  \n",
       "3                Ntsr1-Cre_GN220;Ai148-323982                     []   False  \n",
       "4                 Pvalb-IRES-Cre;Ai162-369497                     []   False  \n",
       "..                                        ...                    ...     ...  \n",
       "211  Slc17a7-IRES2-Cre;Camk2a-tTA;Ai93-412366                     []   False  \n",
       "212                 Vip-IRES-Cre;Ai148-449653                     []   False  \n",
       "213  Slc17a7-IRES2-Cre;Camk2a-tTA;Ai93-476631                     []   False  \n",
       "214      Emx1-IRES-Cre;Camk2a-tTA;Ai93-237706  [Epileptiform Events]   False  \n",
       "215                Tlx3-Cre_PL56;Ai148-340427                     []   False  \n",
       "\n",
       "[216 rows x 9 columns]"
      ]
     },
     "execution_count": 10,
     "metadata": {},
     "output_type": "execute_result"
    }
   ],
   "source": [
    "exps = boc.get_experiment_containers(targeted_structures=[visual_area])\n",
    "pd.DataFrame(exps)"
   ]
  },
  {
   "cell_type": "code",
   "execution_count": 11,
   "id": "ad5bcee2",
   "metadata": {},
   "outputs": [],
   "source": [
    "experiment_container_ids = [exps[120]['id']]"
   ]
  },
  {
   "cell_type": "code",
   "execution_count": 12,
   "id": "109806db",
   "metadata": {},
   "outputs": [],
   "source": [
    "sessions = boc.get_ophys_experiments(experiment_container_ids=experiment_container_ids, stimuli=['natural_scenes'])"
   ]
  },
  {
   "cell_type": "code",
   "execution_count": 13,
   "id": "cc99effe",
   "metadata": {},
   "outputs": [
    {
     "data": {
      "text/plain": [
       "645035917"
      ]
     },
     "execution_count": 13,
     "metadata": {},
     "output_type": "execute_result"
    }
   ],
   "source": [
    "session_id = sessions[0]['id']\n",
    "session_id"
   ]
  },
  {
   "cell_type": "code",
   "execution_count": 14,
   "id": "57cd3865",
   "metadata": {},
   "outputs": [
    {
     "name": "stderr",
     "output_type": "stream",
     "text": [
      "2024-07-16 17:01:15,349 allensdk.api.api.retrieve_file_over_http INFO     Downloading URL: http://api.brain-map.org/api/v2/well_known_file_download/645054602\n"
     ]
    }
   ],
   "source": [
    "data_set = boc.get_ophys_experiment_data(ophys_experiment_id=session_id)"
   ]
  },
  {
   "cell_type": "code",
   "execution_count": 15,
   "id": "48d839fa",
   "metadata": {},
   "outputs": [
    {
     "data": {
      "text/plain": [
       "(60,)"
      ]
     },
     "execution_count": 15,
     "metadata": {},
     "output_type": "execute_result"
    }
   ],
   "source": [
    "cell_ids = data_set.get_cell_specimen_ids()\n",
    "cell_ids.shape"
   ]
  },
  {
   "cell_type": "code",
   "execution_count": 16,
   "id": "29830762",
   "metadata": {},
   "outputs": [],
   "source": [
    "# get the stimulus table for the natural scenes stimulus\n",
    "stim_table = data_set.get_stimulus_table('natural_scenes')"
   ]
  },
  {
   "cell_type": "code",
   "execution_count": null,
   "id": "9122c2d6",
   "metadata": {},
   "outputs": [],
   "source": [
    "# get trial-to-trial dff traces\n",
    "timestamps, dff = data_set.get_dff_traces()\n",
    "dff.shape"
   ]
  },
  {
   "cell_type": "code",
   "execution_count": null,
   "id": "39b42f11",
   "metadata": {},
   "outputs": [],
   "source": [
    "stim_start = stim_table.start.min()\n",
    "stim_end = stim_table.end.max()\n",
    "dff = dff[:, stim_start:stim_end]\n",
    "dff.shape"
   ]
  },
  {
   "cell_type": "code",
   "execution_count": null,
   "id": "be359101",
   "metadata": {},
   "outputs": [],
   "source": [
    "fig = plt.figure(figsize=(14,8))\n",
    "for i in range(10):\n",
    "    plt.plot(dff[i,:]+(i*2), color='gray')"
   ]
  },
  {
   "cell_type": "code",
   "execution_count": null,
   "id": "b1cc611f",
   "metadata": {},
   "outputs": [],
   "source": []
  }
 ],
 "metadata": {
  "kernelspec": {
   "display_name": "Python 3",
   "language": "python",
   "name": "python3"
  },
  "language_info": {
   "codemirror_mode": {
    "name": "ipython",
    "version": 3
   },
   "file_extension": ".py",
   "mimetype": "text/x-python",
   "name": "python",
   "nbconvert_exporter": "python",
   "pygments_lexer": "ipython3",
   "version": "3.8.5"
  }
 },
 "nbformat": 4,
 "nbformat_minor": 5
}
