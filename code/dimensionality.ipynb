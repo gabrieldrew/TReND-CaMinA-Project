{
 "cells": [
  {
   "cell_type": "code",
   "execution_count": 996,
   "id": "6cdec88f",
   "metadata": {
    "tags": []
   },
   "outputs": [
    {
     "name": "stdout",
     "output_type": "stream",
     "text": [
      "Requirement already satisfied: ipympl in /opt/conda/lib/python3.8/site-packages (0.9.3)\n",
      "Requirement already satisfied: ipython-genutils in /opt/conda/lib/python3.8/site-packages (from ipympl) (0.2.0)\n",
      "Requirement already satisfied: pillow in /opt/conda/lib/python3.8/site-packages (from ipympl) (10.4.0)\n",
      "Requirement already satisfied: ipywidgets<9,>=7.6.0 in /opt/conda/lib/python3.8/site-packages (from ipympl) (8.1.3)\n",
      "Requirement already satisfied: ipython<9 in /opt/conda/lib/python3.8/site-packages (from ipympl) (7.24.1)\n",
      "Requirement already satisfied: numpy in /opt/conda/lib/python3.8/site-packages (from ipympl) (1.24.4)\n",
      "Requirement already satisfied: traitlets<6 in /opt/conda/lib/python3.8/site-packages (from ipympl) (5.0.5)\n",
      "Requirement already satisfied: matplotlib<4,>=3.4.0 in /opt/conda/lib/python3.8/site-packages (from ipympl) (3.7.5)\n",
      "Requirement already satisfied: jupyterlab-widgets~=3.0.11 in /opt/conda/lib/python3.8/site-packages (from ipywidgets<9,>=7.6.0->ipympl) (3.0.11)\n",
      "Requirement already satisfied: widgetsnbextension~=4.0.11 in /opt/conda/lib/python3.8/site-packages (from ipywidgets<9,>=7.6.0->ipympl) (4.0.11)\n",
      "Requirement already satisfied: comm>=0.1.3 in /opt/conda/lib/python3.8/site-packages (from ipywidgets<9,>=7.6.0->ipympl) (0.2.2)\n",
      "Requirement already satisfied: backcall in /opt/conda/lib/python3.8/site-packages (from ipython<9->ipympl) (0.2.0)\n",
      "Requirement already satisfied: pexpect>4.3; sys_platform != \"win32\" in /opt/conda/lib/python3.8/site-packages (from ipython<9->ipympl) (4.8.0)\n",
      "Requirement already satisfied: decorator in /opt/conda/lib/python3.8/site-packages (from ipython<9->ipympl) (5.0.9)\n",
      "Requirement already satisfied: jedi>=0.16 in /opt/conda/lib/python3.8/site-packages (from ipython<9->ipympl) (0.18.0)\n",
      "Requirement already satisfied: pickleshare in /opt/conda/lib/python3.8/site-packages (from ipython<9->ipympl) (0.7.5)\n",
      "Requirement already satisfied: prompt-toolkit!=3.0.0,!=3.0.1,<3.1.0,>=2.0.0 in /opt/conda/lib/python3.8/site-packages (from ipython<9->ipympl) (3.0.18)\n",
      "Requirement already satisfied: pygments in /opt/conda/lib/python3.8/site-packages (from ipython<9->ipympl) (2.9.0)\n",
      "Requirement already satisfied: setuptools>=18.5 in /opt/conda/lib/python3.8/site-packages (from ipython<9->ipympl) (70.3.0)\n",
      "Requirement already satisfied: matplotlib-inline in /opt/conda/lib/python3.8/site-packages (from ipython<9->ipympl) (0.1.2)\n",
      "Requirement already satisfied: python-dateutil>=2.7 in /opt/conda/lib/python3.8/site-packages (from matplotlib<4,>=3.4.0->ipympl) (2.9.0.post0)\n",
      "Requirement already satisfied: pyparsing>=2.3.1 in /opt/conda/lib/python3.8/site-packages (from matplotlib<4,>=3.4.0->ipympl) (3.1.2)\n",
      "Requirement already satisfied: cycler>=0.10 in /opt/conda/lib/python3.8/site-packages (from matplotlib<4,>=3.4.0->ipympl) (0.12.1)\n",
      "Requirement already satisfied: fonttools>=4.22.0 in /opt/conda/lib/python3.8/site-packages (from matplotlib<4,>=3.4.0->ipympl) (4.53.1)\n",
      "Requirement already satisfied: contourpy>=1.0.1 in /opt/conda/lib/python3.8/site-packages (from matplotlib<4,>=3.4.0->ipympl) (1.1.1)\n",
      "Requirement already satisfied: importlib-resources>=3.2.0; python_version < \"3.10\" in /opt/conda/lib/python3.8/site-packages (from matplotlib<4,>=3.4.0->ipympl) (6.4.0)\n",
      "Requirement already satisfied: kiwisolver>=1.0.1 in /opt/conda/lib/python3.8/site-packages (from matplotlib<4,>=3.4.0->ipympl) (1.4.5)\n",
      "Requirement already satisfied: packaging>=20.0 in /opt/conda/lib/python3.8/site-packages (from matplotlib<4,>=3.4.0->ipympl) (24.1)\n",
      "Requirement already satisfied: ptyprocess>=0.5 in /opt/conda/lib/python3.8/site-packages (from pexpect>4.3; sys_platform != \"win32\"->ipython<9->ipympl) (0.7.0)\n",
      "Requirement already satisfied: parso<0.9.0,>=0.8.0 in /opt/conda/lib/python3.8/site-packages (from jedi>=0.16->ipython<9->ipympl) (0.8.2)\n",
      "Requirement already satisfied: wcwidth in /opt/conda/lib/python3.8/site-packages (from prompt-toolkit!=3.0.0,!=3.0.1,<3.1.0,>=2.0.0->ipython<9->ipympl) (0.2.5)\n",
      "Requirement already satisfied: six>=1.5 in /opt/conda/lib/python3.8/site-packages (from python-dateutil>=2.7->matplotlib<4,>=3.4.0->ipympl) (1.16.0)\n",
      "Requirement already satisfied: zipp>=3.1.0; python_version < \"3.10\" in /opt/conda/lib/python3.8/site-packages (from importlib-resources>=3.2.0; python_version < \"3.10\"->matplotlib<4,>=3.4.0->ipympl) (3.19.2)\n",
      "Note: you may need to restart the kernel to use updated packages.\n"
     ]
    }
   ],
   "source": [
    "%pip install ipympl\n",
    "import ipympl\n",
    "import numpy as np\n",
    "import pandas as pd\n",
    "import matplotlib.pyplot as plt\n",
    "import collections\n",
    "from scipy.stats import zscore\n",
    "%matplotlib inline\n",
    "\n",
    "#add other imports as needed"
   ]
  },
  {
   "cell_type": "code",
   "execution_count": 997,
   "id": "1fd22937",
   "metadata": {},
   "outputs": [],
   "source": [
    "import os"
   ]
  },
  {
   "cell_type": "code",
   "execution_count": 998,
   "id": "a885b9c1",
   "metadata": {},
   "outputs": [],
   "source": [
    "import platform\n",
    "\n",
    "# Set file location based on platform. \n",
    "platstring = platform.platform()\n",
    "if ('Darwin' in platstring) or ('macOS' in platstring):\n",
    "    # macOS \n",
    "    data_root = \"/Volumes/TReND2024/\"\n",
    "elif 'Windows'  in platstring:\n",
    "    # Windows (replace with the drive letter of USB drive)\n",
    "    data_root = \"E:/\"\n",
    "elif ('amzn' in platstring):\n",
    "    # then on Code Ocean\n",
    "    data_root = \"/data/\"\n",
    "else:\n",
    "    # then your own linux platform\n",
    "    # EDIT location where you mounted hard drive\n",
    "    data_root = \"/media/$USERNAME/TReND2024/\""
   ]
  },
  {
   "cell_type": "code",
   "execution_count": 999,
   "id": "4bff4dcc",
   "metadata": {},
   "outputs": [],
   "source": [
    "from allensdk.core.brain_observatory_cache import BrainObservatoryCache\n",
    "\n",
    "manifest_file = os.path.join(data_root,'allen-brain-observatory/visual-coding-2p/manifest.json')\n",
    "\n",
    "boc = BrainObservatoryCache(manifest_file=manifest_file)"
   ]
  },
  {
   "cell_type": "markdown",
   "id": "d95cc456",
   "metadata": {},
   "source": [
    "Use code below to access Neuropixels data set. This is electrophysiological data. It is very similar to the data set we demonstrated, but has important differences, both in the science and in the access methods used in the python tools."
   ]
  },
  {
   "cell_type": "code",
   "execution_count": 1000,
   "id": "239eee8b",
   "metadata": {},
   "outputs": [],
   "source": [
    "from allensdk.brain_observatory.ecephys.ecephys_project_cache import EcephysProjectCache\n",
    "\n",
    "manifest_path = os.path.join(data_root,'allen-brain-observatory/visual-coding-neuropixels/ecephys-cache/manifest.json') \n",
    "\n",
    "cache = EcephysProjectCache.from_warehouse(manifest=manifest_path)"
   ]
  },
  {
   "cell_type": "code",
   "execution_count": 1001,
   "id": "e75e1f68",
   "metadata": {},
   "outputs": [
    {
     "data": {
      "text/plain": [
       "['VISal', 'VISam', 'VISl', 'VISp', 'VISpm', 'VISrl']"
      ]
     },
     "execution_count": 1001,
     "metadata": {},
     "output_type": "execute_result"
    }
   ],
   "source": [
    "areas = boc.get_all_targeted_structures()\n",
    "areas"
   ]
  },
  {
   "cell_type": "code",
   "execution_count": 1002,
   "id": "4971c033",
   "metadata": {},
   "outputs": [
    {
     "data": {
      "text/plain": [
       "['Cux2-CreERT2',\n",
       " 'Emx1-IRES-Cre',\n",
       " 'Fezf2-CreER',\n",
       " 'Nr5a1-Cre',\n",
       " 'Ntsr1-Cre_GN220',\n",
       " 'Pvalb-IRES-Cre',\n",
       " 'Rbp4-Cre_KL100',\n",
       " 'Rorb-IRES2-Cre',\n",
       " 'Scnn1a-Tg3-Cre',\n",
       " 'Slc17a7-IRES2-Cre',\n",
       " 'Sst-IRES-Cre',\n",
       " 'Tlx3-Cre_PL56',\n",
       " 'Vip-IRES-Cre']"
      ]
     },
     "execution_count": 1002,
     "metadata": {},
     "output_type": "execute_result"
    }
   ],
   "source": [
    "cre_lines = boc.get_all_cre_lines()\n",
    "cre_lines"
   ]
  },
  {
   "cell_type": "code",
   "execution_count": 1003,
   "id": "9c433b01",
   "metadata": {},
   "outputs": [
    {
     "data": {
      "text/plain": [
       "[175,\n",
       " 185,\n",
       " 195,\n",
       " 200,\n",
       " 205,\n",
       " 225,\n",
       " 250,\n",
       " 265,\n",
       " 275,\n",
       " 276,\n",
       " 285,\n",
       " 300,\n",
       " 320,\n",
       " 325,\n",
       " 335,\n",
       " 350,\n",
       " 365,\n",
       " 375,\n",
       " 390,\n",
       " 400,\n",
       " 550,\n",
       " 570,\n",
       " 625]"
      ]
     },
     "execution_count": 1003,
     "metadata": {},
     "output_type": "execute_result"
    }
   ],
   "source": [
    "imaging_depths = boc.get_all_imaging_depths()\n",
    "imaging_depths"
   ]
  },
  {
   "cell_type": "code",
   "execution_count": 1004,
   "id": "ca86d0b5",
   "metadata": {},
   "outputs": [],
   "source": [
    "visual_area = [areas[3]]\n",
    "cre_line = [cre_lines[1]]\n",
    "imaging_depth = imaging_depths[:7]"
   ]
  },
  {
   "cell_type": "code",
   "execution_count": 1005,
   "id": "5cdc4836",
   "metadata": {},
   "outputs": [
    {
     "name": "stdout",
     "output_type": "stream",
     "text": [
      "              VISal VISam VISl VISp VISpm VISrl  Total\n",
      "Emx1-IRES-Cre     2     1    5    3     2     4     17\n"
     ]
    }
   ],
   "source": [
    "#create an empty dataframe with colums as areas and index as cre_lines\n",
    "df = pd.DataFrame(columns=areas,index=cre_line)\n",
    "\n",
    "#populate the dataframe with the number of experiment containers for each combination\n",
    "for area in areas:\n",
    "    exps = boc.get_experiment_containers(targeted_structures=[area],cre_lines=cre_line,imaging_depths=imaging_depth)\n",
    "    df[area].loc[cre_line] = len(exps)\n",
    "\n",
    "df['Total'] = df.sum(axis=1).astype(int)\n",
    "\n",
    "#look at dataframe\n",
    "print(df)"
   ]
  },
  {
   "cell_type": "code",
   "execution_count": 1006,
   "id": "8053cfdf",
   "metadata": {},
   "outputs": [
    {
     "data": {
      "text/html": [
       "<div>\n",
       "<style scoped>\n",
       "    .dataframe tbody tr th:only-of-type {\n",
       "        vertical-align: middle;\n",
       "    }\n",
       "\n",
       "    .dataframe tbody tr th {\n",
       "        vertical-align: top;\n",
       "    }\n",
       "\n",
       "    .dataframe thead th {\n",
       "        text-align: right;\n",
       "    }\n",
       "</style>\n",
       "<table border=\"1\" class=\"dataframe\">\n",
       "  <thead>\n",
       "    <tr style=\"text-align: right;\">\n",
       "      <th></th>\n",
       "      <th>id</th>\n",
       "      <th>imaging_depth</th>\n",
       "      <th>targeted_structure</th>\n",
       "      <th>cre_line</th>\n",
       "      <th>reporter_line</th>\n",
       "      <th>donor_name</th>\n",
       "      <th>specimen_name</th>\n",
       "      <th>tags</th>\n",
       "      <th>failed</th>\n",
       "    </tr>\n",
       "  </thead>\n",
       "  <tbody>\n",
       "    <tr>\n",
       "      <th>0</th>\n",
       "      <td>517328083</td>\n",
       "      <td>175</td>\n",
       "      <td>VISp</td>\n",
       "      <td>Emx1-IRES-Cre</td>\n",
       "      <td>Ai93(TITL-GCaMP6f)</td>\n",
       "      <td>237706</td>\n",
       "      <td>Emx1-IRES-Cre;Camk2a-tTA;Ai93-237706</td>\n",
       "      <td>[Epileptiform Events]</td>\n",
       "      <td>False</td>\n",
       "    </tr>\n",
       "    <tr>\n",
       "      <th>1</th>\n",
       "      <td>536323956</td>\n",
       "      <td>175</td>\n",
       "      <td>VISp</td>\n",
       "      <td>Emx1-IRES-Cre</td>\n",
       "      <td>Ai93(TITL-GCaMP6f)</td>\n",
       "      <td>252174</td>\n",
       "      <td>Emx1-IRES-Cre;Camk2a-tTA;Ai93(MG)-252174</td>\n",
       "      <td>[]</td>\n",
       "      <td>False</td>\n",
       "    </tr>\n",
       "    <tr>\n",
       "      <th>2</th>\n",
       "      <td>543677425</td>\n",
       "      <td>175</td>\n",
       "      <td>VISp</td>\n",
       "      <td>Emx1-IRES-Cre</td>\n",
       "      <td>Ai93(TITL-GCaMP6f)</td>\n",
       "      <td>260936</td>\n",
       "      <td>Emx1-IRES-Cre;Camk2a-tTA;Ai93-260936</td>\n",
       "      <td>[]</td>\n",
       "      <td>False</td>\n",
       "    </tr>\n",
       "  </tbody>\n",
       "</table>\n",
       "</div>"
      ],
      "text/plain": [
       "          id  imaging_depth targeted_structure       cre_line  \\\n",
       "0  517328083            175               VISp  Emx1-IRES-Cre   \n",
       "1  536323956            175               VISp  Emx1-IRES-Cre   \n",
       "2  543677425            175               VISp  Emx1-IRES-Cre   \n",
       "\n",
       "        reporter_line donor_name                             specimen_name  \\\n",
       "0  Ai93(TITL-GCaMP6f)     237706      Emx1-IRES-Cre;Camk2a-tTA;Ai93-237706   \n",
       "1  Ai93(TITL-GCaMP6f)     252174  Emx1-IRES-Cre;Camk2a-tTA;Ai93(MG)-252174   \n",
       "2  Ai93(TITL-GCaMP6f)     260936      Emx1-IRES-Cre;Camk2a-tTA;Ai93-260936   \n",
       "\n",
       "                    tags  failed  \n",
       "0  [Epileptiform Events]   False  \n",
       "1                     []   False  \n",
       "2                     []   False  "
      ]
     },
     "execution_count": 1006,
     "metadata": {},
     "output_type": "execute_result"
    }
   ],
   "source": [
    "exps = boc.get_experiment_containers(targeted_structures=visual_area,cre_lines=cre_line,imaging_depths=imaging_depth)\n",
    "pd.DataFrame(exps)"
   ]
  },
  {
   "cell_type": "code",
   "execution_count": 1007,
   "id": "e00192bc",
   "metadata": {},
   "outputs": [],
   "source": [
    "experiment_container_ids = [exps[0]['id']]"
   ]
  },
  {
   "cell_type": "code",
   "execution_count": 1008,
   "id": "5ab7798e",
   "metadata": {},
   "outputs": [
    {
     "data": {
      "text/plain": [
       "[{'id': 526928092,\n",
       "  'imaging_depth': 175,\n",
       "  'targeted_structure': 'VISp',\n",
       "  'cre_line': 'Emx1-IRES-Cre',\n",
       "  'reporter_line': 'Ai93(TITL-GCaMP6f)',\n",
       "  'acquisition_age_days': 143,\n",
       "  'experiment_container_id': 517328083,\n",
       "  'session_type': 'three_session_B',\n",
       "  'donor_name': '237706',\n",
       "  'specimen_name': 'Emx1-IRES-Cre;Camk2a-tTA;Ai93-237706',\n",
       "  'fail_eye_tracking': False}]"
      ]
     },
     "execution_count": 1008,
     "metadata": {},
     "output_type": "execute_result"
    }
   ],
   "source": [
    "sessions = boc.get_ophys_experiments(experiment_container_ids=experiment_container_ids, stimuli=['natural_scenes'])\n",
    "sessions"
   ]
  },
  {
   "cell_type": "code",
   "execution_count": 1009,
   "id": "1b6329af",
   "metadata": {},
   "outputs": [
    {
     "data": {
      "text/plain": [
       "526928092"
      ]
     },
     "execution_count": 1009,
     "metadata": {},
     "output_type": "execute_result"
    }
   ],
   "source": [
    "session_id = sessions[0]['id']\n",
    "session_id"
   ]
  },
  {
   "cell_type": "code",
   "execution_count": 1010,
   "id": "92e31888",
   "metadata": {},
   "outputs": [],
   "source": [
    "data_set = boc.get_ophys_experiment_data(ophys_experiment_id=session_id)"
   ]
  },
  {
   "cell_type": "code",
   "execution_count": 1011,
   "id": "e9c3ee83",
   "metadata": {},
   "outputs": [
    {
     "data": {
      "text/plain": [
       "(149,)"
      ]
     },
     "execution_count": 1011,
     "metadata": {},
     "output_type": "execute_result"
    }
   ],
   "source": [
    "cell_ids = data_set.get_cell_specimen_ids()\n",
    "cell_ids.shape"
   ]
  },
  {
   "cell_type": "code",
   "execution_count": 1012,
   "id": "738162a6",
   "metadata": {},
   "outputs": [
    {
     "data": {
      "text/plain": [
       "0       16124\n",
       "1       16132\n",
       "2       16139\n",
       "3       16147\n",
       "4       16154\n",
       "        ...  \n",
       "5945    96263\n",
       "5946    96271\n",
       "5947    96278\n",
       "5948    96286\n",
       "5949    96293\n",
       "Name: start, Length: 5950, dtype: int64"
      ]
     },
     "execution_count": 1012,
     "metadata": {},
     "output_type": "execute_result"
    }
   ],
   "source": [
    "# get the stimulus table for the natural scenes stimulus\n",
    "stim_table = data_set.get_stimulus_table('natural_scenes')\n",
    "stim_table.start"
   ]
  },
  {
   "cell_type": "code",
   "execution_count": 1013,
   "id": "4577b7d0",
   "metadata": {},
   "outputs": [
    {
     "data": {
      "text/plain": [
       "(149, 114099)"
      ]
     },
     "execution_count": 1013,
     "metadata": {},
     "output_type": "execute_result"
    }
   ],
   "source": [
    "# get trial-to-trial dff traces\n",
    "timestamps, dff = data_set.get_dff_traces()\n",
    "dff.shape"
   ]
  },
  {
   "cell_type": "code",
   "execution_count": 1014,
   "id": "823a7bf7",
   "metadata": {},
   "outputs": [
    {
     "data": {
      "text/plain": [
       "234"
      ]
     },
     "execution_count": 1014,
     "metadata": {},
     "output_type": "execute_result"
    }
   ],
   "source": [
    "(stim_table.end-stim_table.start != 7).sum()"
   ]
  },
  {
   "cell_type": "code",
   "execution_count": 1015,
   "id": "1645fd98",
   "metadata": {},
   "outputs": [],
   "source": [
    "stim_start = stim_table.start.min()\n",
    "stim_end = stim_table.end.max()+1"
   ]
  },
  {
   "cell_type": "code",
   "execution_count": 1016,
   "id": "21a55e34",
   "metadata": {},
   "outputs": [
    {
     "data": {
      "text/plain": [
       "(149, 80178)"
      ]
     },
     "execution_count": 1016,
     "metadata": {},
     "output_type": "execute_result"
    }
   ],
   "source": [
    "dff = dff[:, stim_start:stim_end]\n",
    "dff.shape"
   ]
  },
  {
   "cell_type": "code",
   "execution_count": 1017,
   "id": "b6f618a1",
   "metadata": {},
   "outputs": [
    {
     "data": {
      "text/plain": [
       "(149, 114099)"
      ]
     },
     "execution_count": 1017,
     "metadata": {},
     "output_type": "execute_result"
    }
   ],
   "source": [
    "events = boc.get_ophys_experiment_events(ophys_experiment_id=session_id)\n",
    "events.shape"
   ]
  },
  {
   "cell_type": "code",
   "execution_count": 1018,
   "id": "ab0da2af",
   "metadata": {},
   "outputs": [
    {
     "data": {
      "text/plain": [
       "(149, 80178)"
      ]
     },
     "execution_count": 1018,
     "metadata": {},
     "output_type": "execute_result"
    }
   ],
   "source": [
    "events = events[:, stim_start:stim_end]\n",
    "events.shape"
   ]
  },
  {
   "cell_type": "code",
   "execution_count": 1019,
   "id": "3c498ab7",
   "metadata": {},
   "outputs": [],
   "source": [
    "stim_table.end = stim_table.end - stim_start\n",
    "stim_table.start = stim_table.start - stim_start"
   ]
  },
  {
   "cell_type": "code",
   "execution_count": 1020,
   "id": "8812fa46",
   "metadata": {},
   "outputs": [
    {
     "data": {
      "text/html": [
       "<div>\n",
       "<style scoped>\n",
       "    .dataframe tbody tr th:only-of-type {\n",
       "        vertical-align: middle;\n",
       "    }\n",
       "\n",
       "    .dataframe tbody tr th {\n",
       "        vertical-align: top;\n",
       "    }\n",
       "\n",
       "    .dataframe thead th {\n",
       "        text-align: right;\n",
       "    }\n",
       "</style>\n",
       "<table border=\"1\" class=\"dataframe\">\n",
       "  <thead>\n",
       "    <tr style=\"text-align: right;\">\n",
       "      <th></th>\n",
       "      <th>frame</th>\n",
       "      <th>start</th>\n",
       "      <th>end</th>\n",
       "    </tr>\n",
       "  </thead>\n",
       "  <tbody>\n",
       "    <tr>\n",
       "      <th>0</th>\n",
       "      <td>8</td>\n",
       "      <td>0</td>\n",
       "      <td>7</td>\n",
       "    </tr>\n",
       "    <tr>\n",
       "      <th>1</th>\n",
       "      <td>110</td>\n",
       "      <td>8</td>\n",
       "      <td>15</td>\n",
       "    </tr>\n",
       "    <tr>\n",
       "      <th>2</th>\n",
       "      <td>117</td>\n",
       "      <td>15</td>\n",
       "      <td>22</td>\n",
       "    </tr>\n",
       "    <tr>\n",
       "      <th>3</th>\n",
       "      <td>105</td>\n",
       "      <td>23</td>\n",
       "      <td>30</td>\n",
       "    </tr>\n",
       "    <tr>\n",
       "      <th>4</th>\n",
       "      <td>57</td>\n",
       "      <td>30</td>\n",
       "      <td>37</td>\n",
       "    </tr>\n",
       "    <tr>\n",
       "      <th>...</th>\n",
       "      <td>...</td>\n",
       "      <td>...</td>\n",
       "      <td>...</td>\n",
       "    </tr>\n",
       "    <tr>\n",
       "      <th>5945</th>\n",
       "      <td>58</td>\n",
       "      <td>80139</td>\n",
       "      <td>80146</td>\n",
       "    </tr>\n",
       "    <tr>\n",
       "      <th>5946</th>\n",
       "      <td>87</td>\n",
       "      <td>80147</td>\n",
       "      <td>80154</td>\n",
       "    </tr>\n",
       "    <tr>\n",
       "      <th>5947</th>\n",
       "      <td>4</td>\n",
       "      <td>80154</td>\n",
       "      <td>80161</td>\n",
       "    </tr>\n",
       "    <tr>\n",
       "      <th>5948</th>\n",
       "      <td>9</td>\n",
       "      <td>80162</td>\n",
       "      <td>80169</td>\n",
       "    </tr>\n",
       "    <tr>\n",
       "      <th>5949</th>\n",
       "      <td>24</td>\n",
       "      <td>80169</td>\n",
       "      <td>80177</td>\n",
       "    </tr>\n",
       "  </tbody>\n",
       "</table>\n",
       "<p>5950 rows × 3 columns</p>\n",
       "</div>"
      ],
      "text/plain": [
       "      frame  start    end\n",
       "0         8      0      7\n",
       "1       110      8     15\n",
       "2       117     15     22\n",
       "3       105     23     30\n",
       "4        57     30     37\n",
       "...     ...    ...    ...\n",
       "5945     58  80139  80146\n",
       "5946     87  80147  80154\n",
       "5947      4  80154  80161\n",
       "5948      9  80162  80169\n",
       "5949     24  80169  80177\n",
       "\n",
       "[5950 rows x 3 columns]"
      ]
     },
     "execution_count": 1020,
     "metadata": {},
     "output_type": "execute_result"
    }
   ],
   "source": [
    "stim_table"
   ]
  },
  {
   "cell_type": "code",
   "execution_count": 1021,
   "id": "f56926f3",
   "metadata": {},
   "outputs": [
    {
     "data": {
      "image/png": "[encoded data removed]",
      "text/plain": [
       "<Figure size 1008x576 with 1 Axes>"
      ]
     },
     "metadata": {
      "needs_background": "light"
     },
     "output_type": "display_data"
    }
   ],
   "source": [
    "fig = plt.figure(figsize=(14,8))\n",
    "for i in range(5):\n",
    "    plt.plot(events[i,:]+(i*2), color='gray')"
   ]
  },
  {
   "cell_type": "code",
   "execution_count": 1022,
   "id": "cd093661",
   "metadata": {},
   "outputs": [
    {
     "data": {
      "text/plain": [
       "(5950,)"
      ]
     },
     "execution_count": 1022,
     "metadata": {},
     "output_type": "execute_result"
    }
   ],
   "source": [
    "averaging_indices = stim_table.end.to_numpy()\n",
    "averaging_indices.shape"
   ]
  },
  {
   "cell_type": "code",
   "execution_count": 1023,
   "id": "1c93a649",
   "metadata": {
    "tags": []
   },
   "outputs": [
    {
     "data": {
      "text/plain": [
       "(149, 5950)"
      ]
     },
     "execution_count": 1023,
     "metadata": {},
     "output_type": "execute_result"
    }
   ],
   "source": [
    "cum_events = events.cumsum(axis=1)[:,averaging_indices]\n",
    "trial_responses = np.c_[cum_events[:,1] ,np.diff(cum_events, axis=1)]/(stim_table.end.to_numpy()-stim_table.start.to_numpy())\n",
    "trial_responses.shape"
   ]
  },
  {
   "cell_type": "code",
   "execution_count": 1024,
   "id": "562693ec",
   "metadata": {},
   "outputs": [],
   "source": [
    "# plt.plot(stim_table.end,np.ones(stim_table.end.shape), 'o')"
   ]
  },
  {
   "cell_type": "code",
   "execution_count": 1025,
   "id": "80d3fc76",
   "metadata": {
    "tags": []
   },
   "outputs": [],
   "source": [
    "neural_data = trial_responses.T"
   ]
  },
  {
   "cell_type": "code",
   "execution_count": 1026,
   "id": "e2d65e14",
   "metadata": {},
   "outputs": [
    {
     "data": {
      "text/plain": [
       "(5950,)"
      ]
     },
     "execution_count": 1026,
     "metadata": {},
     "output_type": "execute_result"
    }
   ],
   "source": [
    "neural_data.mean(axis=1).shape"
   ]
  },
  {
   "cell_type": "code",
   "execution_count": 1027,
   "id": "f6317874",
   "metadata": {},
   "outputs": [
    {
     "data": {
      "text/plain": [
       "(32926,)"
      ]
     },
     "execution_count": 1027,
     "metadata": {},
     "output_type": "execute_result"
    }
   ],
   "source": [
    "neural_data[neural_data != 0].shape"
   ]
  },
  {
   "cell_type": "code",
   "execution_count": 1028,
   "id": "304bf962",
   "metadata": {},
   "outputs": [
    {
     "data": {
      "text/plain": [
       "(array([131.,   7.,   3.,   1.,   2.,   0.,   2.,   1.,   1.,   1.]),\n",
       " array([0.        , 0.01141455, 0.02282909, 0.03424364, 0.04565819,\n",
       "        0.05707274, 0.06848728, 0.07990183, 0.09131638, 0.10273092,\n",
       "        0.11414547]),\n",
       " <BarContainer object of 10 artists>)"
      ]
     },
     "execution_count": 1028,
     "metadata": {},
     "output_type": "execute_result"
    },
    {
     "data": {
      "image/png": "[encoded data removed]",
      "text/plain": [
       "<Figure size 432x288 with 1 Axes>"
      ]
     },
     "metadata": {
      "needs_background": "light"
     },
     "output_type": "display_data"
    }
   ],
   "source": [
    "plt.hist(neural_data[1])"
   ]
  },
  {
   "cell_type": "code",
   "execution_count": 1029,
   "id": "63a72c41",
   "metadata": {},
   "outputs": [
    {
     "data": {
      "text/plain": [
       "Text(0.5, 1.0, 'Heat map of neural population spike counts')"
      ]
     },
     "execution_count": 1029,
     "metadata": {},
     "output_type": "execute_result"
    },
    {
     "data": {
      "image/png": "[encoded data removed]",
      "text/plain": [
       "<Figure size 432x288 with 2 Axes>"
      ]
     },
     "metadata": {
      "needs_background": "light"
     },
     "output_type": "display_data"
    }
   ],
   "source": [
    "fig = plt.figure()\n",
    "b = plt.imshow(neural_data[3800:3900,:].T, aspect='auto')\n",
    "fig.colorbar(b)\n",
    "# plt.xticks(averaging_indices,averaging_indices)\n",
    "plt.ylabel('Neuron #')\n",
    "plt.xlabel('trial #')\n",
    "plt.title('Heat map of neural population spike counts')"
   ]
  },
  {
   "cell_type": "code",
   "execution_count": 1030,
   "id": "7ed331d3",
   "metadata": {},
   "outputs": [
    {
     "name": "stdout",
     "output_type": "stream",
     "text": [
      "max relative error of cov = -0.0001680954782331831\n"
     ]
    }
   ],
   "source": [
    "# first find the mean of the data\n",
    "mu = np.mean(neural_data,axis=0)\n",
    "\n",
    "# now compute the data covariance\n",
    "# don't forget to center your data first!\n",
    "neural_data_centered = neural_data - mu\n",
    "\n",
    "# now you can compute the covariance\n",
    "cov = (1/neural_data.shape[0]) * neural_data_centered.T @ neural_data_centered\n",
    "diff = cov - np.cov(neural_data_centered.T)\n",
    "print(\"max relative error of cov = \" + str(diff.max()/cov.flatten()[diff.argmax()]))\n",
    "\n",
    "# perform the eigendecomposition of the data covariance\n",
    "D, U = np.linalg.eig(cov) # D = vector of eigenvalues, U = eigenvectors matrix\n",
    "\n",
    "# make sure the eigenvalues are sorted (in descending order)\n",
    "indx = np.argsort(D)[::-1]\n",
    "D = D[indx]\n",
    "\n",
    "# arrange the eigenvectors according to the magnitude of the eigenvalues\n",
    "U = U[:,indx]"
   ]
  },
  {
   "cell_type": "code",
   "execution_count": 1031,
   "id": "d11d462c",
   "metadata": {},
   "outputs": [
    {
     "data": {
      "image/png": "[encoded data removed]",
      "text/plain": [
       "<Figure size 432x288 with 1 Axes>"
      ]
     },
     "metadata": {
      "needs_background": "light"
     },
     "output_type": "display_data"
    }
   ],
   "source": [
    "percent_vars = 100 * D.cumsum() / D.sum()\n",
    "\n",
    "fig = plt.figure()\n",
    "plt.plot(percent_vars,'-o',color='k')\n",
    "plt.xlabel('dimensions')\n",
    "plt.ylabel('Percent variance explained')\n",
    "plt.title('Percentage of variance explained by Principle components')\n",
    "plt.show()"
   ]
  },
  {
   "cell_type": "code",
   "execution_count": 1032,
   "id": "54ae64a7",
   "metadata": {},
   "outputs": [
    {
     "data": {
      "text/plain": [
       "(5950, 2)"
      ]
     },
     "execution_count": 1032,
     "metadata": {},
     "output_type": "execute_result"
    }
   ],
   "source": [
    "k=2\n",
    "latent_data = neural_data @ U[:,:k]\n",
    "latent_data.shape"
   ]
  },
  {
   "cell_type": "code",
   "execution_count": 1033,
   "id": "c4b33041",
   "metadata": {
    "tags": []
   },
   "outputs": [
    {
     "data": {
      "text/plain": [
       "<matplotlib.colorbar.Colorbar at 0x7fe028e68850>"
      ]
     },
     "execution_count": 1033,
     "metadata": {},
     "output_type": "execute_result"
    },
    {
     "data": {
      "image/png": "[encoded data removed]",
      "text/plain": [
       "<Figure size 432x288 with 2 Axes>"
      ]
     },
     "metadata": {
      "needs_background": "light"
     },
     "output_type": "display_data"
    }
   ],
   "source": [
    "# fig = plt.figure()\n",
    "# ax= fig.add_subplot(projection='3d')\n",
    "plt.scatter(latent_data[:,0], latent_data[:,1], c=stim_table.frame, cmap=\"plasma\")\n",
    "plt.colorbar()"
   ]
  },
  {
   "cell_type": "code",
   "execution_count": 1034,
   "id": "9f509909",
   "metadata": {},
   "outputs": [
    {
     "data": {
      "image/png": "[encoded data removed]",
      "text/plain": [
       "<Figure size 1008x576 with 1 Axes>"
      ]
     },
     "metadata": {
      "needs_background": "light"
     },
     "output_type": "display_data"
    }
   ],
   "source": [
    "fig = plt.figure(figsize=(14,8))\n",
    "# for i in range(1):\n",
    "#     plt.plot(stim_table.end,p.zeros(stim_table.end.shape), 'o', color='grey')\n",
    "for i in range(5):\n",
    "    if i == 0:\n",
    "        plt.plot(trial_responses[:,3840+i], 'o', color='orange')\n",
    "    else:\n",
    "        plt.plot(trial_responses[:,3840+i], 'o', color='g')\n",
    "# plt.plot(events[i,:], color='b')"
   ]
  },
  {
   "cell_type": "code",
   "execution_count": 1035,
   "id": "66730fe3",
   "metadata": {
    "tags": []
   },
   "outputs": [
    {
     "name": "stdout",
     "output_type": "stream",
     "text": [
      "(5950, 1)\n"
     ]
    },
    {
     "data": {
      "text/plain": [
       "array([1920, 3840])"
      ]
     },
     "execution_count": 1035,
     "metadata": {},
     "output_type": "execute_result"
    }
   ],
   "source": [
    "trial_responses_df = pd.DataFrame(trial_responses.mean(axis=0))\n",
    "print(trial_responses_df.shape)\n",
    "# Calculate the Z-score for each data point\n",
    "z_scores = trial_responses_df.apply(zscore)\n",
    "# Identify rows with any outlier (Z-score > 3 or Z-score < -3)\n",
    "outliers = (trial_responses_df[(z_scores > 3) | (z_scores < -3)].to_numpy() > 0).nonzero()[0]\n",
    "outliers"
   ]
  },
  {
   "cell_type": "markdown",
   "id": "9be6760e",
   "metadata": {},
   "source": [
    "rm outliers"
   ]
  },
  {
   "cell_type": "code",
   "execution_count": 1036,
   "id": "253026b9",
   "metadata": {},
   "outputs": [
    {
     "data": {
      "text/plain": [
       "(149, 5948)"
      ]
     },
     "execution_count": 1036,
     "metadata": {},
     "output_type": "execute_result"
    }
   ],
   "source": [
    "trial_responses = np.delete(trial_responses, outliers, axis=1)\n",
    "trial_responses.shape"
   ]
  },
  {
   "cell_type": "code",
   "execution_count": 1037,
   "id": "5acef80c",
   "metadata": {
    "tags": []
   },
   "outputs": [
    {
     "data": {
      "text/plain": [
       "(5948,)"
      ]
     },
     "execution_count": 1037,
     "metadata": {},
     "output_type": "execute_result"
    }
   ],
   "source": [
    "frames = stim_table['frame'].to_numpy()\n",
    "frames = np.delete(frames, outliers)\n",
    "frames.shape"
   ]
  },
  {
   "cell_type": "code",
   "execution_count": 1038,
   "id": "4b03f480",
   "metadata": {},
   "outputs": [
    {
     "data": {
      "text/plain": [
       "(149, 5948)"
      ]
     },
     "execution_count": 1038,
     "metadata": {},
     "output_type": "execute_result"
    }
   ],
   "source": [
    "sorting_indices = np.argsort(frames)\n",
    "sorted_events = trial_responses[:,sorting_indices]\n",
    "sorted_events.shape"
   ]
  },
  {
   "cell_type": "code",
   "execution_count": 1039,
   "id": "2b8c1b86",
   "metadata": {},
   "outputs": [
    {
     "data": {
      "text/plain": [
       "(119,)"
      ]
     },
     "execution_count": 1039,
     "metadata": {},
     "output_type": "execute_result"
    }
   ],
   "source": [
    "num_trials_per_stim = np.fromiter(collections.Counter(np.sort(frames)).values(), dtype=float)\n",
    "num_trials_per_stim.shape"
   ]
  },
  {
   "cell_type": "code",
   "execution_count": 1040,
   "id": "1f7637ae",
   "metadata": {},
   "outputs": [
    {
     "data": {
      "text/plain": [
       "(119,)"
      ]
     },
     "execution_count": 1040,
     "metadata": {},
     "output_type": "execute_result"
    }
   ],
   "source": [
    "averaging_indices = num_trials_per_stim.cumsum().astype('int') - 1\n",
    "averaging_indices.shape"
   ]
  },
  {
   "cell_type": "code",
   "execution_count": 1041,
   "id": "68539028",
   "metadata": {},
   "outputs": [
    {
     "data": {
      "text/plain": [
       "(149, 119)"
      ]
     },
     "execution_count": 1041,
     "metadata": {},
     "output_type": "execute_result"
    }
   ],
   "source": [
    "cum_trial_responses = sorted_events.cumsum(axis=1)[:,averaging_indices]\n",
    "stimulus_responses = np.c_[cum_trial_responses[:,1] ,np.diff(cum_trial_responses, axis=1)]/num_trials_per_stim\n",
    "stimulus_responses.shape"
   ]
  },
  {
   "cell_type": "markdown",
   "id": "bb8d2877",
   "metadata": {},
   "source": [
    "### Trials\n"
   ]
  },
  {
   "cell_type": "code",
   "execution_count": 1042,
   "id": "e47a6949",
   "metadata": {
    "tags": []
   },
   "outputs": [
    {
     "data": {
      "text/plain": [
       "(119, 149)"
      ]
     },
     "execution_count": 1042,
     "metadata": {},
     "output_type": "execute_result"
    }
   ],
   "source": [
    "stimulus_responses = stimulus_responses.T\n",
    "stimulus_responses.shape"
   ]
  },
  {
   "cell_type": "code",
   "execution_count": 1043,
   "id": "f98a33a3",
   "metadata": {},
   "outputs": [
    {
     "data": {
      "text/plain": [
       "Text(0.5, 1.0, 'Heat map of neural population spike counts')"
      ]
     },
     "execution_count": 1043,
     "metadata": {},
     "output_type": "execute_result"
    },
    {
     "data": {
      "image/png": "[encoded data removed]",
      "text/plain": [
       "<Figure size 432x288 with 2 Axes>"
      ]
     },
     "metadata": {
      "needs_background": "light"
     },
     "output_type": "display_data"
    }
   ],
   "source": [
    "fig = plt.figure()\n",
    "b = plt.imshow(stimulus_responses.T, aspect='auto')\n",
    "fig.colorbar(b)\n",
    "# plt.xticks(averaging_indices,averaging_indices)\n",
    "plt.ylabel('Neuron #')\n",
    "plt.xlabel('Image #')\n",
    "plt.title('Heat map of neural population spike counts')"
   ]
  },
  {
   "cell_type": "code",
   "execution_count": 1044,
   "id": "a5189f61",
   "metadata": {},
   "outputs": [
    {
     "name": "stdout",
     "output_type": "stream",
     "text": [
      "max relative error of cov = -0.00847457627118662\n"
     ]
    }
   ],
   "source": [
    "# first find the mean of the data\n",
    "mu = np.mean(stimulus_responses,axis=0)\n",
    "\n",
    "# now compute the data covariance\n",
    "# don't forget to center your data first!\n",
    "stimulus_responses_centered = stimulus_responses - mu\n",
    "\n",
    "# now you can compute the covariance\n",
    "cov = (1/stimulus_responses.shape[0]) * stimulus_responses_centered.T @ stimulus_responses_centered\n",
    "diff = cov - np.cov(stimulus_responses_centered.T)\n",
    "print(\"max relative error of cov = \" + str(diff.max()/cov.flatten()[diff.argmax()]))\n",
    "\n",
    "# perform the eigendecomposition of the data covariance\n",
    "D, U = np.linalg.eig(cov) # D = vector of eigenvalues, U = eigenvectors matrix\n",
    "\n",
    "# make sure the eigenvalues are sorted (in descending order)\n",
    "indx = np.argsort(D)[::-1]\n",
    "D = D[indx]\n",
    "\n",
    "# arrange the eigenvectors according to the magnitude of the eigenvalues\n",
    "U = U[:,indx]"
   ]
  },
  {
   "cell_type": "code",
   "execution_count": 1045,
   "id": "f9f4308d",
   "metadata": {},
   "outputs": [
    {
     "name": "stderr",
     "output_type": "stream",
     "text": [
      "/opt/conda/lib/python3.8/site-packages/matplotlib/cbook/__init__.py:1345: ComplexWarning: Casting complex values to real discards the imaginary part\n",
      "  return np.asarray(x, float)\n"
     ]
    },
    {
     "data": {
      "image/png": "[encoded data removed]",
      "text/plain": [
       "<Figure size 432x288 with 1 Axes>"
      ]
     },
     "metadata": {
      "needs_background": "light"
     },
     "output_type": "display_data"
    }
   ],
   "source": [
    "percent_vars = 100 * D.cumsum() / D.sum()\n",
    "\n",
    "fig = plt.figure()\n",
    "plt.plot(percent_vars,'-o',color='k')\n",
    "plt.xlabel('dimensions')\n",
    "plt.ylabel('Percent variance explained')\n",
    "plt.title('Percentage of variance explained by Principle components')\n",
    "plt.show()"
   ]
  },
  {
   "cell_type": "code",
   "execution_count": 1046,
   "id": "c2b802e8",
   "metadata": {},
   "outputs": [
    {
     "data": {
      "text/plain": [
       "(119, 3)"
      ]
     },
     "execution_count": 1046,
     "metadata": {},
     "output_type": "execute_result"
    }
   ],
   "source": [
    "k=3\n",
    "latent_data = stimulus_responses @ U[:,:k]\n",
    "latent_data.shape"
   ]
  },
  {
   "cell_type": "code",
   "execution_count": 1047,
   "id": "13307c28",
   "metadata": {},
   "outputs": [
    {
     "name": "stderr",
     "output_type": "stream",
     "text": [
      "/opt/conda/lib/python3.8/site-packages/matplotlib/collections.py:192: ComplexWarning: Casting complex values to real discards the imaginary part\n",
      "  offsets = np.asanyarray(offsets, float)\n"
     ]
    },
    {
     "data": {
      "text/plain": [
       "Text(0.5, 0.92, 'Stimulus response data projected into three-dimensional PC space')"
      ]
     },
     "execution_count": 1047,
     "metadata": {},
     "output_type": "execute_result"
    },
    {
     "name": "stderr",
     "output_type": "stream",
     "text": [
      "/opt/conda/lib/python3.8/site-packages/matplotlib/collections.py:551: ComplexWarning: Casting complex values to real discards the imaginary part\n",
      "  (np.asanyarray(self.convert_xunits(offsets[:, 0]), float),\n",
      "/opt/conda/lib/python3.8/site-packages/matplotlib/collections.py:552: ComplexWarning: Casting complex values to real discards the imaginary part\n",
      "  np.asanyarray(self.convert_yunits(offsets[:, 1]), float)))\n",
      "/opt/conda/lib/python3.8/site-packages/matplotlib/colors.py:389: ComplexWarning: Casting complex values to real discards the imaginary part\n",
      "  c = tuple(map(float, c))\n"
     ]
    },
    {
     "data": {
      "image/png": "[encoded data removed]",
      "text/plain": [
       "<Figure size 432x288 with 1 Axes>"
      ]
     },
     "metadata": {
      "needs_background": "light"
     },
     "output_type": "display_data"
    }
   ],
   "source": [
    "fig = plt.figure()\n",
    "ax  = fig.add_subplot(projection='3d')\n",
    "\n",
    "ax.scatter(latent_data[:,0], latent_data[:,1],  latent_data[:,2], 'o', color=plt.cm.inferno.colors[:latent_data.shape[0]])\n",
    "\n",
    "ax.set_xlabel('PC 1')\n",
    "ax.set_ylabel('PC 2')\n",
    "ax.set_zlabel('PC 3')\n",
    "\n",
    "plt.title('Stimulus response data projected into three-dimensional PC space')\n"
   ]
  },
  {
   "cell_type": "code",
   "execution_count": 1048,
   "id": "5c144cea",
   "metadata": {
    "tags": []
   },
   "outputs": [
    {
     "data": {
      "text/plain": [
       "<matplotlib.collections.PathCollection at 0x7fe0290f5580>"
      ]
     },
     "execution_count": 1048,
     "metadata": {},
     "output_type": "execute_result"
    },
    {
     "data": {
      "image/png": "[encoded data removed]",
      "text/plain": [
       "<Figure size 432x288 with 1 Axes>"
      ]
     },
     "metadata": {
      "needs_background": "light"
     },
     "output_type": "display_data"
    }
   ],
   "source": [
    "# fig = plt.figure()\n",
    "# ax= fig.add_subplot(projection='3d')\n",
    "plt.scatter(latent_data[:,0], latent_data[:,1])"
   ]
  },
  {
   "cell_type": "code",
   "execution_count": null,
   "id": "78cf467e",
   "metadata": {},
   "outputs": [],
   "source": []
  },
  {
   "cell_type": "code",
   "execution_count": null,
   "id": "16675dfc",
   "metadata": {},
   "outputs": [],
   "source": []
  },
  {
   "cell_type": "code",
   "execution_count": null,
   "id": "e00febcb",
   "metadata": {},
   "outputs": [],
   "source": []
  }
 ],
 "metadata": {
  "kernelspec": {
   "display_name": "Python 3",
   "language": "python",
   "name": "python3"
  },
  "language_info": {
   "codemirror_mode": {
    "name": "ipython",
    "version": 3
   },
   "file_extension": ".py",
   "mimetype": "text/x-python",
   "name": "python",
   "nbconvert_exporter": "python",
   "pygments_lexer": "ipython3",
   "version": "3.8.5"
  }
 },
 "nbformat": 4,
 "nbformat_minor": 5
}
