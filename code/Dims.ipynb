{
 "cells": [
  {
   "cell_type": "code",
   "execution_count": 1,
   "id": "0848940f",
   "metadata": {
    "collapsed": true,
    "jupyter": {
     "outputs_hidden": true
    },
    "tags": []
   },
   "outputs": [
    {
     "name": "stdout",
     "output_type": "stream",
     "text": [
      "Requirement already satisfied: ipympl in /opt/conda/lib/python3.8/site-packages (0.9.3)\n",
      "Requirement already satisfied: ipython<9 in /opt/conda/lib/python3.8/site-packages (from ipympl) (7.24.1)\n",
      "Requirement already satisfied: traitlets<6 in /opt/conda/lib/python3.8/site-packages (from ipympl) (5.0.5)\n",
      "Requirement already satisfied: ipywidgets<9,>=7.6.0 in /opt/conda/lib/python3.8/site-packages (from ipympl) (8.1.3)\n",
      "Requirement already satisfied: matplotlib<4,>=3.4.0 in /opt/conda/lib/python3.8/site-packages (from ipympl) (3.7.5)\n",
      "Requirement already satisfied: ipython-genutils in /opt/conda/lib/python3.8/site-packages (from ipympl) (0.2.0)\n",
      "Requirement already satisfied: pillow in /opt/conda/lib/python3.8/site-packages (from ipympl) (10.4.0)\n",
      "Requirement already satisfied: numpy in /opt/conda/lib/python3.8/site-packages (from ipympl) (1.24.4)\n",
      "Requirement already satisfied: decorator in /opt/conda/lib/python3.8/site-packages (from ipython<9->ipympl) (5.0.9)\n",
      "Requirement already satisfied: pygments in /opt/conda/lib/python3.8/site-packages (from ipython<9->ipympl) (2.9.0)\n",
      "Requirement already satisfied: pexpect>4.3; sys_platform != \"win32\" in /opt/conda/lib/python3.8/site-packages (from ipython<9->ipympl) (4.8.0)\n",
      "Requirement already satisfied: backcall in /opt/conda/lib/python3.8/site-packages (from ipython<9->ipympl) (0.2.0)\n",
      "Requirement already satisfied: setuptools>=18.5 in /opt/conda/lib/python3.8/site-packages (from ipython<9->ipympl) (70.3.0)\n",
      "Requirement already satisfied: matplotlib-inline in /opt/conda/lib/python3.8/site-packages (from ipython<9->ipympl) (0.1.2)\n",
      "Requirement already satisfied: prompt-toolkit!=3.0.0,!=3.0.1,<3.1.0,>=2.0.0 in /opt/conda/lib/python3.8/site-packages (from ipython<9->ipympl) (3.0.18)\n",
      "Requirement already satisfied: pickleshare in /opt/conda/lib/python3.8/site-packages (from ipython<9->ipympl) (0.7.5)\n",
      "Requirement already satisfied: jedi>=0.16 in /opt/conda/lib/python3.8/site-packages (from ipython<9->ipympl) (0.18.0)\n",
      "Requirement already satisfied: widgetsnbextension~=4.0.11 in /opt/conda/lib/python3.8/site-packages (from ipywidgets<9,>=7.6.0->ipympl) (4.0.11)\n",
      "Requirement already satisfied: comm>=0.1.3 in /opt/conda/lib/python3.8/site-packages (from ipywidgets<9,>=7.6.0->ipympl) (0.2.2)\n",
      "Requirement already satisfied: jupyterlab-widgets~=3.0.11 in /opt/conda/lib/python3.8/site-packages (from ipywidgets<9,>=7.6.0->ipympl) (3.0.11)\n",
      "Requirement already satisfied: kiwisolver>=1.0.1 in /opt/conda/lib/python3.8/site-packages (from matplotlib<4,>=3.4.0->ipympl) (1.4.5)\n",
      "Requirement already satisfied: packaging>=20.0 in /opt/conda/lib/python3.8/site-packages (from matplotlib<4,>=3.4.0->ipympl) (24.1)\n",
      "Requirement already satisfied: importlib-resources>=3.2.0; python_version < \"3.10\" in /opt/conda/lib/python3.8/site-packages (from matplotlib<4,>=3.4.0->ipympl) (6.4.0)\n",
      "Requirement already satisfied: python-dateutil>=2.7 in /opt/conda/lib/python3.8/site-packages (from matplotlib<4,>=3.4.0->ipympl) (2.9.0.post0)\n",
      "Requirement already satisfied: cycler>=0.10 in /opt/conda/lib/python3.8/site-packages (from matplotlib<4,>=3.4.0->ipympl) (0.12.1)\n",
      "Requirement already satisfied: fonttools>=4.22.0 in /opt/conda/lib/python3.8/site-packages (from matplotlib<4,>=3.4.0->ipympl) (4.53.1)\n",
      "Requirement already satisfied: pyparsing>=2.3.1 in /opt/conda/lib/python3.8/site-packages (from matplotlib<4,>=3.4.0->ipympl) (3.1.2)\n",
      "Requirement already satisfied: contourpy>=1.0.1 in /opt/conda/lib/python3.8/site-packages (from matplotlib<4,>=3.4.0->ipympl) (1.1.1)\n",
      "Requirement already satisfied: ptyprocess>=0.5 in /opt/conda/lib/python3.8/site-packages (from pexpect>4.3; sys_platform != \"win32\"->ipython<9->ipympl) (0.7.0)\n",
      "Requirement already satisfied: wcwidth in /opt/conda/lib/python3.8/site-packages (from prompt-toolkit!=3.0.0,!=3.0.1,<3.1.0,>=2.0.0->ipython<9->ipympl) (0.2.5)\n",
      "Requirement already satisfied: parso<0.9.0,>=0.8.0 in /opt/conda/lib/python3.8/site-packages (from jedi>=0.16->ipython<9->ipympl) (0.8.2)\n",
      "Requirement already satisfied: zipp>=3.1.0; python_version < \"3.10\" in /opt/conda/lib/python3.8/site-packages (from importlib-resources>=3.2.0; python_version < \"3.10\"->matplotlib<4,>=3.4.0->ipympl) (3.19.2)\n",
      "Requirement already satisfied: six>=1.5 in /opt/conda/lib/python3.8/site-packages (from python-dateutil>=2.7->matplotlib<4,>=3.4.0->ipympl) (1.16.0)\n",
      "Note: you may need to restart the kernel to use updated packages.\n"
     ]
    }
   ],
   "source": [
    "%pip install ipympl\n",
    "import ipympl\n",
    "import numpy as np\n",
    "import pandas as pd\n",
    "import matplotlib.pyplot as plt\n",
    "import collections\n",
    "from scipy.stats import zscore\n",
    "import bisect\n",
    "%matplotlib inline\n",
    "\n",
    "#add other imports as needed"
   ]
  },
  {
   "cell_type": "code",
   "execution_count": 2,
   "id": "763eceaa",
   "metadata": {
    "tags": []
   },
   "outputs": [],
   "source": [
    "import os"
   ]
  },
  {
   "cell_type": "code",
   "execution_count": 3,
   "id": "9a11ed38",
   "metadata": {
    "tags": []
   },
   "outputs": [],
   "source": [
    "import platform\n",
    "\n",
    "# Set file location based on platform. \n",
    "platstring = platform.platform()\n",
    "if ('Darwin' in platstring) or ('macOS' in platstring):\n",
    "    # macOS \n",
    "    data_root = \"/Volumes/TReND2024/\"\n",
    "elif 'Windows'  in platstring:\n",
    "    # Windows (replace with the drive letter of USB drive)\n",
    "    data_root = \"E:/\"\n",
    "elif ('amzn' in platstring):\n",
    "    # then on Code Ocean\n",
    "    data_root = \"/data/\"\n",
    "else:\n",
    "    # then your own linux platform\n",
    "    # EDIT location where you mounted hard drive\n",
    "    data_root = \"/media/$USERNAME/TReND2024/\""
   ]
  },
  {
   "cell_type": "code",
   "execution_count": 4,
   "id": "a475dc27",
   "metadata": {
    "tags": []
   },
   "outputs": [],
   "source": [
    "from allensdk.core.brain_observatory_cache import BrainObservatoryCache\n",
    "\n",
    "manifest_file = os.path.join(data_root,'allen-brain-observatory/visual-coding-2p/manifest.json')\n",
    "\n",
    "boc = BrainObservatoryCache(manifest_file=manifest_file)"
   ]
  },
  {
   "cell_type": "markdown",
   "id": "26d4215f",
   "metadata": {
    "tags": []
   },
   "source": [
    "Use code below to access Neuropixels data set. This is electrophysiological data. It is very similar to the data set we demonstrated, but has important differences, both in the science and in the access methods used in the python tools."
   ]
  },
  {
   "cell_type": "code",
   "execution_count": 5,
   "id": "fe55769f",
   "metadata": {
    "tags": []
   },
   "outputs": [],
   "source": [
    "from allensdk.brain_observatory.ecephys.ecephys_project_cache import EcephysProjectCache\n",
    "\n",
    "manifest_path = os.path.join(data_root,'allen-brain-observatory/visual-coding-neuropixels/ecephys-cache/manifest.json') \n",
    "\n",
    "cache = EcephysProjectCache.from_warehouse(manifest=manifest_path)"
   ]
  },
  {
   "cell_type": "code",
   "execution_count": 6,
   "id": "bda15532",
   "metadata": {
    "tags": []
   },
   "outputs": [
    {
     "data": {
      "text/plain": [
       "['VISal', 'VISam', 'VISl', 'VISp', 'VISpm', 'VISrl']"
      ]
     },
     "execution_count": 6,
     "metadata": {},
     "output_type": "execute_result"
    }
   ],
   "source": [
    "areas = boc.get_all_targeted_structures()\n",
    "areas"
   ]
  },
  {
   "cell_type": "code",
   "execution_count": 7,
   "id": "2167ecbe",
   "metadata": {
    "tags": []
   },
   "outputs": [
    {
     "data": {
      "text/plain": [
       "['Cux2-CreERT2',\n",
       " 'Emx1-IRES-Cre',\n",
       " 'Fezf2-CreER',\n",
       " 'Nr5a1-Cre',\n",
       " 'Ntsr1-Cre_GN220',\n",
       " 'Pvalb-IRES-Cre',\n",
       " 'Rbp4-Cre_KL100',\n",
       " 'Rorb-IRES2-Cre',\n",
       " 'Scnn1a-Tg3-Cre',\n",
       " 'Slc17a7-IRES2-Cre',\n",
       " 'Sst-IRES-Cre',\n",
       " 'Tlx3-Cre_PL56',\n",
       " 'Vip-IRES-Cre']"
      ]
     },
     "execution_count": 7,
     "metadata": {},
     "output_type": "execute_result"
    }
   ],
   "source": [
    "cre_lines = boc.get_all_cre_lines()\n",
    "cre_lines"
   ]
  },
  {
   "cell_type": "code",
   "execution_count": 8,
   "id": "a652d1ea",
   "metadata": {
    "tags": []
   },
   "outputs": [
    {
     "data": {
      "text/plain": [
       "[175,\n",
       " 185,\n",
       " 195,\n",
       " 200,\n",
       " 205,\n",
       " 225,\n",
       " 250,\n",
       " 265,\n",
       " 275,\n",
       " 276,\n",
       " 285,\n",
       " 300,\n",
       " 320,\n",
       " 325,\n",
       " 335,\n",
       " 350,\n",
       " 365,\n",
       " 375,\n",
       " 390,\n",
       " 400,\n",
       " 550,\n",
       " 570,\n",
       " 625]"
      ]
     },
     "execution_count": 8,
     "metadata": {},
     "output_type": "execute_result"
    }
   ],
   "source": [
    "imaging_depths = boc.get_all_imaging_depths()\n",
    "imaging_depths"
   ]
  },
  {
   "cell_type": "code",
   "execution_count": 9,
   "id": "860664bb",
   "metadata": {
    "tags": []
   },
   "outputs": [],
   "source": [
    "visual_area = [areas[3]]\n",
    "cre_line = [cre_lines[1]]\n",
    "imaging_depth = imaging_depths[:7]"
   ]
  },
  {
   "cell_type": "code",
   "execution_count": 10,
   "id": "f2e49771",
   "metadata": {
    "tags": []
   },
   "outputs": [
    {
     "name": "stdout",
     "output_type": "stream",
     "text": [
      "              VISal VISam VISl VISp VISpm VISrl  Total\n",
      "Emx1-IRES-Cre     2     1    5    3     2     4     17\n"
     ]
    }
   ],
   "source": [
    "#create an empty dataframe with colums as areas and index as cre_lines\n",
    "df = pd.DataFrame(columns=areas,index=cre_line)\n",
    "\n",
    "#populate the dataframe with the number of experiment containers for each combination\n",
    "for area in areas:\n",
    "    exps = boc.get_experiment_containers(targeted_structures=[area],cre_lines=cre_line,imaging_depths=imaging_depth)\n",
    "    df[area].loc[cre_line] = len(exps)\n",
    "\n",
    "df['Total'] = df.sum(axis=1).astype(int)\n",
    "\n",
    "#look at dataframe\n",
    "print(df)"
   ]
  },
  {
   "cell_type": "code",
   "execution_count": 11,
   "id": "f69dbc7a",
   "metadata": {
    "tags": []
   },
   "outputs": [
    {
     "data": {
      "text/html": [
       "<div>\n",
       "<style scoped>\n",
       "    .dataframe tbody tr th:only-of-type {\n",
       "        vertical-align: middle;\n",
       "    }\n",
       "\n",
       "    .dataframe tbody tr th {\n",
       "        vertical-align: top;\n",
       "    }\n",
       "\n",
       "    .dataframe thead th {\n",
       "        text-align: right;\n",
       "    }\n",
       "</style>\n",
       "<table border=\"1\" class=\"dataframe\">\n",
       "  <thead>\n",
       "    <tr style=\"text-align: right;\">\n",
       "      <th></th>\n",
       "      <th>id</th>\n",
       "      <th>imaging_depth</th>\n",
       "      <th>targeted_structure</th>\n",
       "      <th>cre_line</th>\n",
       "      <th>reporter_line</th>\n",
       "      <th>donor_name</th>\n",
       "      <th>specimen_name</th>\n",
       "      <th>tags</th>\n",
       "      <th>failed</th>\n",
       "    </tr>\n",
       "  </thead>\n",
       "  <tbody>\n",
       "    <tr>\n",
       "      <th>0</th>\n",
       "      <td>517328083</td>\n",
       "      <td>175</td>\n",
       "      <td>VISp</td>\n",
       "      <td>Emx1-IRES-Cre</td>\n",
       "      <td>Ai93(TITL-GCaMP6f)</td>\n",
       "      <td>237706</td>\n",
       "      <td>Emx1-IRES-Cre;Camk2a-tTA;Ai93-237706</td>\n",
       "      <td>[Epileptiform Events]</td>\n",
       "      <td>False</td>\n",
       "    </tr>\n",
       "    <tr>\n",
       "      <th>1</th>\n",
       "      <td>536323956</td>\n",
       "      <td>175</td>\n",
       "      <td>VISp</td>\n",
       "      <td>Emx1-IRES-Cre</td>\n",
       "      <td>Ai93(TITL-GCaMP6f)</td>\n",
       "      <td>252174</td>\n",
       "      <td>Emx1-IRES-Cre;Camk2a-tTA;Ai93(MG)-252174</td>\n",
       "      <td>[]</td>\n",
       "      <td>False</td>\n",
       "    </tr>\n",
       "    <tr>\n",
       "      <th>2</th>\n",
       "      <td>543677425</td>\n",
       "      <td>175</td>\n",
       "      <td>VISp</td>\n",
       "      <td>Emx1-IRES-Cre</td>\n",
       "      <td>Ai93(TITL-GCaMP6f)</td>\n",
       "      <td>260936</td>\n",
       "      <td>Emx1-IRES-Cre;Camk2a-tTA;Ai93-260936</td>\n",
       "      <td>[]</td>\n",
       "      <td>False</td>\n",
       "    </tr>\n",
       "  </tbody>\n",
       "</table>\n",
       "</div>"
      ],
      "text/plain": [
       "          id  imaging_depth targeted_structure       cre_line  \\\n",
       "0  517328083            175               VISp  Emx1-IRES-Cre   \n",
       "1  536323956            175               VISp  Emx1-IRES-Cre   \n",
       "2  543677425            175               VISp  Emx1-IRES-Cre   \n",
       "\n",
       "        reporter_line donor_name                             specimen_name  \\\n",
       "0  Ai93(TITL-GCaMP6f)     237706      Emx1-IRES-Cre;Camk2a-tTA;Ai93-237706   \n",
       "1  Ai93(TITL-GCaMP6f)     252174  Emx1-IRES-Cre;Camk2a-tTA;Ai93(MG)-252174   \n",
       "2  Ai93(TITL-GCaMP6f)     260936      Emx1-IRES-Cre;Camk2a-tTA;Ai93-260936   \n",
       "\n",
       "                    tags  failed  \n",
       "0  [Epileptiform Events]   False  \n",
       "1                     []   False  \n",
       "2                     []   False  "
      ]
     },
     "execution_count": 11,
     "metadata": {},
     "output_type": "execute_result"
    }
   ],
   "source": [
    "exps = pd.DataFrame(boc.get_experiment_containers(targeted_structures=visual_area,cre_lines=cre_line,imaging_depths=imaging_depth))\n",
    "exps"
   ]
  },
  {
   "cell_type": "code",
   "execution_count": 12,
   "id": "46ae4eee",
   "metadata": {},
   "outputs": [
    {
     "data": {
      "text/plain": [
       "array([517328083, 536323956, 543677425])"
      ]
     },
     "execution_count": 12,
     "metadata": {},
     "output_type": "execute_result"
    }
   ],
   "source": [
    "experiment_container_ids = exps.id.to_numpy()\n",
    "experiment_container_ids"
   ]
  },
  {
   "cell_type": "code",
   "execution_count": 13,
   "id": "f80f44cd",
   "metadata": {},
   "outputs": [
    {
     "data": {
      "text/plain": [
       "[{'id': 526928092,\n",
       "  'imaging_depth': 175,\n",
       "  'targeted_structure': 'VISp',\n",
       "  'cre_line': 'Emx1-IRES-Cre',\n",
       "  'reporter_line': 'Ai93(TITL-GCaMP6f)',\n",
       "  'acquisition_age_days': 143,\n",
       "  'experiment_container_id': 517328083,\n",
       "  'session_type': 'three_session_B',\n",
       "  'donor_name': '237706',\n",
       "  'specimen_name': 'Emx1-IRES-Cre;Camk2a-tTA;Ai93-237706',\n",
       "  'fail_eye_tracking': False},\n",
       " {'id': 541048140,\n",
       "  'imaging_depth': 175,\n",
       "  'targeted_structure': 'VISp',\n",
       "  'cre_line': 'Emx1-IRES-Cre',\n",
       "  'reporter_line': 'Ai93(TITL-GCaMP6f)',\n",
       "  'acquisition_age_days': 121,\n",
       "  'experiment_container_id': 536323956,\n",
       "  'session_type': 'three_session_B',\n",
       "  'donor_name': '252174',\n",
       "  'specimen_name': 'Emx1-IRES-Cre;Camk2a-tTA;Ai93(MG)-252174',\n",
       "  'fail_eye_tracking': False},\n",
       " {'id': 544507627,\n",
       "  'imaging_depth': 175,\n",
       "  'targeted_structure': 'VISp',\n",
       "  'cre_line': 'Emx1-IRES-Cre',\n",
       "  'reporter_line': 'Ai93(TITL-GCaMP6f)',\n",
       "  'acquisition_age_days': 93,\n",
       "  'experiment_container_id': 543677425,\n",
       "  'session_type': 'three_session_B',\n",
       "  'donor_name': '260936',\n",
       "  'specimen_name': 'Emx1-IRES-Cre;Camk2a-tTA;Ai93-260936',\n",
       "  'fail_eye_tracking': False}]"
      ]
     },
     "execution_count": 13,
     "metadata": {},
     "output_type": "execute_result"
    }
   ],
   "source": [
    "sessions = boc.get_ophys_experiments(experiment_container_ids=experiment_container_ids, stimuli=['natural_scenes'])\n",
    "sessions"
   ]
  },
  {
   "cell_type": "code",
   "execution_count": 14,
   "id": "a332aa01",
   "metadata": {},
   "outputs": [
    {
     "data": {
      "text/plain": [
       "541048140"
      ]
     },
     "execution_count": 14,
     "metadata": {},
     "output_type": "execute_result"
    }
   ],
   "source": [
    "session_id = sessions[1]['id']\n",
    "session_id"
   ]
  },
  {
   "cell_type": "code",
   "execution_count": 15,
   "id": "d6e7ab05",
   "metadata": {},
   "outputs": [],
   "source": [
    "data_set = boc.get_ophys_experiment_data(ophys_experiment_id=session_id)"
   ]
  },
  {
   "cell_type": "code",
   "execution_count": 16,
   "id": "87cf1ebb",
   "metadata": {},
   "outputs": [
    {
     "data": {
      "text/plain": [
       "allensdk.core.brain_observatory_nwb_data_set.BrainObservatoryNwbDataSet"
      ]
     },
     "execution_count": 16,
     "metadata": {},
     "output_type": "execute_result"
    }
   ],
   "source": [
    "type(data_set)"
   ]
  },
  {
   "cell_type": "code",
   "execution_count": 17,
   "id": "e701c484",
   "metadata": {},
   "outputs": [
    {
     "data": {
      "text/plain": [
       "(283,)"
      ]
     },
     "execution_count": 17,
     "metadata": {},
     "output_type": "execute_result"
    }
   ],
   "source": [
    "cell_ids = data_set.get_cell_specimen_ids()\n",
    "cell_ids.shape"
   ]
  },
  {
   "cell_type": "code",
   "execution_count": 18,
   "id": "b1a440ef",
   "metadata": {},
   "outputs": [
    {
     "data": {
      "text/plain": [
       "0       16122\n",
       "1       16129\n",
       "2       16137\n",
       "3       16144\n",
       "4       16152\n",
       "        ...  \n",
       "5945    96266\n",
       "5946    96274\n",
       "5947    96281\n",
       "5948    96289\n",
       "5949    96296\n",
       "Name: start, Length: 5950, dtype: int64"
      ]
     },
     "execution_count": 18,
     "metadata": {},
     "output_type": "execute_result"
    }
   ],
   "source": [
    "# get the stimulus table for the natural scenes stimulus\n",
    "stim_table = data_set.get_stimulus_table('natural_scenes')\n",
    "stim_table.start"
   ]
  },
  {
   "cell_type": "code",
   "execution_count": 19,
   "id": "5a59ef0a",
   "metadata": {},
   "outputs": [
    {
     "data": {
      "text/plain": [
       "(283, 114111)"
      ]
     },
     "execution_count": 19,
     "metadata": {},
     "output_type": "execute_result"
    }
   ],
   "source": [
    "# get trial-to-trial dff traces\n",
    "timestamps, dff = data_set.get_dff_traces()\n",
    "dff.shape"
   ]
  },
  {
   "cell_type": "code",
   "execution_count": 20,
   "id": "d7b28ebc",
   "metadata": {},
   "outputs": [
    {
     "data": {
      "text/plain": [
       "238"
      ]
     },
     "execution_count": 20,
     "metadata": {},
     "output_type": "execute_result"
    }
   ],
   "source": [
    "(stim_table.end-stim_table.start != 7).sum()"
   ]
  },
  {
   "cell_type": "code",
   "execution_count": 21,
   "id": "a2dbfd44",
   "metadata": {},
   "outputs": [],
   "source": [
    "stim_start = stim_table.start.min()\n",
    "stim_end = stim_table.end.max()+1"
   ]
  },
  {
   "cell_type": "code",
   "execution_count": 22,
   "id": "28dce209",
   "metadata": {},
   "outputs": [
    {
     "data": {
      "text/plain": [
       "(283, 80182)"
      ]
     },
     "execution_count": 22,
     "metadata": {},
     "output_type": "execute_result"
    }
   ],
   "source": [
    "dff = dff[:, stim_start:stim_end]\n",
    "dff.shape"
   ]
  },
  {
   "cell_type": "code",
   "execution_count": 23,
   "id": "7d61eb2d",
   "metadata": {},
   "outputs": [
    {
     "data": {
      "text/plain": [
       "(283, 114111)"
      ]
     },
     "execution_count": 23,
     "metadata": {},
     "output_type": "execute_result"
    }
   ],
   "source": [
    "events = boc.get_ophys_experiment_events(ophys_experiment_id=session_id)\n",
    "events.shape"
   ]
  },
  {
   "cell_type": "code",
   "execution_count": 24,
   "id": "cbb01e9e",
   "metadata": {},
   "outputs": [
    {
     "data": {
      "text/plain": [
       "(283, 80182)"
      ]
     },
     "execution_count": 24,
     "metadata": {},
     "output_type": "execute_result"
    }
   ],
   "source": [
    "events = events[:, stim_start:stim_end]\n",
    "events.shape"
   ]
  },
  {
   "cell_type": "code",
   "execution_count": 25,
   "id": "34be24d6",
   "metadata": {},
   "outputs": [
    {
     "data": {
      "text/plain": [
       "numpy.ndarray"
      ]
     },
     "execution_count": 25,
     "metadata": {},
     "output_type": "execute_result"
    }
   ],
   "source": [
    "type(events)"
   ]
  },
  {
   "cell_type": "code",
   "execution_count": 26,
   "id": "e62e11d7",
   "metadata": {},
   "outputs": [],
   "source": [
    "stim_table.end = stim_table.end - stim_start\n",
    "stim_table.start = stim_table.start - stim_start"
   ]
  },
  {
   "cell_type": "code",
   "execution_count": 27,
   "id": "ee66a912",
   "metadata": {},
   "outputs": [
    {
     "data": {
      "text/html": [
       "<div>\n",
       "<style scoped>\n",
       "    .dataframe tbody tr th:only-of-type {\n",
       "        vertical-align: middle;\n",
       "    }\n",
       "\n",
       "    .dataframe tbody tr th {\n",
       "        vertical-align: top;\n",
       "    }\n",
       "\n",
       "    .dataframe thead th {\n",
       "        text-align: right;\n",
       "    }\n",
       "</style>\n",
       "<table border=\"1\" class=\"dataframe\">\n",
       "  <thead>\n",
       "    <tr style=\"text-align: right;\">\n",
       "      <th></th>\n",
       "      <th>frame</th>\n",
       "      <th>start</th>\n",
       "      <th>end</th>\n",
       "    </tr>\n",
       "  </thead>\n",
       "  <tbody>\n",
       "    <tr>\n",
       "      <th>0</th>\n",
       "      <td>65</td>\n",
       "      <td>0</td>\n",
       "      <td>7</td>\n",
       "    </tr>\n",
       "    <tr>\n",
       "      <th>1</th>\n",
       "      <td>99</td>\n",
       "      <td>7</td>\n",
       "      <td>14</td>\n",
       "    </tr>\n",
       "    <tr>\n",
       "      <th>2</th>\n",
       "      <td>98</td>\n",
       "      <td>15</td>\n",
       "      <td>22</td>\n",
       "    </tr>\n",
       "    <tr>\n",
       "      <th>3</th>\n",
       "      <td>91</td>\n",
       "      <td>22</td>\n",
       "      <td>29</td>\n",
       "    </tr>\n",
       "    <tr>\n",
       "      <th>4</th>\n",
       "      <td>27</td>\n",
       "      <td>30</td>\n",
       "      <td>37</td>\n",
       "    </tr>\n",
       "    <tr>\n",
       "      <th>...</th>\n",
       "      <td>...</td>\n",
       "      <td>...</td>\n",
       "      <td>...</td>\n",
       "    </tr>\n",
       "    <tr>\n",
       "      <th>5945</th>\n",
       "      <td>-1</td>\n",
       "      <td>80144</td>\n",
       "      <td>80151</td>\n",
       "    </tr>\n",
       "    <tr>\n",
       "      <th>5946</th>\n",
       "      <td>54</td>\n",
       "      <td>80152</td>\n",
       "      <td>80159</td>\n",
       "    </tr>\n",
       "    <tr>\n",
       "      <th>5947</th>\n",
       "      <td>77</td>\n",
       "      <td>80159</td>\n",
       "      <td>80166</td>\n",
       "    </tr>\n",
       "    <tr>\n",
       "      <th>5948</th>\n",
       "      <td>95</td>\n",
       "      <td>80167</td>\n",
       "      <td>80174</td>\n",
       "    </tr>\n",
       "    <tr>\n",
       "      <th>5949</th>\n",
       "      <td>39</td>\n",
       "      <td>80174</td>\n",
       "      <td>80181</td>\n",
       "    </tr>\n",
       "  </tbody>\n",
       "</table>\n",
       "<p>5950 rows × 3 columns</p>\n",
       "</div>"
      ],
      "text/plain": [
       "      frame  start    end\n",
       "0        65      0      7\n",
       "1        99      7     14\n",
       "2        98     15     22\n",
       "3        91     22     29\n",
       "4        27     30     37\n",
       "...     ...    ...    ...\n",
       "5945     -1  80144  80151\n",
       "5946     54  80152  80159\n",
       "5947     77  80159  80166\n",
       "5948     95  80167  80174\n",
       "5949     39  80174  80181\n",
       "\n",
       "[5950 rows x 3 columns]"
      ]
     },
     "execution_count": 27,
     "metadata": {},
     "output_type": "execute_result"
    }
   ],
   "source": [
    "stim_table"
   ]
  },
  {
   "cell_type": "code",
   "execution_count": 59,
   "id": "42bd4eb4",
   "metadata": {},
   "outputs": [
    {
     "data": {
      "image/png": "[encoded data removed]",
      "text/plain": [
       "<Figure size 1008x576 with 1 Axes>"
      ]
     },
     "metadata": {
      "needs_background": "light"
     },
     "output_type": "display_data"
    }
   ],
   "source": [
    "fig = plt.figure(figsize=(14,8))\n",
    "for i in range(1):\n",
    "    plt.plot(events[i,:]+(i*2), color='gray')"
   ]
  },
  {
   "cell_type": "code",
   "execution_count": 29,
   "id": "26f828e5",
   "metadata": {},
   "outputs": [
    {
     "data": {
      "text/plain": [
       "(5950,)"
      ]
     },
     "execution_count": 29,
     "metadata": {},
     "output_type": "execute_result"
    }
   ],
   "source": [
    "averaging_indices = stim_table.end.to_numpy()\n",
    "averaging_indices.shape"
   ]
  },
  {
   "cell_type": "code",
   "execution_count": 30,
   "id": "51ca7e67",
   "metadata": {
    "tags": []
   },
   "outputs": [
    {
     "data": {
      "text/plain": [
       "(283, 5950)"
      ]
     },
     "execution_count": 30,
     "metadata": {},
     "output_type": "execute_result"
    }
   ],
   "source": [
    "cum_events = events.cumsum(axis=1)[:,averaging_indices]\n",
    "trial_responses = np.c_[cum_events[:,1] ,np.diff(cum_events, axis=1)]/(stim_table.end.to_numpy()-stim_table.start.to_numpy())\n",
    "trial_responses.shape"
   ]
  },
  {
   "cell_type": "code",
   "execution_count": 31,
   "id": "9ca7cebb",
   "metadata": {},
   "outputs": [],
   "source": [
    "# ts,fluor = data_set.get_fluorescence_traces()"
   ]
  },
  {
   "cell_type": "code",
   "execution_count": 32,
   "id": "1b0d9c14",
   "metadata": {},
   "outputs": [],
   "source": [
    "# cum_events = fluor.cumsum(axis=1)[:,averaging_indices]\n",
    "# trial_responses = np.c_[cum_events[:,1] ,np.diff(cum_events, axis=1)]/(stim_table.end.to_numpy()-stim_table.start.to_numpy())\n",
    "# trial_responses.shape"
   ]
  },
  {
   "cell_type": "code",
   "execution_count": 33,
   "id": "36e05ae7",
   "metadata": {},
   "outputs": [],
   "source": [
    "# plt.plot(stim_table.end,np.ones(stim_table.end.shape), 'o')"
   ]
  },
  {
   "cell_type": "code",
   "execution_count": 34,
   "id": "10f285ec",
   "metadata": {
    "tags": []
   },
   "outputs": [],
   "source": [
    "neural_data = trial_responses.T"
   ]
  },
  {
   "cell_type": "code",
   "execution_count": 35,
   "id": "7aae6004",
   "metadata": {},
   "outputs": [
    {
     "data": {
      "text/plain": [
       "(5950,)"
      ]
     },
     "execution_count": 35,
     "metadata": {},
     "output_type": "execute_result"
    }
   ],
   "source": [
    "neural_data.mean(axis=1).shape"
   ]
  },
  {
   "cell_type": "code",
   "execution_count": 36,
   "id": "b31cd154",
   "metadata": {},
   "outputs": [
    {
     "data": {
      "text/plain": [
       "(90608,)"
      ]
     },
     "execution_count": 36,
     "metadata": {},
     "output_type": "execute_result"
    }
   ],
   "source": [
    "neural_data[neural_data != 0].shape"
   ]
  },
  {
   "cell_type": "code",
   "execution_count": 37,
   "id": "3aef9346",
   "metadata": {},
   "outputs": [
    {
     "name": "stdout",
     "output_type": "stream",
     "text": [
      "max relative error of cov = -0.0001680954782292537\n"
     ]
    }
   ],
   "source": [
    "# first find the mean of the data\n",
    "mu = np.mean(neural_data,axis=0)\n",
    "\n",
    "# now compute the data covariance\n",
    "# don't forget to center your data first!\n",
    "neural_data_centered = neural_data - mu\n",
    "\n",
    "# now you can compute the covariance\n",
    "cov = (1/neural_data.shape[0]) * neural_data_centered.T @ neural_data_centered\n",
    "diff = cov - np.cov(neural_data_centered.T)\n",
    "print(\"max relative error of cov = \" + str(diff.max()/cov.flatten()[diff.argmax()]))\n",
    "\n",
    "# perform the eigendecomposition of the data covariance\n",
    "D, U = np.linalg.eig(cov) # D = vector of eigenvalues, U = eigenvectors matrix\n",
    "\n",
    "# make sure the eigenvalues are sorted (in descending order)\n",
    "indx = np.argsort(D)[::-1]\n",
    "D = D[indx]\n",
    "\n",
    "# arrange the eigenvectors according to the magnitude of the eigenvalues\n",
    "U = U[:,indx]"
   ]
  },
  {
   "cell_type": "code",
   "execution_count": 38,
   "id": "3045b39c",
   "metadata": {},
   "outputs": [
    {
     "data": {
      "image/png": "[encoded data removed]",
      "text/plain": [
       "<Figure size 432x288 with 1 Axes>"
      ]
     },
     "metadata": {
      "needs_background": "light"
     },
     "output_type": "display_data"
    }
   ],
   "source": [
    "percent_vars = 100 * D.cumsum() / D.sum()\n",
    "\n",
    "fig = plt.figure()\n",
    "plt.plot(percent_vars,'-o',color='k')\n",
    "plt.xlabel('dimensions')\n",
    "plt.ylabel('Percent variance explained')\n",
    "plt.title('Percentage of variance explained by Principle components')\n",
    "plt.show()"
   ]
  },
  {
   "cell_type": "code",
   "execution_count": 39,
   "id": "216c57db",
   "metadata": {},
   "outputs": [
    {
     "data": {
      "text/plain": [
       "(5950, 2)"
      ]
     },
     "execution_count": 39,
     "metadata": {},
     "output_type": "execute_result"
    }
   ],
   "source": [
    "k=2\n",
    "latent_data = neural_data @ U[:,:k]\n",
    "latent_data.shape"
   ]
  },
  {
   "cell_type": "code",
   "execution_count": 40,
   "id": "307a2e40",
   "metadata": {
    "tags": []
   },
   "outputs": [
    {
     "data": {
      "text/plain": [
       "<matplotlib.colorbar.Colorbar at 0x7fabc7572bb0>"
      ]
     },
     "execution_count": 40,
     "metadata": {},
     "output_type": "execute_result"
    },
    {
     "data": {
      "image/png": "[encoded data removed]",
      "text/plain": [
       "<Figure size 432x288 with 2 Axes>"
      ]
     },
     "metadata": {
      "needs_background": "light"
     },
     "output_type": "display_data"
    }
   ],
   "source": [
    "# fig = plt.figure()\n",
    "# ax= fig.add_subplot(projection='3d')\n",
    "plt.scatter(latent_data[:,0], latent_data[:,1], c=stim_table.frame, cmap=\"plasma\")\n",
    "plt.colorbar()"
   ]
  },
  {
   "cell_type": "code",
   "execution_count": 41,
   "id": "243c1091",
   "metadata": {
    "tags": []
   },
   "outputs": [
    {
     "name": "stdout",
     "output_type": "stream",
     "text": [
      "(5950, 1)\n"
     ]
    },
    {
     "data": {
      "text/plain": [
       "array([1920, 3840])"
      ]
     },
     "execution_count": 41,
     "metadata": {},
     "output_type": "execute_result"
    }
   ],
   "source": [
    "trial_responses_df = pd.DataFrame(trial_responses.mean(axis=0))\n",
    "print(trial_responses_df.shape)\n",
    "# Calculate the Z-score for each data point\n",
    "z_scores = trial_responses_df.apply(zscore)\n",
    "# Identify rows with any outlier (Z-score > 3 or Z-score < -3)\n",
    "outliers = (trial_responses_df[(z_scores > 3) | (z_scores < -3)].to_numpy() > 0).nonzero()[0]\n",
    "outliers"
   ]
  },
  {
   "cell_type": "code",
   "execution_count": 42,
   "id": "719ab2aa",
   "metadata": {},
   "outputs": [
    {
     "data": {
      "text/plain": [
       "array([ 54, 109])"
      ]
     },
     "execution_count": 42,
     "metadata": {},
     "output_type": "execute_result"
    }
   ],
   "source": [
    "outlier_images = stim_table['frame'][outliers].to_numpy()\n",
    "outlier_images"
   ]
  },
  {
   "cell_type": "code",
   "execution_count": 43,
   "id": "fc347d92",
   "metadata": {},
   "outputs": [
    {
     "data": {
      "text/html": [
       "<div>\n",
       "<style scoped>\n",
       "    .dataframe tbody tr th:only-of-type {\n",
       "        vertical-align: middle;\n",
       "    }\n",
       "\n",
       "    .dataframe tbody tr th {\n",
       "        vertical-align: top;\n",
       "    }\n",
       "\n",
       "    .dataframe thead th {\n",
       "        text-align: right;\n",
       "    }\n",
       "</style>\n",
       "<table border=\"1\" class=\"dataframe\">\n",
       "  <thead>\n",
       "    <tr style=\"text-align: right;\">\n",
       "      <th></th>\n",
       "      <th>frame</th>\n",
       "      <th>start</th>\n",
       "      <th>end</th>\n",
       "    </tr>\n",
       "  </thead>\n",
       "  <tbody>\n",
       "    <tr>\n",
       "      <th>1920</th>\n",
       "      <td>54</td>\n",
       "      <td>39656</td>\n",
       "      <td>39663</td>\n",
       "    </tr>\n",
       "    <tr>\n",
       "      <th>3840</th>\n",
       "      <td>109</td>\n",
       "      <td>80388</td>\n",
       "      <td>80395</td>\n",
       "    </tr>\n",
       "  </tbody>\n",
       "</table>\n",
       "</div>"
      ],
      "text/plain": [
       "      frame  start    end\n",
       "1920     54  39656  39663\n",
       "3840    109  80388  80395"
      ]
     },
     "execution_count": 43,
     "metadata": {},
     "output_type": "execute_result"
    }
   ],
   "source": [
    "data_set.get_stimulus_table('natural_scenes').iloc[outliers]\n"
   ]
  },
  {
   "cell_type": "code",
   "execution_count": 44,
   "id": "6d5c0c17",
   "metadata": {},
   "outputs": [
    {
     "ename": "NameError",
     "evalue": "name 'b' is not defined",
     "output_type": "error",
     "traceback": [
      "\u001b[0;31m---------------------------------------------------------------------------\u001b[0m",
      "\u001b[0;31mNameError\u001b[0m                                 Traceback (most recent call last)",
      "\u001b[0;32m<ipython-input-44-e7c2ec72b231>\u001b[0m in \u001b[0;36m<module>\u001b[0;34m\u001b[0m\n\u001b[1;32m     15\u001b[0m         \u001b[0;32melse\u001b[0m\u001b[0;34m:\u001b[0m \u001b[0mcolour\u001b[0m \u001b[0;34m=\u001b[0m \u001b[0;34m'grey'\u001b[0m\u001b[0;34m\u001b[0m\u001b[0;34m\u001b[0m\u001b[0m\n\u001b[1;32m     16\u001b[0m         \u001b[0max\u001b[0m\u001b[0;34m.\u001b[0m\u001b[0mplot\u001b[0m\u001b[0;34m(\u001b[0m\u001b[0mtrial_responses\u001b[0m\u001b[0;34m[\u001b[0m\u001b[0;34m:\u001b[0m\u001b[0;34m,\u001b[0m\u001b[0mj\u001b[0m\u001b[0;34m]\u001b[0m\u001b[0;34m,\u001b[0m \u001b[0;34m'o'\u001b[0m\u001b[0;34m,\u001b[0m \u001b[0mcolor\u001b[0m\u001b[0;34m=\u001b[0m\u001b[0mcolour\u001b[0m\u001b[0;34m)\u001b[0m\u001b[0;34m\u001b[0m\u001b[0;34m\u001b[0m\u001b[0m\n\u001b[0;32m---> 17\u001b[0;31m     \u001b[0mfig\u001b[0m\u001b[0;34m.\u001b[0m\u001b[0mcolorbar\u001b[0m\u001b[0;34m(\u001b[0m\u001b[0mb\u001b[0m\u001b[0;34m)\u001b[0m\u001b[0;34m\u001b[0m\u001b[0;34m\u001b[0m\u001b[0m\n\u001b[0m\u001b[1;32m     18\u001b[0m \u001b[0;34m\u001b[0m\u001b[0m\n",
      "\u001b[0;31mNameError\u001b[0m: name 'b' is not defined"
     ]
    },
    {
     "data": {
      "image/png": "[encoded data removed]",
      "text/plain": [
       "<Figure size 2304x1152 with 2 Axes>"
      ]
     },
     "metadata": {
      "needs_background": "light"
     },
     "output_type": "display_data"
    }
   ],
   "source": [
    "fig= plt.figure(figsize=(32,16))\n",
    "\n",
    "for i, outlier in enumerate(outliers):\n",
    "    ax=fig.add_subplot(len(outliers), 2, 2*i+1)\n",
    "    min_index, max_index = np.array([0,outlier-20]).max(), np.array([neural_data.shape[0], outlier+20]).min()\n",
    "    ax.imshow(neural_data[min_index:max_index,:].T, aspect='auto')\n",
    "    # plt.xticks(averaging_indices,averaging_indices)\n",
    "    ax.set_ylabel('Neuron #')\n",
    "    ax.set_xlabel('trial #')\n",
    "    ax.set_title('Heat map of neural population spike counts')\n",
    "    \n",
    "    ax=fig.add_subplot(len(outliers), 2, 2*i+2)\n",
    "    for j in range(min_index,max_index):\n",
    "        if j == outlier: colour = 'orange'\n",
    "        else: colour = 'grey'\n",
    "        ax.plot(trial_responses[:,j], 'o', color=colour)\n",
    "    fig.colorbar(b)\n",
    "   "
   ]
  },
  {
   "cell_type": "markdown",
   "id": "9e4eecbe",
   "metadata": {},
   "source": [
    "rm outliers"
   ]
  },
  {
   "cell_type": "code",
   "execution_count": 45,
   "id": "d42a8544",
   "metadata": {},
   "outputs": [
    {
     "data": {
      "text/plain": [
       "(283, 5948)"
      ]
     },
     "execution_count": 45,
     "metadata": {},
     "output_type": "execute_result"
    }
   ],
   "source": [
    "trial_responses = np.delete(trial_responses, outliers, axis=1)\n",
    "trial_responses.shape"
   ]
  },
  {
   "cell_type": "code",
   "execution_count": 46,
   "id": "cad433ab",
   "metadata": {
    "tags": []
   },
   "outputs": [
    {
     "data": {
      "text/plain": [
       "(5948,)"
      ]
     },
     "execution_count": 46,
     "metadata": {},
     "output_type": "execute_result"
    }
   ],
   "source": [
    "frames = stim_table['frame'].to_numpy()\n",
    "frames = np.delete(frames, outliers)\n",
    "frames.shape"
   ]
  },
  {
   "cell_type": "code",
   "execution_count": 47,
   "id": "65ffa58b",
   "metadata": {},
   "outputs": [
    {
     "data": {
      "text/plain": [
       "(283, 5948)"
      ]
     },
     "execution_count": 47,
     "metadata": {},
     "output_type": "execute_result"
    }
   ],
   "source": [
    "sorting_indices = np.argsort(frames)\n",
    "sorted_events = trial_responses[:,sorting_indices]\n",
    "sorted_events.shape"
   ]
  },
  {
   "cell_type": "code",
   "execution_count": 48,
   "id": "6b53dbdf",
   "metadata": {},
   "outputs": [
    {
     "data": {
      "text/plain": [
       "(119,)"
      ]
     },
     "execution_count": 48,
     "metadata": {},
     "output_type": "execute_result"
    }
   ],
   "source": [
    "num_trials_per_stim = np.fromiter(collections.Counter(np.sort(frames)).values(), dtype=float)\n",
    "num_trials_per_stim.shape"
   ]
  },
  {
   "cell_type": "code",
   "execution_count": 49,
   "id": "beb28e3f",
   "metadata": {},
   "outputs": [
    {
     "data": {
      "text/plain": [
       "(119,)"
      ]
     },
     "execution_count": 49,
     "metadata": {},
     "output_type": "execute_result"
    }
   ],
   "source": [
    "averaging_indices = num_trials_per_stim.cumsum().astype('int') - 1\n",
    "averaging_indices.shape"
   ]
  },
  {
   "cell_type": "code",
   "execution_count": 50,
   "id": "00afc475",
   "metadata": {},
   "outputs": [
    {
     "data": {
      "text/plain": [
       "(283, 119)"
      ]
     },
     "execution_count": 50,
     "metadata": {},
     "output_type": "execute_result"
    }
   ],
   "source": [
    "cum_trial_responses = sorted_events.cumsum(axis=1)[:,averaging_indices]\n",
    "stimulus_responses = np.c_[cum_trial_responses[:,1] ,np.diff(cum_trial_responses, axis=1)]/num_trials_per_stim\n",
    "stimulus_responses.shape"
   ]
  },
  {
   "cell_type": "markdown",
   "id": "cb228a5e",
   "metadata": {},
   "source": [
    "### Trials\n"
   ]
  },
  {
   "cell_type": "code",
   "execution_count": 51,
   "id": "3de3a25e",
   "metadata": {
    "tags": []
   },
   "outputs": [
    {
     "data": {
      "text/plain": [
       "(119, 283)"
      ]
     },
     "execution_count": 51,
     "metadata": {},
     "output_type": "execute_result"
    }
   ],
   "source": [
    "stimulus_responses = stimulus_responses.T\n",
    "stimulus_responses.shape"
   ]
  },
  {
   "cell_type": "code",
   "execution_count": 52,
   "id": "cd0961d7",
   "metadata": {},
   "outputs": [
    {
     "data": {
      "text/plain": [
       "Text(0.5, 1.0, 'Heat map of neural population spike counts')"
      ]
     },
     "execution_count": 52,
     "metadata": {},
     "output_type": "execute_result"
    },
    {
     "data": {
      "image/png": "[encoded data removed]",
      "text/plain": [
       "<Figure size 432x288 with 2 Axes>"
      ]
     },
     "metadata": {
      "needs_background": "light"
     },
     "output_type": "display_data"
    }
   ],
   "source": [
    "fig = plt.figure()\n",
    "b = plt.imshow(stimulus_responses.T, aspect='auto')\n",
    "fig.colorbar(b)\n",
    "# plt.xticks(averaging_indices,averaging_indices)\n",
    "plt.ylabel('Neuron #')\n",
    "plt.xlabel('Image #')\n",
    "plt.title('Heat map of neural population spike counts')"
   ]
  },
  {
   "cell_type": "code",
   "execution_count": 53,
   "id": "3ebc2e2e",
   "metadata": {},
   "outputs": [],
   "source": [
    "# first find the mean of the data\n",
    "mu = np.mean(stimulus_responses,axis=0)\n",
    "\n",
    "# now compute the data covariance\n",
    "# don't forget to center your data first!\n",
    "stimulus_responses_centered = stimulus_responses - mu\n",
    "\n",
    "# now you can compute the covariance\n",
    "# cov = (1/stimulus_responses.shape[0]) * stimulus_responses_centered.T @ stimulus_responses_centered\n",
    "# cov = (1/2)*(cov+cov.T)\n",
    "# diff = cov - np.cov(stimulus_responses_centered.T)\n",
    "# print(\"max relative error of cov = \" + str(diff.max()/cov.flatten()[diff.argmax()]))\n",
    "cov = np.cov(stimulus_responses_centered.T)\n",
    "# perform the eigendecomposition of the data covariance\n",
    "D, U = np.linalg.eig(cov) # D = vector of eigenvalues, U = eigenvectors matrix\n",
    "\n",
    "# make sure the eigenvalues are sorted (in descending order)\n",
    "indx = np.argsort(D)[::-1]\n",
    "D = D[indx]\n",
    "\n",
    "# arrange the eigenvectors according to the magnitude of the eigenvalues\n",
    "U = U[:,indx]"
   ]
  },
  {
   "cell_type": "code",
   "execution_count": 54,
   "id": "9aae6d48",
   "metadata": {},
   "outputs": [
    {
     "name": "stderr",
     "output_type": "stream",
     "text": [
      "/opt/conda/lib/python3.8/site-packages/matplotlib/cbook/__init__.py:1345: ComplexWarning: Casting complex values to real discards the imaginary part\n",
      "  return np.asarray(x, float)\n"
     ]
    },
    {
     "data": {
      "image/png": "[encoded data removed]",
      "text/plain": [
       "<Figure size 432x288 with 1 Axes>"
      ]
     },
     "metadata": {
      "needs_background": "light"
     },
     "output_type": "display_data"
    }
   ],
   "source": [
    "# TODO use norm\n",
    "percent_vars = 100 * D.cumsum() / D.sum()\n",
    "\n",
    "fig = plt.figure()\n",
    "plt.plot(percent_vars,'-o',color='k')\n",
    "plt.xlabel('dimensions')\n",
    "plt.ylabel('Percent variance explained')\n",
    "plt.title('Percentage of variance explained by Principle components')\n"
   ]
  },
  {
   "cell_type": "code",
   "execution_count": 55,
   "id": "2fcced46",
   "metadata": {},
   "outputs": [
    {
     "data": {
      "text/plain": [
       "54"
      ]
     },
     "execution_count": 55,
     "metadata": {},
     "output_type": "execute_result"
    }
   ],
   "source": [
    "required_variance = 95\n",
    "required_dimensions = bisect.bisect_left(percent_vars, required_variance) + 1\n",
    "required_dimensions"
   ]
  },
  {
   "cell_type": "code",
   "execution_count": 56,
   "id": "c8f61b77",
   "metadata": {},
   "outputs": [
    {
     "data": {
      "text/plain": [
       "(119, 3)"
      ]
     },
     "execution_count": 56,
     "metadata": {},
     "output_type": "execute_result"
    }
   ],
   "source": [
    "k=3\n",
    "latent_data = stimulus_responses @ U[:,:k]\n",
    "latent_data.shape"
   ]
  },
  {
   "cell_type": "code",
   "execution_count": 57,
   "id": "294a7f43",
   "metadata": {},
   "outputs": [
    {
     "name": "stderr",
     "output_type": "stream",
     "text": [
      "/opt/conda/lib/python3.8/site-packages/matplotlib/collections.py:192: ComplexWarning: Casting complex values to real discards the imaginary part\n",
      "  offsets = np.asanyarray(offsets, float)\n"
     ]
    },
    {
     "data": {
      "text/plain": [
       "Text(0.5, 0.92, 'Stimulus response data projected into three-dimensional PC space')"
      ]
     },
     "execution_count": 57,
     "metadata": {},
     "output_type": "execute_result"
    },
    {
     "name": "stderr",
     "output_type": "stream",
     "text": [
      "/opt/conda/lib/python3.8/site-packages/matplotlib/collections.py:551: ComplexWarning: Casting complex values to real discards the imaginary part\n",
      "  (np.asanyarray(self.convert_xunits(offsets[:, 0]), float),\n",
      "/opt/conda/lib/python3.8/site-packages/matplotlib/collections.py:552: ComplexWarning: Casting complex values to real discards the imaginary part\n",
      "  np.asanyarray(self.convert_yunits(offsets[:, 1]), float)))\n",
      "/opt/conda/lib/python3.8/site-packages/matplotlib/colors.py:389: ComplexWarning: Casting complex values to real discards the imaginary part\n",
      "  c = tuple(map(float, c))\n"
     ]
    },
    {
     "data": {
      "image/png": "[encoded data removed]",
      "text/plain": [
       "<Figure size 432x288 with 1 Axes>"
      ]
     },
     "metadata": {
      "needs_background": "light"
     },
     "output_type": "display_data"
    }
   ],
   "source": [
    "fig = plt.figure()\n",
    "ax  = fig.add_subplot(projection='3d')\n",
    "\n",
    "ax.scatter(latent_data[:,0], latent_data[:,1],  latent_data[:,2], 'o', color=plt.cm.inferno.colors[:latent_data.shape[0]])\n",
    "\n",
    "ax.set_xlabel('PC 1')\n",
    "ax.set_ylabel('PC 2')\n",
    "ax.set_zlabel('PC 3')\n",
    "\n",
    "plt.title('Stimulus response data projected into three-dimensional PC space')\n"
   ]
  },
  {
   "cell_type": "code",
   "execution_count": 58,
   "id": "ad4efd81",
   "metadata": {
    "tags": []
   },
   "outputs": [
    {
     "data": {
      "text/plain": [
       "<matplotlib.collections.PathCollection at 0x7fabc6527460>"
      ]
     },
     "execution_count": 58,
     "metadata": {},
     "output_type": "execute_result"
    },
    {
     "data": {
      "image/png": "[encoded data removed]",
      "text/plain": [
       "<Figure size 432x288 with 1 Axes>"
      ]
     },
     "metadata": {
      "needs_background": "light"
     },
     "output_type": "display_data"
    }
   ],
   "source": [
    "# fig = plt.figure()\n",
    "# ax= fig.add_subplot(projection='3d')\n",
    "plt.scatter(latent_data[:,0], latent_data[:,1],color=plt.cm.inferno.colors[:latent_data.shape[0]])"
   ]
  },
  {
   "cell_type": "code",
   "execution_count": null,
   "id": "9c7f97bc",
   "metadata": {},
   "outputs": [],
   "source": []
  },
  {
   "cell_type": "code",
   "execution_count": null,
   "id": "6d50ed60",
   "metadata": {},
   "outputs": [],
   "source": []
  }
 ],
 "metadata": {
  "kernelspec": {
   "display_name": "Python 3",
   "language": "python",
   "name": "python3"
  },
  "language_info": {
   "codemirror_mode": {
    "name": "ipython",
    "version": 3
   },
   "file_extension": ".py",
   "mimetype": "text/x-python",
   "name": "python",
   "nbconvert_exporter": "python",
   "pygments_lexer": "ipython3",
   "version": "3.8.5"
  }
 },
 "nbformat": 4,
 "nbformat_minor": 5
}
