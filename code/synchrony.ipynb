{
 "cells": [
  {
   "cell_type": "code",
   "execution_count": 6,
   "id": "49cb5fd8",
   "metadata": {},
   "outputs": [],
   "source": [
    "import numpy as np\n",
    "import pandas as pd\n",
    "import matplotlib.pyplot as plt\n",
    "%matplotlib inline\n",
    "#add other imports as needed"
   ]
  },
  {
   "cell_type": "code",
   "execution_count": 7,
   "id": "ef4bf353",
   "metadata": {},
   "outputs": [],
   "source": [
    "import os"
   ]
  },
  {
   "cell_type": "code",
   "execution_count": 8,
   "id": "c4db3d1e",
   "metadata": {},
   "outputs": [],
   "source": [
    "import platform\n",
    "\n",
    "# Set file location based on platform. \n",
    "platstring = platform.platform()\n",
    "if ('Darwin' in platstring) or ('macOS' in platstring):\n",
    "    # macOS \n",
    "    data_root = \"/Volumes/TReND2024/\"\n",
    "elif 'Windows'  in platstring:\n",
    "    # Windows (replace with the drive letter of USB drive)\n",
    "    data_root = \"E:/\"\n",
    "elif ('amzn' in platstring):\n",
    "    # then on Code Ocean\n",
    "    data_root = \"/data/\"\n",
    "else:\n",
    "    # then your own linux platform\n",
    "    # EDIT location where you mounted hard drive\n",
    "    data_root = \"/media/$USERNAME/TReND2024/\""
   ]
  },
  {
   "cell_type": "code",
   "execution_count": 9,
   "id": "2da60667",
   "metadata": {},
   "outputs": [],
   "source": [
    "from allensdk.core.brain_observatory_cache import BrainObservatoryCache\n",
    "\n",
    "manifest_file = os.path.join(data_root,'allen-brain-observatory/visual-coding-2p/manifest.json')\n",
    "\n",
    "boc = BrainObservatoryCache(manifest_file=manifest_file)"
   ]
  },
  {
   "cell_type": "markdown",
   "id": "8cc9a8a1",
   "metadata": {},
   "source": [
    "Use code below to access Neuropixels data set. This is electrophysiological data. It is very similar to the data set we demonstrated, but has important differences, both in the science and in the access methods used in the python tools."
   ]
  },
  {
   "cell_type": "code",
   "execution_count": 10,
   "id": "cdf0b0ca",
   "metadata": {},
   "outputs": [],
   "source": [
    "from allensdk.brain_observatory.ecephys.ecephys_project_cache import EcephysProjectCache\n",
    "\n",
    "manifest_path = os.path.join(data_root,'allen-brain-observatory/visual-coding-neuropixels/ecephys-cache/manifest.json') \n",
    "\n",
    "cache = EcephysProjectCache.from_warehouse(manifest=manifest_path)"
   ]
  },
  {
   "cell_type": "code",
   "execution_count": 11,
   "id": "cdff3c98",
   "metadata": {},
   "outputs": [
    {
     "data": {
      "text/plain": [
       "['VISal', 'VISam', 'VISl', 'VISp', 'VISpm', 'VISrl']"
      ]
     },
     "execution_count": 11,
     "metadata": {},
     "output_type": "execute_result"
    }
   ],
   "source": [
    "areas = boc.get_all_targeted_structures()\n",
    "areas"
   ]
  },
  {
   "cell_type": "code",
   "execution_count": 12,
   "id": "59aa509c",
   "metadata": {},
   "outputs": [
    {
     "data": {
      "text/plain": [
       "['Cux2-CreERT2',\n",
       " 'Emx1-IRES-Cre',\n",
       " 'Fezf2-CreER',\n",
       " 'Nr5a1-Cre',\n",
       " 'Ntsr1-Cre_GN220',\n",
       " 'Pvalb-IRES-Cre',\n",
       " 'Rbp4-Cre_KL100',\n",
       " 'Rorb-IRES2-Cre',\n",
       " 'Scnn1a-Tg3-Cre',\n",
       " 'Slc17a7-IRES2-Cre',\n",
       " 'Sst-IRES-Cre',\n",
       " 'Tlx3-Cre_PL56',\n",
       " 'Vip-IRES-Cre']"
      ]
     },
     "execution_count": 12,
     "metadata": {},
     "output_type": "execute_result"
    }
   ],
   "source": [
    "cre_lines = boc.get_all_cre_lines()\n",
    "cre_lines"
   ]
  },
  {
   "cell_type": "code",
   "execution_count": 13,
   "id": "8e953d77",
   "metadata": {},
   "outputs": [
    {
     "data": {
      "text/html": [
       "<div>\n",
       "<style scoped>\n",
       "    .dataframe tbody tr th:only-of-type {\n",
       "        vertical-align: middle;\n",
       "    }\n",
       "\n",
       "    .dataframe tbody tr th {\n",
       "        vertical-align: top;\n",
       "    }\n",
       "\n",
       "    .dataframe thead th {\n",
       "        text-align: right;\n",
       "    }\n",
       "</style>\n",
       "<table border=\"1\" class=\"dataframe\">\n",
       "  <thead>\n",
       "    <tr style=\"text-align: right;\">\n",
       "      <th></th>\n",
       "      <th>VISal</th>\n",
       "      <th>VISam</th>\n",
       "      <th>VISl</th>\n",
       "      <th>VISp</th>\n",
       "      <th>VISpm</th>\n",
       "      <th>VISrl</th>\n",
       "    </tr>\n",
       "  </thead>\n",
       "  <tbody>\n",
       "    <tr>\n",
       "      <th>Cux2-CreERT2</th>\n",
       "      <td>13</td>\n",
       "      <td>11</td>\n",
       "      <td>11</td>\n",
       "      <td>16</td>\n",
       "      <td>13</td>\n",
       "      <td>12</td>\n",
       "    </tr>\n",
       "    <tr>\n",
       "      <th>Emx1-IRES-Cre</th>\n",
       "      <td>7</td>\n",
       "      <td>3</td>\n",
       "      <td>8</td>\n",
       "      <td>10</td>\n",
       "      <td>4</td>\n",
       "      <td>9</td>\n",
       "    </tr>\n",
       "    <tr>\n",
       "      <th>Fezf2-CreER</th>\n",
       "      <td>0</td>\n",
       "      <td>0</td>\n",
       "      <td>5</td>\n",
       "      <td>4</td>\n",
       "      <td>0</td>\n",
       "      <td>0</td>\n",
       "    </tr>\n",
       "    <tr>\n",
       "      <th>Nr5a1-Cre</th>\n",
       "      <td>6</td>\n",
       "      <td>6</td>\n",
       "      <td>6</td>\n",
       "      <td>8</td>\n",
       "      <td>7</td>\n",
       "      <td>6</td>\n",
       "    </tr>\n",
       "    <tr>\n",
       "      <th>Ntsr1-Cre_GN220</th>\n",
       "      <td>0</td>\n",
       "      <td>0</td>\n",
       "      <td>7</td>\n",
       "      <td>6</td>\n",
       "      <td>5</td>\n",
       "      <td>0</td>\n",
       "    </tr>\n",
       "    <tr>\n",
       "      <th>Pvalb-IRES-Cre</th>\n",
       "      <td>0</td>\n",
       "      <td>0</td>\n",
       "      <td>5</td>\n",
       "      <td>16</td>\n",
       "      <td>0</td>\n",
       "      <td>0</td>\n",
       "    </tr>\n",
       "    <tr>\n",
       "      <th>Rbp4-Cre_KL100</th>\n",
       "      <td>6</td>\n",
       "      <td>8</td>\n",
       "      <td>7</td>\n",
       "      <td>7</td>\n",
       "      <td>6</td>\n",
       "      <td>4</td>\n",
       "    </tr>\n",
       "    <tr>\n",
       "      <th>Rorb-IRES2-Cre</th>\n",
       "      <td>6</td>\n",
       "      <td>8</td>\n",
       "      <td>6</td>\n",
       "      <td>8</td>\n",
       "      <td>7</td>\n",
       "      <td>5</td>\n",
       "    </tr>\n",
       "    <tr>\n",
       "      <th>Scnn1a-Tg3-Cre</th>\n",
       "      <td>0</td>\n",
       "      <td>0</td>\n",
       "      <td>0</td>\n",
       "      <td>9</td>\n",
       "      <td>0</td>\n",
       "      <td>0</td>\n",
       "    </tr>\n",
       "    <tr>\n",
       "      <th>Slc17a7-IRES2-Cre</th>\n",
       "      <td>2</td>\n",
       "      <td>2</td>\n",
       "      <td>16</td>\n",
       "      <td>20</td>\n",
       "      <td>15</td>\n",
       "      <td>2</td>\n",
       "    </tr>\n",
       "    <tr>\n",
       "      <th>Sst-IRES-Cre</th>\n",
       "      <td>1</td>\n",
       "      <td>0</td>\n",
       "      <td>15</td>\n",
       "      <td>17</td>\n",
       "      <td>14</td>\n",
       "      <td>2</td>\n",
       "    </tr>\n",
       "    <tr>\n",
       "      <th>Tlx3-Cre_PL56</th>\n",
       "      <td>0</td>\n",
       "      <td>0</td>\n",
       "      <td>3</td>\n",
       "      <td>6</td>\n",
       "      <td>0</td>\n",
       "      <td>0</td>\n",
       "    </tr>\n",
       "    <tr>\n",
       "      <th>Vip-IRES-Cre</th>\n",
       "      <td>0</td>\n",
       "      <td>0</td>\n",
       "      <td>17</td>\n",
       "      <td>17</td>\n",
       "      <td>16</td>\n",
       "      <td>0</td>\n",
       "    </tr>\n",
       "  </tbody>\n",
       "</table>\n",
       "</div>"
      ],
      "text/plain": [
       "                  VISal VISam VISl VISp VISpm VISrl\n",
       "Cux2-CreERT2         13    11   11   16    13    12\n",
       "Emx1-IRES-Cre         7     3    8   10     4     9\n",
       "Fezf2-CreER           0     0    5    4     0     0\n",
       "Nr5a1-Cre             6     6    6    8     7     6\n",
       "Ntsr1-Cre_GN220       0     0    7    6     5     0\n",
       "Pvalb-IRES-Cre        0     0    5   16     0     0\n",
       "Rbp4-Cre_KL100        6     8    7    7     6     4\n",
       "Rorb-IRES2-Cre        6     8    6    8     7     5\n",
       "Scnn1a-Tg3-Cre        0     0    0    9     0     0\n",
       "Slc17a7-IRES2-Cre     2     2   16   20    15     2\n",
       "Sst-IRES-Cre          1     0   15   17    14     2\n",
       "Tlx3-Cre_PL56         0     0    3    6     0     0\n",
       "Vip-IRES-Cre          0     0   17   17    16     0"
      ]
     },
     "execution_count": 13,
     "metadata": {},
     "output_type": "execute_result"
    }
   ],
   "source": [
    "#create an empty dataframe with colums as areas and index as cre_lines\n",
    "df = pd.DataFrame(columns=areas,index=cre_lines)\n",
    "\n",
    "#populate the dataframe with the number of experiment containers for each combination\n",
    "for cre in cre_lines:\n",
    "    for area in areas:\n",
    "        exps = boc.get_experiment_containers(targeted_structures=[area],cre_lines=[cre])\n",
    "        df[area].loc[cre] =len(exps)\n",
    "\n",
    "#look at dataframe\n",
    "df"
   ]
  },
  {
   "cell_type": "code",
   "execution_count": 14,
   "id": "60b53596",
   "metadata": {},
   "outputs": [],
   "source": [
    "visual_area = areas[3]"
   ]
  },
  {
   "cell_type": "code",
   "execution_count": 15,
   "id": "509781b9",
   "metadata": {},
   "outputs": [
    {
     "data": {
      "text/html": [
       "<div>\n",
       "<style scoped>\n",
       "    .dataframe tbody tr th:only-of-type {\n",
       "        vertical-align: middle;\n",
       "    }\n",
       "\n",
       "    .dataframe tbody tr th {\n",
       "        vertical-align: top;\n",
       "    }\n",
       "\n",
       "    .dataframe thead th {\n",
       "        text-align: right;\n",
       "    }\n",
       "</style>\n",
       "<table border=\"1\" class=\"dataframe\">\n",
       "  <thead>\n",
       "    <tr style=\"text-align: right;\">\n",
       "      <th></th>\n",
       "      <th>id</th>\n",
       "      <th>imaging_depth</th>\n",
       "      <th>targeted_structure</th>\n",
       "      <th>cre_line</th>\n",
       "      <th>reporter_line</th>\n",
       "      <th>donor_name</th>\n",
       "      <th>specimen_name</th>\n",
       "      <th>tags</th>\n",
       "      <th>failed</th>\n",
       "    </tr>\n",
       "  </thead>\n",
       "  <tbody>\n",
       "    <tr>\n",
       "      <th>0</th>\n",
       "      <td>661437138</td>\n",
       "      <td>175</td>\n",
       "      <td>VISp</td>\n",
       "      <td>Slc17a7-IRES2-Cre</td>\n",
       "      <td>Ai93(TITL-GCaMP6f)</td>\n",
       "      <td>365251</td>\n",
       "      <td>Slc17a7-IRES2-Cre;Camk2a-tTA;Ai93-365251</td>\n",
       "      <td>[]</td>\n",
       "      <td>False</td>\n",
       "    </tr>\n",
       "    <tr>\n",
       "      <th>1</th>\n",
       "      <td>511510911</td>\n",
       "      <td>350</td>\n",
       "      <td>VISp</td>\n",
       "      <td>Scnn1a-Tg3-Cre</td>\n",
       "      <td>Ai93(TITL-GCaMP6f)</td>\n",
       "      <td>230570</td>\n",
       "      <td>Scnn1a-Tg3-Cre;Camk2a-tTA;Ai93-230570</td>\n",
       "      <td>[]</td>\n",
       "      <td>False</td>\n",
       "    </tr>\n",
       "    <tr>\n",
       "      <th>2</th>\n",
       "      <td>644909309</td>\n",
       "      <td>550</td>\n",
       "      <td>VISp</td>\n",
       "      <td>Ntsr1-Cre_GN220</td>\n",
       "      <td>Ai148(TIT2L-GC6f-ICL-tTA2)</td>\n",
       "      <td>348105</td>\n",
       "      <td>Ntsr1-Cre_GN220;Ai148-348105</td>\n",
       "      <td>[]</td>\n",
       "      <td>False</td>\n",
       "    </tr>\n",
       "    <tr>\n",
       "      <th>3</th>\n",
       "      <td>511510736</td>\n",
       "      <td>175</td>\n",
       "      <td>VISp</td>\n",
       "      <td>Cux2-CreERT2</td>\n",
       "      <td>Ai93(TITL-GCaMP6f)</td>\n",
       "      <td>222426</td>\n",
       "      <td>Cux2-CreERT2;Camk2a-tTA;Ai93-222426</td>\n",
       "      <td>[]</td>\n",
       "      <td>False</td>\n",
       "    </tr>\n",
       "    <tr>\n",
       "      <th>4</th>\n",
       "      <td>528792730</td>\n",
       "      <td>350</td>\n",
       "      <td>VISp</td>\n",
       "      <td>Nr5a1-Cre</td>\n",
       "      <td>Ai93(TITL-GCaMP6f)</td>\n",
       "      <td>248894</td>\n",
       "      <td>Nr5a1-Cre;Camk2a-tTA;Ai93-248894</td>\n",
       "      <td>[]</td>\n",
       "      <td>False</td>\n",
       "    </tr>\n",
       "    <tr>\n",
       "      <th>...</th>\n",
       "      <td>...</td>\n",
       "      <td>...</td>\n",
       "      <td>...</td>\n",
       "      <td>...</td>\n",
       "      <td>...</td>\n",
       "      <td>...</td>\n",
       "      <td>...</td>\n",
       "      <td>...</td>\n",
       "      <td>...</td>\n",
       "    </tr>\n",
       "    <tr>\n",
       "      <th>139</th>\n",
       "      <td>511510718</td>\n",
       "      <td>175</td>\n",
       "      <td>VISp</td>\n",
       "      <td>Cux2-CreERT2</td>\n",
       "      <td>Ai93(TITL-GCaMP6f)</td>\n",
       "      <td>231584</td>\n",
       "      <td>Cux2-CreERT2;Camk2a-tTA;Ai93-231584</td>\n",
       "      <td>[]</td>\n",
       "      <td>False</td>\n",
       "    </tr>\n",
       "    <tr>\n",
       "      <th>140</th>\n",
       "      <td>511510989</td>\n",
       "      <td>275</td>\n",
       "      <td>VISp</td>\n",
       "      <td>Rorb-IRES2-Cre</td>\n",
       "      <td>Ai93(TITL-GCaMP6f)</td>\n",
       "      <td>222431</td>\n",
       "      <td>Rorb-IRES2-Cre;Camk2a-tTA;Ai93-222431</td>\n",
       "      <td>[]</td>\n",
       "      <td>False</td>\n",
       "    </tr>\n",
       "    <tr>\n",
       "      <th>141</th>\n",
       "      <td>527676429</td>\n",
       "      <td>275</td>\n",
       "      <td>VISp</td>\n",
       "      <td>Emx1-IRES-Cre</td>\n",
       "      <td>Ai93(TITL-GCaMP6f)</td>\n",
       "      <td>237706</td>\n",
       "      <td>Emx1-IRES-Cre;Camk2a-tTA;Ai93-237706</td>\n",
       "      <td>[Epileptiform Events]</td>\n",
       "      <td>False</td>\n",
       "    </tr>\n",
       "    <tr>\n",
       "      <th>142</th>\n",
       "      <td>580043437</td>\n",
       "      <td>275</td>\n",
       "      <td>VISp</td>\n",
       "      <td>Sst-IRES-Cre</td>\n",
       "      <td>Ai148(TIT2L-GC6f-ICL-tTA2)</td>\n",
       "      <td>297504</td>\n",
       "      <td>Sst-IRES-Cre;Ai148(CAM)-297504</td>\n",
       "      <td>[]</td>\n",
       "      <td>False</td>\n",
       "    </tr>\n",
       "    <tr>\n",
       "      <th>143</th>\n",
       "      <td>637669268</td>\n",
       "      <td>375</td>\n",
       "      <td>VISp</td>\n",
       "      <td>Tlx3-Cre_PL56</td>\n",
       "      <td>Ai148(TIT2L-GC6f-ICL-tTA2)</td>\n",
       "      <td>340427</td>\n",
       "      <td>Tlx3-Cre_PL56;Ai148-340427</td>\n",
       "      <td>[]</td>\n",
       "      <td>False</td>\n",
       "    </tr>\n",
       "  </tbody>\n",
       "</table>\n",
       "<p>144 rows × 9 columns</p>\n",
       "</div>"
      ],
      "text/plain": [
       "            id  imaging_depth targeted_structure           cre_line  \\\n",
       "0    661437138            175               VISp  Slc17a7-IRES2-Cre   \n",
       "1    511510911            350               VISp     Scnn1a-Tg3-Cre   \n",
       "2    644909309            550               VISp    Ntsr1-Cre_GN220   \n",
       "3    511510736            175               VISp       Cux2-CreERT2   \n",
       "4    528792730            350               VISp          Nr5a1-Cre   \n",
       "..         ...            ...                ...                ...   \n",
       "139  511510718            175               VISp       Cux2-CreERT2   \n",
       "140  511510989            275               VISp     Rorb-IRES2-Cre   \n",
       "141  527676429            275               VISp      Emx1-IRES-Cre   \n",
       "142  580043437            275               VISp       Sst-IRES-Cre   \n",
       "143  637669268            375               VISp      Tlx3-Cre_PL56   \n",
       "\n",
       "                  reporter_line donor_name  \\\n",
       "0            Ai93(TITL-GCaMP6f)     365251   \n",
       "1            Ai93(TITL-GCaMP6f)     230570   \n",
       "2    Ai148(TIT2L-GC6f-ICL-tTA2)     348105   \n",
       "3            Ai93(TITL-GCaMP6f)     222426   \n",
       "4            Ai93(TITL-GCaMP6f)     248894   \n",
       "..                          ...        ...   \n",
       "139          Ai93(TITL-GCaMP6f)     231584   \n",
       "140          Ai93(TITL-GCaMP6f)     222431   \n",
       "141          Ai93(TITL-GCaMP6f)     237706   \n",
       "142  Ai148(TIT2L-GC6f-ICL-tTA2)     297504   \n",
       "143  Ai148(TIT2L-GC6f-ICL-tTA2)     340427   \n",
       "\n",
       "                                specimen_name                   tags  failed  \n",
       "0    Slc17a7-IRES2-Cre;Camk2a-tTA;Ai93-365251                     []   False  \n",
       "1       Scnn1a-Tg3-Cre;Camk2a-tTA;Ai93-230570                     []   False  \n",
       "2                Ntsr1-Cre_GN220;Ai148-348105                     []   False  \n",
       "3         Cux2-CreERT2;Camk2a-tTA;Ai93-222426                     []   False  \n",
       "4            Nr5a1-Cre;Camk2a-tTA;Ai93-248894                     []   False  \n",
       "..                                        ...                    ...     ...  \n",
       "139       Cux2-CreERT2;Camk2a-tTA;Ai93-231584                     []   False  \n",
       "140     Rorb-IRES2-Cre;Camk2a-tTA;Ai93-222431                     []   False  \n",
       "141      Emx1-IRES-Cre;Camk2a-tTA;Ai93-237706  [Epileptiform Events]   False  \n",
       "142            Sst-IRES-Cre;Ai148(CAM)-297504                     []   False  \n",
       "143                Tlx3-Cre_PL56;Ai148-340427                     []   False  \n",
       "\n",
       "[144 rows x 9 columns]"
      ]
     },
     "execution_count": 15,
     "metadata": {},
     "output_type": "execute_result"
    }
   ],
   "source": [
    "exps = boc.get_experiment_containers(targeted_structures=[visual_area])\n",
    "pd.DataFrame(exps)"
   ]
  },
  {
   "cell_type": "code",
   "execution_count": 76,
   "id": "31b57c86",
   "metadata": {},
   "outputs": [],
   "source": [
    "experiment_container_ids = [exps[120]['id']]"
   ]
  },
  {
   "cell_type": "code",
   "execution_count": 77,
   "id": "f441fd84",
   "metadata": {},
   "outputs": [],
   "source": [
    "sessions = boc.get_ophys_experiments(experiment_container_ids=experiment_container_ids, stimuli=['natural_scenes'])"
   ]
  },
  {
   "cell_type": "code",
   "execution_count": 78,
   "id": "2ecf5a42",
   "metadata": {},
   "outputs": [
    {
     "data": {
      "text/plain": [
       "660065134"
      ]
     },
     "execution_count": 78,
     "metadata": {},
     "output_type": "execute_result"
    }
   ],
   "source": [
    "session_id = sessions[0]['id']\n",
    "session_id"
   ]
  },
  {
   "cell_type": "code",
   "execution_count": 79,
   "id": "043cbde3",
   "metadata": {},
   "outputs": [],
   "source": [
    "data_set = boc.get_ophys_experiment_data(ophys_experiment_id=session_id)"
   ]
  },
  {
   "cell_type": "code",
   "execution_count": 80,
   "id": "e1be816f",
   "metadata": {},
   "outputs": [
    {
     "data": {
      "text/plain": [
       "(158,)"
      ]
     },
     "execution_count": 80,
     "metadata": {},
     "output_type": "execute_result"
    }
   ],
   "source": [
    "cell_ids = data_set.get_cell_specimen_ids()\n",
    "cell_ids.shape"
   ]
  },
  {
   "cell_type": "code",
   "execution_count": 81,
   "id": "fc0d7656",
   "metadata": {},
   "outputs": [
    {
     "data": {
      "text/html": [
       "<div>\n",
       "<style scoped>\n",
       "    .dataframe tbody tr th:only-of-type {\n",
       "        vertical-align: middle;\n",
       "    }\n",
       "\n",
       "    .dataframe tbody tr th {\n",
       "        vertical-align: top;\n",
       "    }\n",
       "\n",
       "    .dataframe thead th {\n",
       "        text-align: right;\n",
       "    }\n",
       "</style>\n",
       "<table border=\"1\" class=\"dataframe\">\n",
       "  <thead>\n",
       "    <tr style=\"text-align: right;\">\n",
       "      <th></th>\n",
       "      <th>frame</th>\n",
       "      <th>start</th>\n",
       "      <th>end</th>\n",
       "    </tr>\n",
       "  </thead>\n",
       "  <tbody>\n",
       "    <tr>\n",
       "      <th>0</th>\n",
       "      <td>7</td>\n",
       "      <td>16126</td>\n",
       "      <td>16133</td>\n",
       "    </tr>\n",
       "    <tr>\n",
       "      <th>1</th>\n",
       "      <td>3</td>\n",
       "      <td>16134</td>\n",
       "      <td>16141</td>\n",
       "    </tr>\n",
       "    <tr>\n",
       "      <th>2</th>\n",
       "      <td>75</td>\n",
       "      <td>16141</td>\n",
       "      <td>16148</td>\n",
       "    </tr>\n",
       "    <tr>\n",
       "      <th>3</th>\n",
       "      <td>79</td>\n",
       "      <td>16149</td>\n",
       "      <td>16156</td>\n",
       "    </tr>\n",
       "    <tr>\n",
       "      <th>4</th>\n",
       "      <td>37</td>\n",
       "      <td>16157</td>\n",
       "      <td>16164</td>\n",
       "    </tr>\n",
       "    <tr>\n",
       "      <th>...</th>\n",
       "      <td>...</td>\n",
       "      <td>...</td>\n",
       "      <td>...</td>\n",
       "    </tr>\n",
       "    <tr>\n",
       "      <th>5945</th>\n",
       "      <td>65</td>\n",
       "      <td>96276</td>\n",
       "      <td>96283</td>\n",
       "    </tr>\n",
       "    <tr>\n",
       "      <th>5946</th>\n",
       "      <td>93</td>\n",
       "      <td>96284</td>\n",
       "      <td>96291</td>\n",
       "    </tr>\n",
       "    <tr>\n",
       "      <th>5947</th>\n",
       "      <td>21</td>\n",
       "      <td>96291</td>\n",
       "      <td>96298</td>\n",
       "    </tr>\n",
       "    <tr>\n",
       "      <th>5948</th>\n",
       "      <td>94</td>\n",
       "      <td>96299</td>\n",
       "      <td>96306</td>\n",
       "    </tr>\n",
       "    <tr>\n",
       "      <th>5949</th>\n",
       "      <td>100</td>\n",
       "      <td>96306</td>\n",
       "      <td>96313</td>\n",
       "    </tr>\n",
       "  </tbody>\n",
       "</table>\n",
       "<p>5950 rows × 3 columns</p>\n",
       "</div>"
      ],
      "text/plain": [
       "      frame  start    end\n",
       "0         7  16126  16133\n",
       "1         3  16134  16141\n",
       "2        75  16141  16148\n",
       "3        79  16149  16156\n",
       "4        37  16157  16164\n",
       "...     ...    ...    ...\n",
       "5945     65  96276  96283\n",
       "5946     93  96284  96291\n",
       "5947     21  96291  96298\n",
       "5948     94  96299  96306\n",
       "5949    100  96306  96313\n",
       "\n",
       "[5950 rows x 3 columns]"
      ]
     },
     "execution_count": 81,
     "metadata": {},
     "output_type": "execute_result"
    }
   ],
   "source": [
    "# get the stimulus table for the natural scenes stimulus\n",
    "stim_table = data_set.get_stimulus_table('natural_scenes')"
   ]
  },
  {
   "cell_type": "code",
   "execution_count": 95,
   "id": "fb0eec21",
   "metadata": {},
   "outputs": [
    {
     "data": {
      "text/plain": [
       "(158, 114116)"
      ]
     },
     "execution_count": 95,
     "metadata": {},
     "output_type": "execute_result"
    }
   ],
   "source": [
    "# get trial-to-trial dff traces\n",
    "timestamps, dff = data_set.get_dff_traces()\n",
    "dff.shape"
   ]
  },
  {
   "cell_type": "code",
   "execution_count": 96,
   "id": "09b89e51",
   "metadata": {},
   "outputs": [
    {
     "data": {
      "text/plain": [
       "(158, 80187)"
      ]
     },
     "execution_count": 96,
     "metadata": {},
     "output_type": "execute_result"
    }
   ],
   "source": [
    "stim_start = stim_table.start.min()\n",
    "stim_end = stim_table.end.max()\n",
    "dff = dff[:, stim_start:stim_end]\n",
    "dff.shape"
   ]
  },
  {
   "cell_type": "code",
   "execution_count": 99,
   "id": "eaab86b6",
   "metadata": {},
   "outputs": [
    {
     "data": {
      "image/png": "[encoded data removed]",
      "text/plain": [
       "<Figure size 1008x576 with 1 Axes>"
      ]
     },
     "metadata": {
      "needs_background": "light"
     },
     "output_type": "display_data"
    }
   ],
   "source": [
    "fig = plt.figure(figsize=(14,8))\n",
    "for i in range(10):\n",
    "    plt.plot(dff[i,:]+(i*2), color='gray')"
   ]
  }
 ],
 "metadata": {
  "kernelspec": {
   "display_name": "Python 3",
   "language": "python",
   "name": "python3"
  },
  "language_info": {
   "codemirror_mode": {
    "name": "ipython",
    "version": 3
   },
   "file_extension": ".py",
   "mimetype": "text/x-python",
   "name": "python",
   "nbconvert_exporter": "python",
   "pygments_lexer": "ipython3",
   "version": "3.8.5"
  }
 },
 "nbformat": 4,
 "nbformat_minor": 5
}
