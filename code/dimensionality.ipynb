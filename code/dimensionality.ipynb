{
 "cells": [
  {
   "cell_type": "code",
   "execution_count": 55,
   "id": "02c1826c",
   "metadata": {},
   "outputs": [],
   "source": [
    "import numpy as np\n",
    "import pandas as pd\n",
    "import matplotlib.pyplot as plt\n",
    "%matplotlib inline\n",
    "#add other imports as needed"
   ]
  },
  {
   "cell_type": "code",
   "execution_count": 56,
   "id": "36fc7661",
   "metadata": {},
   "outputs": [],
   "source": [
    "import os"
   ]
  },
  {
   "cell_type": "code",
   "execution_count": 57,
   "id": "0452494c",
   "metadata": {},
   "outputs": [],
   "source": [
    "import platform\n",
    "\n",
    "# Set file location based on platform. \n",
    "platstring = platform.platform()\n",
    "if ('Darwin' in platstring) or ('macOS' in platstring):\n",
    "    # macOS \n",
    "    data_root = \"/Volumes/TReND2024/\"\n",
    "elif 'Windows'  in platstring:\n",
    "    # Windows (replace with the drive letter of USB drive)\n",
    "    data_root = \"E:/\"\n",
    "elif ('amzn' in platstring):\n",
    "    # then on Code Ocean\n",
    "    data_root = \"/data/\"\n",
    "else:\n",
    "    # then your own linux platform\n",
    "    # EDIT location where you mounted hard drive\n",
    "    data_root = \"/media/$USERNAME/TReND2024/\""
   ]
  },
  {
   "cell_type": "code",
   "execution_count": 58,
   "id": "2bcfbe19",
   "metadata": {},
   "outputs": [],
   "source": [
    "from allensdk.core.brain_observatory_cache import BrainObservatoryCache\n",
    "\n",
    "manifest_file = os.path.join(data_root,'allen-brain-observatory/visual-coding-2p/manifest.json')\n",
    "\n",
    "boc = BrainObservatoryCache(manifest_file=manifest_file)"
   ]
  },
  {
   "cell_type": "markdown",
   "id": "7a194ede",
   "metadata": {},
   "source": [
    "Use code below to access Neuropixels data set. This is electrophysiological data. It is very similar to the data set we demonstrated, but has important differences, both in the science and in the access methods used in the python tools."
   ]
  },
  {
   "cell_type": "code",
   "execution_count": 59,
   "id": "2280b991",
   "metadata": {},
   "outputs": [],
   "source": [
    "from allensdk.brain_observatory.ecephys.ecephys_project_cache import EcephysProjectCache\n",
    "\n",
    "manifest_path = os.path.join(data_root,'allen-brain-observatory/visual-coding-neuropixels/ecephys-cache/manifest.json') \n",
    "\n",
    "cache = EcephysProjectCache.from_warehouse(manifest=manifest_path)"
   ]
  },
  {
   "cell_type": "code",
   "execution_count": 60,
   "id": "b99031f5",
   "metadata": {},
   "outputs": [
    {
     "data": {
      "text/plain": [
       "['VISal', 'VISam', 'VISl', 'VISp', 'VISpm', 'VISrl']"
      ]
     },
     "execution_count": 60,
     "metadata": {},
     "output_type": "execute_result"
    }
   ],
   "source": [
    "areas = boc.get_all_targeted_structures()\n",
    "areas"
   ]
  },
  {
   "cell_type": "code",
   "execution_count": 61,
   "id": "4f31db4c",
   "metadata": {},
   "outputs": [
    {
     "data": {
      "text/plain": [
       "['Cux2-CreERT2',\n",
       " 'Emx1-IRES-Cre',\n",
       " 'Fezf2-CreER',\n",
       " 'Nr5a1-Cre',\n",
       " 'Ntsr1-Cre_GN220',\n",
       " 'Pvalb-IRES-Cre',\n",
       " 'Rbp4-Cre_KL100',\n",
       " 'Rorb-IRES2-Cre',\n",
       " 'Scnn1a-Tg3-Cre',\n",
       " 'Slc17a7-IRES2-Cre',\n",
       " 'Sst-IRES-Cre',\n",
       " 'Tlx3-Cre_PL56',\n",
       " 'Vip-IRES-Cre']"
      ]
     },
     "execution_count": 61,
     "metadata": {},
     "output_type": "execute_result"
    }
   ],
   "source": [
    "cre_lines = boc.get_all_cre_lines()\n",
    "cre_lines"
   ]
  },
  {
   "cell_type": "code",
   "execution_count": 62,
   "id": "3f53fee3",
   "metadata": {},
   "outputs": [
    {
     "data": {
      "text/html": [
       "<div>\n",
       "<style scoped>\n",
       "    .dataframe tbody tr th:only-of-type {\n",
       "        vertical-align: middle;\n",
       "    }\n",
       "\n",
       "    .dataframe tbody tr th {\n",
       "        vertical-align: top;\n",
       "    }\n",
       "\n",
       "    .dataframe thead th {\n",
       "        text-align: right;\n",
       "    }\n",
       "</style>\n",
       "<table border=\"1\" class=\"dataframe\">\n",
       "  <thead>\n",
       "    <tr style=\"text-align: right;\">\n",
       "      <th></th>\n",
       "      <th>VISal</th>\n",
       "      <th>VISam</th>\n",
       "      <th>VISl</th>\n",
       "      <th>VISp</th>\n",
       "      <th>VISpm</th>\n",
       "      <th>VISrl</th>\n",
       "    </tr>\n",
       "  </thead>\n",
       "  <tbody>\n",
       "    <tr>\n",
       "      <th>Cux2-CreERT2</th>\n",
       "      <td>13</td>\n",
       "      <td>11</td>\n",
       "      <td>11</td>\n",
       "      <td>16</td>\n",
       "      <td>13</td>\n",
       "      <td>12</td>\n",
       "    </tr>\n",
       "    <tr>\n",
       "      <th>Emx1-IRES-Cre</th>\n",
       "      <td>7</td>\n",
       "      <td>3</td>\n",
       "      <td>8</td>\n",
       "      <td>10</td>\n",
       "      <td>4</td>\n",
       "      <td>9</td>\n",
       "    </tr>\n",
       "    <tr>\n",
       "      <th>Fezf2-CreER</th>\n",
       "      <td>0</td>\n",
       "      <td>0</td>\n",
       "      <td>5</td>\n",
       "      <td>4</td>\n",
       "      <td>0</td>\n",
       "      <td>0</td>\n",
       "    </tr>\n",
       "    <tr>\n",
       "      <th>Nr5a1-Cre</th>\n",
       "      <td>6</td>\n",
       "      <td>6</td>\n",
       "      <td>6</td>\n",
       "      <td>8</td>\n",
       "      <td>7</td>\n",
       "      <td>6</td>\n",
       "    </tr>\n",
       "    <tr>\n",
       "      <th>Ntsr1-Cre_GN220</th>\n",
       "      <td>0</td>\n",
       "      <td>0</td>\n",
       "      <td>7</td>\n",
       "      <td>6</td>\n",
       "      <td>5</td>\n",
       "      <td>0</td>\n",
       "    </tr>\n",
       "    <tr>\n",
       "      <th>Pvalb-IRES-Cre</th>\n",
       "      <td>0</td>\n",
       "      <td>0</td>\n",
       "      <td>5</td>\n",
       "      <td>16</td>\n",
       "      <td>0</td>\n",
       "      <td>0</td>\n",
       "    </tr>\n",
       "    <tr>\n",
       "      <th>Rbp4-Cre_KL100</th>\n",
       "      <td>6</td>\n",
       "      <td>8</td>\n",
       "      <td>7</td>\n",
       "      <td>7</td>\n",
       "      <td>6</td>\n",
       "      <td>4</td>\n",
       "    </tr>\n",
       "    <tr>\n",
       "      <th>Rorb-IRES2-Cre</th>\n",
       "      <td>6</td>\n",
       "      <td>8</td>\n",
       "      <td>6</td>\n",
       "      <td>8</td>\n",
       "      <td>7</td>\n",
       "      <td>5</td>\n",
       "    </tr>\n",
       "    <tr>\n",
       "      <th>Scnn1a-Tg3-Cre</th>\n",
       "      <td>0</td>\n",
       "      <td>0</td>\n",
       "      <td>0</td>\n",
       "      <td>9</td>\n",
       "      <td>0</td>\n",
       "      <td>0</td>\n",
       "    </tr>\n",
       "    <tr>\n",
       "      <th>Slc17a7-IRES2-Cre</th>\n",
       "      <td>2</td>\n",
       "      <td>2</td>\n",
       "      <td>16</td>\n",
       "      <td>20</td>\n",
       "      <td>15</td>\n",
       "      <td>2</td>\n",
       "    </tr>\n",
       "    <tr>\n",
       "      <th>Sst-IRES-Cre</th>\n",
       "      <td>1</td>\n",
       "      <td>0</td>\n",
       "      <td>15</td>\n",
       "      <td>17</td>\n",
       "      <td>14</td>\n",
       "      <td>2</td>\n",
       "    </tr>\n",
       "    <tr>\n",
       "      <th>Tlx3-Cre_PL56</th>\n",
       "      <td>0</td>\n",
       "      <td>0</td>\n",
       "      <td>3</td>\n",
       "      <td>6</td>\n",
       "      <td>0</td>\n",
       "      <td>0</td>\n",
       "    </tr>\n",
       "    <tr>\n",
       "      <th>Vip-IRES-Cre</th>\n",
       "      <td>0</td>\n",
       "      <td>0</td>\n",
       "      <td>17</td>\n",
       "      <td>17</td>\n",
       "      <td>16</td>\n",
       "      <td>0</td>\n",
       "    </tr>\n",
       "  </tbody>\n",
       "</table>\n",
       "</div>"
      ],
      "text/plain": [
       "                  VISal VISam VISl VISp VISpm VISrl\n",
       "Cux2-CreERT2         13    11   11   16    13    12\n",
       "Emx1-IRES-Cre         7     3    8   10     4     9\n",
       "Fezf2-CreER           0     0    5    4     0     0\n",
       "Nr5a1-Cre             6     6    6    8     7     6\n",
       "Ntsr1-Cre_GN220       0     0    7    6     5     0\n",
       "Pvalb-IRES-Cre        0     0    5   16     0     0\n",
       "Rbp4-Cre_KL100        6     8    7    7     6     4\n",
       "Rorb-IRES2-Cre        6     8    6    8     7     5\n",
       "Scnn1a-Tg3-Cre        0     0    0    9     0     0\n",
       "Slc17a7-IRES2-Cre     2     2   16   20    15     2\n",
       "Sst-IRES-Cre          1     0   15   17    14     2\n",
       "Tlx3-Cre_PL56         0     0    3    6     0     0\n",
       "Vip-IRES-Cre          0     0   17   17    16     0"
      ]
     },
     "execution_count": 62,
     "metadata": {},
     "output_type": "execute_result"
    }
   ],
   "source": [
    "#create an empty dataframe with colums as areas and index as cre_lines\n",
    "df = pd.DataFrame(columns=areas,index=cre_lines)\n",
    "\n",
    "#populate the dataframe with the number of experiment containers for each combination\n",
    "for cre in cre_lines:\n",
    "    for area in areas:\n",
    "        exps = boc.get_experiment_containers(targeted_structures=[area],cre_lines=[cre])\n",
    "        df[area].loc[cre] =len(exps)\n",
    "\n",
    "#look at dataframe\n",
    "df"
   ]
  },
  {
   "cell_type": "code",
   "execution_count": 63,
   "id": "6217f37f",
   "metadata": {},
   "outputs": [],
   "source": [
    "visual_area = areas[3]"
   ]
  },
  {
   "cell_type": "code",
   "execution_count": 64,
   "id": "feb81250",
   "metadata": {},
   "outputs": [
    {
     "data": {
      "text/html": [
       "<div>\n",
       "<style scoped>\n",
       "    .dataframe tbody tr th:only-of-type {\n",
       "        vertical-align: middle;\n",
       "    }\n",
       "\n",
       "    .dataframe tbody tr th {\n",
       "        vertical-align: top;\n",
       "    }\n",
       "\n",
       "    .dataframe thead th {\n",
       "        text-align: right;\n",
       "    }\n",
       "</style>\n",
       "<table border=\"1\" class=\"dataframe\">\n",
       "  <thead>\n",
       "    <tr style=\"text-align: right;\">\n",
       "      <th></th>\n",
       "      <th>id</th>\n",
       "      <th>imaging_depth</th>\n",
       "      <th>targeted_structure</th>\n",
       "      <th>cre_line</th>\n",
       "      <th>reporter_line</th>\n",
       "      <th>donor_name</th>\n",
       "      <th>specimen_name</th>\n",
       "      <th>tags</th>\n",
       "      <th>failed</th>\n",
       "    </tr>\n",
       "  </thead>\n",
       "  <tbody>\n",
       "    <tr>\n",
       "      <th>0</th>\n",
       "      <td>661437138</td>\n",
       "      <td>175</td>\n",
       "      <td>VISp</td>\n",
       "      <td>Slc17a7-IRES2-Cre</td>\n",
       "      <td>Ai93(TITL-GCaMP6f)</td>\n",
       "      <td>365251</td>\n",
       "      <td>Slc17a7-IRES2-Cre;Camk2a-tTA;Ai93-365251</td>\n",
       "      <td>[]</td>\n",
       "      <td>False</td>\n",
       "    </tr>\n",
       "    <tr>\n",
       "      <th>1</th>\n",
       "      <td>511510911</td>\n",
       "      <td>350</td>\n",
       "      <td>VISp</td>\n",
       "      <td>Scnn1a-Tg3-Cre</td>\n",
       "      <td>Ai93(TITL-GCaMP6f)</td>\n",
       "      <td>230570</td>\n",
       "      <td>Scnn1a-Tg3-Cre;Camk2a-tTA;Ai93-230570</td>\n",
       "      <td>[]</td>\n",
       "      <td>False</td>\n",
       "    </tr>\n",
       "    <tr>\n",
       "      <th>2</th>\n",
       "      <td>644909309</td>\n",
       "      <td>550</td>\n",
       "      <td>VISp</td>\n",
       "      <td>Ntsr1-Cre_GN220</td>\n",
       "      <td>Ai148(TIT2L-GC6f-ICL-tTA2)</td>\n",
       "      <td>348105</td>\n",
       "      <td>Ntsr1-Cre_GN220;Ai148-348105</td>\n",
       "      <td>[]</td>\n",
       "      <td>False</td>\n",
       "    </tr>\n",
       "    <tr>\n",
       "      <th>3</th>\n",
       "      <td>511510736</td>\n",
       "      <td>175</td>\n",
       "      <td>VISp</td>\n",
       "      <td>Cux2-CreERT2</td>\n",
       "      <td>Ai93(TITL-GCaMP6f)</td>\n",
       "      <td>222426</td>\n",
       "      <td>Cux2-CreERT2;Camk2a-tTA;Ai93-222426</td>\n",
       "      <td>[]</td>\n",
       "      <td>False</td>\n",
       "    </tr>\n",
       "    <tr>\n",
       "      <th>4</th>\n",
       "      <td>528792730</td>\n",
       "      <td>350</td>\n",
       "      <td>VISp</td>\n",
       "      <td>Nr5a1-Cre</td>\n",
       "      <td>Ai93(TITL-GCaMP6f)</td>\n",
       "      <td>248894</td>\n",
       "      <td>Nr5a1-Cre;Camk2a-tTA;Ai93-248894</td>\n",
       "      <td>[]</td>\n",
       "      <td>False</td>\n",
       "    </tr>\n",
       "    <tr>\n",
       "      <th>...</th>\n",
       "      <td>...</td>\n",
       "      <td>...</td>\n",
       "      <td>...</td>\n",
       "      <td>...</td>\n",
       "      <td>...</td>\n",
       "      <td>...</td>\n",
       "      <td>...</td>\n",
       "      <td>...</td>\n",
       "      <td>...</td>\n",
       "    </tr>\n",
       "    <tr>\n",
       "      <th>139</th>\n",
       "      <td>511510718</td>\n",
       "      <td>175</td>\n",
       "      <td>VISp</td>\n",
       "      <td>Cux2-CreERT2</td>\n",
       "      <td>Ai93(TITL-GCaMP6f)</td>\n",
       "      <td>231584</td>\n",
       "      <td>Cux2-CreERT2;Camk2a-tTA;Ai93-231584</td>\n",
       "      <td>[]</td>\n",
       "      <td>False</td>\n",
       "    </tr>\n",
       "    <tr>\n",
       "      <th>140</th>\n",
       "      <td>511510989</td>\n",
       "      <td>275</td>\n",
       "      <td>VISp</td>\n",
       "      <td>Rorb-IRES2-Cre</td>\n",
       "      <td>Ai93(TITL-GCaMP6f)</td>\n",
       "      <td>222431</td>\n",
       "      <td>Rorb-IRES2-Cre;Camk2a-tTA;Ai93-222431</td>\n",
       "      <td>[]</td>\n",
       "      <td>False</td>\n",
       "    </tr>\n",
       "    <tr>\n",
       "      <th>141</th>\n",
       "      <td>527676429</td>\n",
       "      <td>275</td>\n",
       "      <td>VISp</td>\n",
       "      <td>Emx1-IRES-Cre</td>\n",
       "      <td>Ai93(TITL-GCaMP6f)</td>\n",
       "      <td>237706</td>\n",
       "      <td>Emx1-IRES-Cre;Camk2a-tTA;Ai93-237706</td>\n",
       "      <td>[Epileptiform Events]</td>\n",
       "      <td>False</td>\n",
       "    </tr>\n",
       "    <tr>\n",
       "      <th>142</th>\n",
       "      <td>580043437</td>\n",
       "      <td>275</td>\n",
       "      <td>VISp</td>\n",
       "      <td>Sst-IRES-Cre</td>\n",
       "      <td>Ai148(TIT2L-GC6f-ICL-tTA2)</td>\n",
       "      <td>297504</td>\n",
       "      <td>Sst-IRES-Cre;Ai148(CAM)-297504</td>\n",
       "      <td>[]</td>\n",
       "      <td>False</td>\n",
       "    </tr>\n",
       "    <tr>\n",
       "      <th>143</th>\n",
       "      <td>637669268</td>\n",
       "      <td>375</td>\n",
       "      <td>VISp</td>\n",
       "      <td>Tlx3-Cre_PL56</td>\n",
       "      <td>Ai148(TIT2L-GC6f-ICL-tTA2)</td>\n",
       "      <td>340427</td>\n",
       "      <td>Tlx3-Cre_PL56;Ai148-340427</td>\n",
       "      <td>[]</td>\n",
       "      <td>False</td>\n",
       "    </tr>\n",
       "  </tbody>\n",
       "</table>\n",
       "<p>144 rows × 9 columns</p>\n",
       "</div>"
      ],
      "text/plain": [
       "            id  imaging_depth targeted_structure           cre_line  \\\n",
       "0    661437138            175               VISp  Slc17a7-IRES2-Cre   \n",
       "1    511510911            350               VISp     Scnn1a-Tg3-Cre   \n",
       "2    644909309            550               VISp    Ntsr1-Cre_GN220   \n",
       "3    511510736            175               VISp       Cux2-CreERT2   \n",
       "4    528792730            350               VISp          Nr5a1-Cre   \n",
       "..         ...            ...                ...                ...   \n",
       "139  511510718            175               VISp       Cux2-CreERT2   \n",
       "140  511510989            275               VISp     Rorb-IRES2-Cre   \n",
       "141  527676429            275               VISp      Emx1-IRES-Cre   \n",
       "142  580043437            275               VISp       Sst-IRES-Cre   \n",
       "143  637669268            375               VISp      Tlx3-Cre_PL56   \n",
       "\n",
       "                  reporter_line donor_name  \\\n",
       "0            Ai93(TITL-GCaMP6f)     365251   \n",
       "1            Ai93(TITL-GCaMP6f)     230570   \n",
       "2    Ai148(TIT2L-GC6f-ICL-tTA2)     348105   \n",
       "3            Ai93(TITL-GCaMP6f)     222426   \n",
       "4            Ai93(TITL-GCaMP6f)     248894   \n",
       "..                          ...        ...   \n",
       "139          Ai93(TITL-GCaMP6f)     231584   \n",
       "140          Ai93(TITL-GCaMP6f)     222431   \n",
       "141          Ai93(TITL-GCaMP6f)     237706   \n",
       "142  Ai148(TIT2L-GC6f-ICL-tTA2)     297504   \n",
       "143  Ai148(TIT2L-GC6f-ICL-tTA2)     340427   \n",
       "\n",
       "                                specimen_name                   tags  failed  \n",
       "0    Slc17a7-IRES2-Cre;Camk2a-tTA;Ai93-365251                     []   False  \n",
       "1       Scnn1a-Tg3-Cre;Camk2a-tTA;Ai93-230570                     []   False  \n",
       "2                Ntsr1-Cre_GN220;Ai148-348105                     []   False  \n",
       "3         Cux2-CreERT2;Camk2a-tTA;Ai93-222426                     []   False  \n",
       "4            Nr5a1-Cre;Camk2a-tTA;Ai93-248894                     []   False  \n",
       "..                                        ...                    ...     ...  \n",
       "139       Cux2-CreERT2;Camk2a-tTA;Ai93-231584                     []   False  \n",
       "140     Rorb-IRES2-Cre;Camk2a-tTA;Ai93-222431                     []   False  \n",
       "141      Emx1-IRES-Cre;Camk2a-tTA;Ai93-237706  [Epileptiform Events]   False  \n",
       "142            Sst-IRES-Cre;Ai148(CAM)-297504                     []   False  \n",
       "143                Tlx3-Cre_PL56;Ai148-340427                     []   False  \n",
       "\n",
       "[144 rows x 9 columns]"
      ]
     },
     "execution_count": 64,
     "metadata": {},
     "output_type": "execute_result"
    }
   ],
   "source": [
    "exps = boc.get_experiment_containers(targeted_structures=[visual_area])\n",
    "pd.DataFrame(exps)"
   ]
  },
  {
   "cell_type": "code",
   "execution_count": 65,
   "id": "ec0a9d15",
   "metadata": {},
   "outputs": [],
   "source": [
    "experiment_container_ids = [exps[120]['id']]"
   ]
  },
  {
   "cell_type": "code",
   "execution_count": 66,
   "id": "867fd55b",
   "metadata": {},
   "outputs": [],
   "source": [
    "sessions = boc.get_ophys_experiments(experiment_container_ids=experiment_container_ids, stimuli=['natural_scenes'])"
   ]
  },
  {
   "cell_type": "code",
   "execution_count": 67,
   "id": "667b0841",
   "metadata": {},
   "outputs": [
    {
     "data": {
      "text/plain": [
       "660065134"
      ]
     },
     "execution_count": 67,
     "metadata": {},
     "output_type": "execute_result"
    }
   ],
   "source": [
    "session_id = sessions[0]['id']\n",
    "session_id"
   ]
  },
  {
   "cell_type": "code",
   "execution_count": 68,
   "id": "88746adc",
   "metadata": {},
   "outputs": [],
   "source": [
    "data_set = boc.get_ophys_experiment_data(ophys_experiment_id=session_id)"
   ]
  },
  {
   "cell_type": "code",
   "execution_count": 69,
   "id": "20f5a7a6",
   "metadata": {},
   "outputs": [
    {
     "data": {
      "text/plain": [
       "(158,)"
      ]
     },
     "execution_count": 69,
     "metadata": {},
     "output_type": "execute_result"
    }
   ],
   "source": [
    "cell_ids = data_set.get_cell_specimen_ids()\n",
    "cell_ids.shape"
   ]
  },
  {
   "cell_type": "code",
   "execution_count": 70,
   "id": "535c86b3",
   "metadata": {},
   "outputs": [
    {
     "data": {
      "text/plain": [
       "0       16126\n",
       "1       16134\n",
       "2       16141\n",
       "3       16149\n",
       "4       16157\n",
       "        ...  \n",
       "5945    96276\n",
       "5946    96284\n",
       "5947    96291\n",
       "5948    96299\n",
       "5949    96306\n",
       "Name: start, Length: 5950, dtype: int64"
      ]
     },
     "execution_count": 70,
     "metadata": {},
     "output_type": "execute_result"
    }
   ],
   "source": [
    "# get the stimulus table for the natural scenes stimulus\n",
    "stim_table = data_set.get_stimulus_table('natural_scenes')\n",
    "stim_table.start"
   ]
  },
  {
   "cell_type": "code",
   "execution_count": 71,
   "id": "0b02ad78",
   "metadata": {},
   "outputs": [
    {
     "data": {
      "text/plain": [
       "(158, 114116)"
      ]
     },
     "execution_count": 71,
     "metadata": {},
     "output_type": "execute_result"
    }
   ],
   "source": [
    "# get trial-to-trial dff traces\n",
    "timestamps, dff = data_set.get_dff_traces()\n",
    "dff.shape"
   ]
  },
  {
   "cell_type": "code",
   "execution_count": 72,
   "id": "059eb300",
   "metadata": {},
   "outputs": [
    {
     "data": {
      "text/plain": [
       "(158, 80187)"
      ]
     },
     "execution_count": 72,
     "metadata": {},
     "output_type": "execute_result"
    }
   ],
   "source": [
    "stim_start = stim_table.start.min()\n",
    "stim_end = stim_table.end.max()\n",
    "dff = dff[:, stim_start:stim_end]\n",
    "dff.shape"
   ]
  },
  {
   "cell_type": "code",
   "execution_count": 73,
   "id": "b950cc2f",
   "metadata": {},
   "outputs": [],
   "source": [
    "stim_table.end = stim_table.end - stim_start\n",
    "stim_table.start = stim_table.start - stim_start"
   ]
  },
  {
   "cell_type": "code",
   "execution_count": 74,
   "id": "ee026b33",
   "metadata": {},
   "outputs": [
    {
     "data": {
      "text/html": [
       "<div>\n",
       "<style scoped>\n",
       "    .dataframe tbody tr th:only-of-type {\n",
       "        vertical-align: middle;\n",
       "    }\n",
       "\n",
       "    .dataframe tbody tr th {\n",
       "        vertical-align: top;\n",
       "    }\n",
       "\n",
       "    .dataframe thead th {\n",
       "        text-align: right;\n",
       "    }\n",
       "</style>\n",
       "<table border=\"1\" class=\"dataframe\">\n",
       "  <thead>\n",
       "    <tr style=\"text-align: right;\">\n",
       "      <th></th>\n",
       "      <th>frame</th>\n",
       "      <th>start</th>\n",
       "      <th>end</th>\n",
       "    </tr>\n",
       "  </thead>\n",
       "  <tbody>\n",
       "    <tr>\n",
       "      <th>0</th>\n",
       "      <td>7</td>\n",
       "      <td>0</td>\n",
       "      <td>7</td>\n",
       "    </tr>\n",
       "    <tr>\n",
       "      <th>1</th>\n",
       "      <td>3</td>\n",
       "      <td>8</td>\n",
       "      <td>15</td>\n",
       "    </tr>\n",
       "    <tr>\n",
       "      <th>2</th>\n",
       "      <td>75</td>\n",
       "      <td>15</td>\n",
       "      <td>22</td>\n",
       "    </tr>\n",
       "    <tr>\n",
       "      <th>3</th>\n",
       "      <td>79</td>\n",
       "      <td>23</td>\n",
       "      <td>30</td>\n",
       "    </tr>\n",
       "    <tr>\n",
       "      <th>4</th>\n",
       "      <td>37</td>\n",
       "      <td>31</td>\n",
       "      <td>38</td>\n",
       "    </tr>\n",
       "    <tr>\n",
       "      <th>...</th>\n",
       "      <td>...</td>\n",
       "      <td>...</td>\n",
       "      <td>...</td>\n",
       "    </tr>\n",
       "    <tr>\n",
       "      <th>5945</th>\n",
       "      <td>65</td>\n",
       "      <td>80150</td>\n",
       "      <td>80157</td>\n",
       "    </tr>\n",
       "    <tr>\n",
       "      <th>5946</th>\n",
       "      <td>93</td>\n",
       "      <td>80158</td>\n",
       "      <td>80165</td>\n",
       "    </tr>\n",
       "    <tr>\n",
       "      <th>5947</th>\n",
       "      <td>21</td>\n",
       "      <td>80165</td>\n",
       "      <td>80172</td>\n",
       "    </tr>\n",
       "    <tr>\n",
       "      <th>5948</th>\n",
       "      <td>94</td>\n",
       "      <td>80173</td>\n",
       "      <td>80180</td>\n",
       "    </tr>\n",
       "    <tr>\n",
       "      <th>5949</th>\n",
       "      <td>100</td>\n",
       "      <td>80180</td>\n",
       "      <td>80187</td>\n",
       "    </tr>\n",
       "  </tbody>\n",
       "</table>\n",
       "<p>5950 rows × 3 columns</p>\n",
       "</div>"
      ],
      "text/plain": [
       "      frame  start    end\n",
       "0         7      0      7\n",
       "1         3      8     15\n",
       "2        75     15     22\n",
       "3        79     23     30\n",
       "4        37     31     38\n",
       "...     ...    ...    ...\n",
       "5945     65  80150  80157\n",
       "5946     93  80158  80165\n",
       "5947     21  80165  80172\n",
       "5948     94  80173  80180\n",
       "5949    100  80180  80187\n",
       "\n",
       "[5950 rows x 3 columns]"
      ]
     },
     "execution_count": 74,
     "metadata": {},
     "output_type": "execute_result"
    }
   ],
   "source": [
    "stim_table"
   ]
  },
  {
   "cell_type": "code",
   "execution_count": 75,
   "id": "be8aa5ac",
   "metadata": {},
   "outputs": [
    {
     "data": {
      "image/png": "[encoded data removed]",
      "text/plain": [
       "<Figure size 1008x576 with 1 Axes>"
      ]
     },
     "metadata": {
      "needs_background": "light"
     },
     "output_type": "display_data"
    }
   ],
   "source": [
    "fig = plt.figure(figsize=(14,8))\n",
    "for i in range(2):\n",
    "    plt.plot(dff[i,:]+(i*2), color='gray')"
   ]
  },
  {
   "cell_type": "code",
   "execution_count": 79,
   "id": "3fe5e8a0",
   "metadata": {},
   "outputs": [
    {
     "data": {
      "text/plain": [
       "array([    0,     8,    15, ..., 80165, 80173, 80180])"
      ]
     },
     "execution_count": 79,
     "metadata": {},
     "output_type": "execute_result"
    }
   ],
   "source": [
    "averaging_indices = stim_table.start.to_numpy()\n",
    "averaging_indices"
   ]
  },
  {
   "cell_type": "code",
   "execution_count": null,
   "id": "945ea0ce",
   "metadata": {},
   "outputs": [],
   "source": []
  }
 ],
 "metadata": {
  "kernelspec": {
   "display_name": "Python 3",
   "language": "python",
   "name": "python3"
  },
  "language_info": {
   "codemirror_mode": {
    "name": "ipython",
    "version": 3
   },
   "file_extension": ".py",
   "mimetype": "text/x-python",
   "name": "python",
   "nbconvert_exporter": "python",
   "pygments_lexer": "ipython3",
   "version": "3.8.5"
  }
 },
 "nbformat": 4,
 "nbformat_minor": 5
}
