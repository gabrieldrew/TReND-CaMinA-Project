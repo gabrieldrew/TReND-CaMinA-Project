{
 "cells": [
  {
   "cell_type": "code",
   "execution_count": 63,
   "id": "333bdc6a",
   "metadata": {
    "jupyter": {
     "source_hidden": true
    },
    "tags": []
   },
   "outputs": [],
   "source": [
    "def init_boc():\n",
    "    '''\n",
    "    Initialises and returns the BrainObservatoryCache\n",
    "    \n",
    "    Parameters\n",
    "    ----------\n",
    "    None\n",
    "    \n",
    "    Returns\n",
    "    -------\n",
    "    BrainObservatoryCache : allensdk.core.brain_observatory_nwb_data_set.BrainObservatoryNwbDataSet\n",
    "    '''\n",
    "    \n",
    "    # Set file location based on platform. \n",
    "    platstring = platform.platform()\n",
    "    if ('Darwin' in platstring) or ('macOS' in platstring):\n",
    "        # macOS \n",
    "        data_root = \"/Volumes/TReND2024/\"\n",
    "    elif 'Windows'  in platstring:\n",
    "        # Windows (replace with the drive letter of USB drive)\n",
    "        data_root = \"E:/\"\n",
    "    elif ('amzn' in platstring):\n",
    "        # then on Code Ocean\n",
    "        data_root = \"/data/\"\n",
    "    else:\n",
    "        # then your own linux platform\n",
    "        # EDIT location where you mounted hard drive\n",
    "        data_root = \"/media/$USERNAME/TReND2024/\"\n",
    "\n",
    "    from allensdk.core.brain_observatory_cache import BrainObservatoryCache\n",
    "\n",
    "    manifest_file = os.path.join(data_root,'allen-brain-observatory/visual-coding-2p/manifest.json')\n",
    "\n",
    "    return BrainObservatoryCache(manifest_file=manifest_file)\n",
    "    "
   ]
  },
  {
   "cell_type": "code",
   "execution_count": 64,
   "id": "ca1e550e",
   "metadata": {
    "jupyter": {
     "source_hidden": true
    },
    "tags": []
   },
   "outputs": [],
   "source": [
    "def get_session_ids(cre_line : list, imaging_depths : list, stimuli : list):\n",
    "    '''\n",
    "    Get lists of session_ids matching query parameters, grouped by cortical region\n",
    "    \n",
    "    Parameters\n",
    "    ----------\n",
    "    cre_line :  list\n",
    "            Array of cre_lines to query\n",
    "    imaging_depths : list\n",
    "            Array of imaging_depths to query\n",
    "    stimuli : list\n",
    "            Array of stimuli to query\n",
    "    Returns\n",
    "    -------\n",
    "    session_ids : Dictionary\n",
    "            A Dictionary indexed by targeted_areas, coantaining arrays of matching sessions_ids\n",
    "    '''\n",
    "    session_ids = {}\n",
    "    \n",
    "    for area in boc.get_all_targeted_structures():\n",
    "        exps = pd.DataFrame(boc.get_experiment_containers(\n",
    "            targeted_structures=[area], cre_lines=cre_line, imaging_depths=imaging_depth\n",
    "        ))\n",
    "        experiment_container_ids = exps.id.to_numpy()\n",
    "        sessions = boc.get_ophys_experiments(\n",
    "            experiment_container_ids=experiment_container_ids, stimuli=stimuli\n",
    "        )\n",
    "        \n",
    "        session_ids[area] = [sessions[i]['id'] for i in range(len(sessions))]\n",
    "    \n",
    "    return session_ids"
   ]
  },
  {
   "cell_type": "code",
   "execution_count": 65,
   "id": "e45049cd",
   "metadata": {
    "jupyter": {
     "source_hidden": true
    },
    "tags": []
   },
   "outputs": [],
   "source": [
    "def get_tables(data_set):\n",
    "    '''\n",
    "    Return the stimulus table and events table, clipped to the duration of the stimulus\n",
    "    \n",
    "    Parameters\n",
    "    ----------\n",
    "    data_set : allensdk.core.brain_observatory_nwb_data_set.BrainObservatoryNwbDataSet\n",
    "    \n",
    "    Returns\n",
    "    -------\n",
    "    stim_table : pandas DataFrame\n",
    "            Dataframe containing stimulus information for each time step\n",
    "    events : array_like\n",
    "            2-D array of event values where events[n,m] is the event of cell n at time m\n",
    "    '''\n",
    "    stim_table = data_set.get_stimulus_table('natural_scenes')\n",
    "    \n",
    "    stim_start = stim_table.start.min()\n",
    "    stim_end = stim_table.end.max()+1\n",
    "    \n",
    "    events = boc.get_ophys_experiment_events(ophys_experiment_id=session_id)\n",
    "    events = events[:, stim_start:stim_end]\n",
    "    \n",
    "    stim_table.end = stim_table.end - stim_start\n",
    "    stim_table.start = stim_table.start - stim_start\n",
    "    \n",
    "    return stim_table, events"
   ]
  },
  {
   "cell_type": "code",
   "execution_count": 66,
   "id": "20b02008",
   "metadata": {
    "jupyter": {
     "source_hidden": true
    },
    "tags": []
   },
   "outputs": [],
   "source": [
    "def get_trial_respones(stim_table, events, axis : int = 1):\n",
    "    '''\n",
    "    Computes the average event value over the duration of each trial\n",
    "    \n",
    "    Parameters\n",
    "    ----------\n",
    "    stim_table : pandas DataFrame\n",
    "            Dataframe containing stimulus information for each time step\n",
    "    events : array_like\n",
    "            2-D array of event values where events[n,m] is the event of cell n at time m\n",
    "    axis : int, optional\n",
    "            axis across which to average, default is 1\n",
    "    Returns\n",
    "    -------\n",
    "    trial_responses : array_like\n",
    "            2-D array of average event values where trial_responses[n,m]\n",
    "            is the average event value of cell n for trial m\n",
    "    '''\n",
    "    averaging_indices = stim_table.end.to_numpy()\n",
    "    cum_events = events.cumsum(axis=1)[:,averaging_indices]\n",
    "    trial_sums = np.c_[cum_events[:,0] ,np.diff(cum_events, axis=1)]\n",
    "    trial_responses = trial_sums/(stim_table.end.to_numpy() - stim_table.start.to_numpy() + 1)\n",
    "    \n",
    "    return trial_responses"
   ]
  },
  {
   "cell_type": "code",
   "execution_count": 67,
   "id": "5daced35",
   "metadata": {
    "jupyter": {
     "source_hidden": true
    },
    "tags": []
   },
   "outputs": [],
   "source": [
    "def get_outlier_trials(trial_responses, z_score : float = 3.):\n",
    "    '''\n",
    "    Compute outlying trials based on symmetric z-score\n",
    "    \n",
    "    Parameters\n",
    "    ----------\n",
    "    trial_responses : pandas DataFrame\n",
    "            Dataframe containing stimulus information for each time step\n",
    "    z_score : float, optional\n",
    "            z_score used to determine outliers with |p| > z_score, default is 3.0\n",
    "    \n",
    "    Returns\n",
    "    -------\n",
    "    outliers : array_like\n",
    "            1-D array of trial indices corresponding to outliers\n",
    "    '''\n",
    "    trial_responses_df = pd.DataFrame(trial_responses.mean(axis=0))\n",
    "    # Calculate the Z-score for each data point\n",
    "    z_scores = trial_responses_df.apply(zscore)\n",
    "    # Identify rows with any outlier (Z-score > 3 or Z-score < -3)\n",
    "    outliers = (trial_responses_df[(z_scores > z_score) | (z_scores < -z_score)].to_numpy() > 0).nonzero()[0]\n",
    "    \n",
    "    return outliers"
   ]
  },
  {
   "cell_type": "code",
   "execution_count": 68,
   "id": "91e98fb2",
   "metadata": {
    "jupyter": {
     "source_hidden": true
    },
    "tags": []
   },
   "outputs": [],
   "source": [
    "def get_stimulus_responses(trial_responses, stim_table, group_by : str, outliers = np.empty(0)):\n",
    "    '''\n",
    "    Computes the average trial_response for each value of the stimulus\n",
    "    \n",
    "    Parameters\n",
    "    ----------\n",
    "    trial_responses : pandas DataFrame\n",
    "            Dataframe containing stimulus information for each time step\n",
    "    outliers : array_like\n",
    "            1-D array of trial indices corresponding to outliers, default is empty\n",
    "    stim_table : pandas DataFrame\n",
    "            Dataframe containing stimulus information for each time step\n",
    "    sort_by : str\n",
    "            Column name in stim_table used for grouping stimulus values for averaging\n",
    "    Returns\n",
    "    -------\n",
    "    stimulus_responses : array_like\n",
    "            2-D array of average trial_response values where stimulus_responses[n,m]\n",
    "            is the average trial_response value of cell n stimulus m\n",
    "    '''\n",
    "    trial_responses = np.delete(trial_responses, outliers, axis=1)\n",
    "    \n",
    "    frames = stim_table[group_by].to_numpy()\n",
    "    frames = np.delete(frames, outliers)\n",
    "    \n",
    "    sorting_indices = np.argsort(frames)\n",
    "    sorted_events = trial_responses[:,sorting_indices]\n",
    "    \n",
    "    num_trials_per_stim = np.fromiter(collections.Counter(np.sort(frames)).values(), dtype=float)\n",
    "    averaging_indices = num_trials_per_stim.cumsum().astype('int') - 1\n",
    "    \n",
    "    cum_trial_responses = sorted_events.cumsum(axis=1)[:,averaging_indices]\n",
    "    stimulus_responses = np.c_[cum_trial_responses[:,0] ,np.diff(cum_trial_responses, axis=1)]/num_trials_per_stim\n",
    "    \n",
    "    return stimulus_responses"
   ]
  },
  {
   "cell_type": "code",
   "execution_count": 69,
   "id": "d7af2b03",
   "metadata": {
    "jupyter": {
     "source_hidden": true
    },
    "tags": []
   },
   "outputs": [],
   "source": [
    "def PCA(stimulus_responses):\n",
    "    '''\n",
    "    Computes principle components using eigenvalue decomposition\n",
    "    \n",
    "    Parameters\n",
    "    ----------\n",
    "    stimulus_responses : array_like\n",
    "            2-D array of average trial_response values where stimulus_responses[n,m]\n",
    "            is the average trial_response value of cell n stimulus m\n",
    "                        \n",
    "    Returns\n",
    "    -------\n",
    "    D : array_like\n",
    "            1_D array of eigenvalues, each repeated according to its multiplicity.\n",
    "    U : array_like\n",
    "            The unit eigenvectors, where U[:,n] is the eigenvector corresponding eigenvalue D[n]\n",
    "    '''\n",
    "    mu = np.mean(stimulus_responses,axis=0)\n",
    "    stimulus_responses_centered = stimulus_responses - mu\n",
    "    cov = np.cov(stimulus_responses_centered.T)\n",
    "    \n",
    "    # perform the eigendecomposition of the data covariance\n",
    "    D, U = np.linalg.eig(cov) # D = vector of eigenvalues, U = eigenvectors matrix\n",
    "\n",
    "    # make sure the eigenvalues are sorted (in descending order)\n",
    "    indx = np.argsort(D)[::-1]\n",
    "    D = D[indx]\n",
    "\n",
    "    # arrange the eigenvectors according to the magnitude of the eigenvalues\n",
    "    U = U[:,indx]\n",
    "    \n",
    "    return D, U"
   ]
  },
  {
   "cell_type": "code",
   "execution_count": 78,
   "id": "1b12e3cf",
   "metadata": {
    "tags": []
   },
   "outputs": [],
   "source": [
    "def get_required_dimensions(D : np.ndarray, required_variance : float = 0.95):\n",
    "    '''\n",
    "    Computes number of dimensions required to explain required_variance\n",
    "    \n",
    "    Parameters\n",
    "    ----------\n",
    "    D : array_like\n",
    "        1_D array of eigenvalues, each repeated according to its multiplicity.\n",
    "    required_variance : float\n",
    "        Proportion of variance required to be explained, default is 0.95 \n",
    "    Returns\n",
    "    -------\n",
    "    required_dimensions : int\n",
    "        Number of dimensions required to explain required_variance\n",
    "    '''\n",
    "    explained_var = D.cumsum() / D.sum()\n",
    "    required_dimensions = bisect.bisect_left(explained_var, required_variance) + 1\n",
    "    \n",
    "    return required_dimensions"
   ]
  },
  {
   "cell_type": "code",
   "execution_count": 79,
   "id": "8a959203",
   "metadata": {
    "tags": []
   },
   "outputs": [],
   "source": [
    "boc = init_boc()"
   ]
  },
  {
   "cell_type": "code",
   "execution_count": 80,
   "id": "3c050952",
   "metadata": {
    "tags": []
   },
   "outputs": [],
   "source": [
    "cre_line = [boc.get_all_cre_lines()[1]] # 'Emx1-IRES-Cre'\n",
    "imaging_depth = boc.get_all_imaging_depths()[:7] # 175 - 250\n",
    "stimulus = ['natural_scenes']"
   ]
  },
  {
   "cell_type": "code",
   "execution_count": 81,
   "id": "e82146ec",
   "metadata": {},
   "outputs": [
    {
     "data": {
      "text/plain": [
       "{'VISal': [562172003, 560802931],\n",
       " 'VISam': [567709426],\n",
       " 'VISl': [548227481, 557956194, 583301416, 567734055, 561405713],\n",
       " 'VISp': [526928092, 541048140, 544507627],\n",
       " 'VISpm': [562296530, 574824922],\n",
       " 'VISrl': [578220711, 601328878, 574685634, 573864650]}"
      ]
     },
     "execution_count": 81,
     "metadata": {},
     "output_type": "execute_result"
    }
   ],
   "source": [
    "session_ids = get_session_ids(cre_line, imaging_depth, stimulus)\n",
    "session_ids"
   ]
  },
  {
   "cell_type": "code",
   "execution_count": 83,
   "id": "fad028bf",
   "metadata": {},
   "outputs": [
    {
     "data": {
      "text/plain": [
       "{'VISal': [18, 22],\n",
       " 'VISam': [5],\n",
       " 'VISl': [25, 30, 16, 28, 16],\n",
       " 'VISp': [47, 52, 31],\n",
       " 'VISpm': [3, 14],\n",
       " 'VISrl': [16, 53, 31, 10]}"
      ]
     },
     "execution_count": 83,
     "metadata": {},
     "output_type": "execute_result"
    }
   ],
   "source": [
    "dimensionality = {}\n",
    "for area in session_ids.keys():\n",
    "    dimensions = []\n",
    "    for session_id in session_ids[area]:\n",
    "        data_set = boc.get_ophys_experiment_data(ophys_experiment_id=session_id)\n",
    "        stim_table, events = get_tables(data_set)\n",
    "        trial_responses = get_trial_respones(stim_table, events)\n",
    "        outliers = get_outlier_trials(trial_responses)\n",
    "        stimulus_responses = get_stimulus_responses(trial_responses, stim_table, group_by='frame', outliers=outliers)\n",
    "        D, U = PCA(stimulus_responses)\n",
    "        required_dimensions = get_required_dimensions(D)\n",
    "        dimensions.append(required_dimensions)\n",
    "    dimensionality[area] = dimensions\n",
    "\n",
    "dimensionality"
   ]
  },
  {
   "cell_type": "code",
   "execution_count": null,
   "id": "86b71da4",
   "metadata": {},
   "outputs": [],
   "source": []
  }
 ],
 "metadata": {
  "kernelspec": {
   "display_name": "Python 3",
   "language": "python",
   "name": "python3"
  },
  "language_info": {
   "codemirror_mode": {
    "name": "ipython",
    "version": 3
   },
   "file_extension": ".py",
   "mimetype": "text/x-python",
   "name": "python",
   "nbconvert_exporter": "python",
   "pygments_lexer": "ipython3",
   "version": "3.8.5"
  }
 },
 "nbformat": 4,
 "nbformat_minor": 5
}
